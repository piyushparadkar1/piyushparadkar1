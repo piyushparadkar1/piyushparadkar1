{
  "nbformat": 4,
  "nbformat_minor": 5,
  "metadata": {
    "colab": {
      "provenance": [],
      "collapsed_sections": [],
      "include_colab_link": true
    },
    "kernelspec": {
      "display_name": "Python 3",
      "language": "python",
      "name": "python3"
    },
    "language_info": {
      "codemirror_mode": {
        "name": "ipython",
        "version": 3
      },
      "file_extension": ".py",
      "mimetype": "text/x-python",
      "name": "python",
      "nbconvert_exporter": "python",
      "pygments_lexer": "ipython3",
      "version": "3.6.7rc1"
    }
  },
  "cells": [
    {
      "cell_type": "markdown",
      "metadata": {
        "id": "view-in-github",
        "colab_type": "text"
      },
      "source": [
        "<a href=\"https://colab.research.google.com/github/piyushparadkar1/piyushparadkar1/blob/main/Cohort11_M3_NB_MiniProject_02_MLR_MPI_OpenMP.ipynb\" target=\"_parent\"><img src=\"https://colab.research.google.com/assets/colab-badge.svg\" alt=\"Open In Colab\"/></a>"
      ]
    },
    {
      "cell_type": "markdown",
      "metadata": {
        "id": "heated-queens"
      },
      "source": [
        "# Advanced Certification Program in Computational Data Science\n",
        "## A program by IISc and TalentSprint\n",
        "### Mini-Project: Implementation of Multiple Linear Regression using MPI and OpenMP"
      ],
      "id": "heated-queens"
    },
    {
      "cell_type": "markdown",
      "metadata": {
        "id": "military-proportion"
      },
      "source": [
        "## Learning Objectives"
      ],
      "id": "military-proportion"
    },
    {
      "cell_type": "markdown",
      "metadata": {
        "id": "durable-grounds"
      },
      "source": [
        "At the end of the mini-project, you will be able to :\n",
        "\n",
        "* understand the collective communication operations like scatter, gather, broadcast \n",
        "* understand the blocking and non-blocking communication\n",
        "* implement multiple linear regression and run it using MPI\n",
        "* implement the multiple linear regression based predictions using OpenMP"
      ],
      "id": "durable-grounds"
    },
    {
      "cell_type": "markdown",
      "metadata": {
        "id": "growing-queens"
      },
      "source": [
        "### Dataset"
      ],
      "id": "growing-queens"
    },
    {
      "cell_type": "markdown",
      "metadata": {
        "id": "yLwz-D_xVT8o"
      },
      "source": [
        "The dataset chosen for this mini-project is [Combined Cycle Power Plant](https://archive.ics.uci.edu/ml/datasets/combined+cycle+power+plant). The dataset is made up of 9568 records and 5 columns. Each record contains the values for Ambient Temperature, Exhaust Vaccum, Ambient Pressure, Relative Humidity and Energy Output. \n",
        "\n",
        "Predicting full load electrical power output of a base load power plant is important in order to maximize the profit from the available megawatt hours.  The base load operation of a power plant is influenced by four main parameters, which are used as input variables in the dataset, such as ambient temperature, atmospheric pressure, relative humidity, and exhaust steam pressure. These parameters affect electrical power output, which is considered as the target variable.\n",
        "\n",
        "**Note:** The data was collected over a six year period (2006-11)."
      ],
      "id": "yLwz-D_xVT8o"
    },
    {
      "cell_type": "markdown",
      "metadata": {
        "id": "dominant-residence"
      },
      "source": [
        "## Information"
      ],
      "id": "dominant-residence"
    },
    {
      "cell_type": "markdown",
      "metadata": {
        "id": "coated-timing"
      },
      "source": [
        "#### MPI in a Nutshell\n",
        "\n",
        "MPI stands for \"Message Passing Interface\". It is a library of functions (in C / Python) or subroutines (in Fortran) that you insert into source code to perform data communication between processes. MPI was developed over two years of discussions led by the MPI Forum, a group of roughly sixty people representing some forty organizations.\n",
        "\n",
        "To know more about MPI click [here](https://hpc-tutorials.llnl.gov/mpi/)\n",
        "\n",
        "\n",
        "#### Multiple Linear Regression\n",
        "\n",
        "Multiple regression is an extension of simple linear regression. It is used when we want to predict the value of a variable based on the value of two or more other variables. The variable we want to predict is called the dependent variable (or sometimes, the outcome, target or criterion variable). The variables we are using to predict the value of the dependent variable are called the independent variables (or sometimes, the predictor, explanatory or regressor variables)."
      ],
      "id": "coated-timing"
    },
    {
      "cell_type": "markdown",
      "metadata": {
        "id": "global-savings"
      },
      "source": [
        "**Note:** We will be using the mpi4py Python package for MPI based code implementation"
      ],
      "id": "global-savings"
    },
    {
      "cell_type": "markdown",
      "metadata": {
        "id": "ndQNKsjS7c04"
      },
      "source": [
        "## Grading = 20 Points"
      ],
      "id": "ndQNKsjS7c04"
    },
    {
      "cell_type": "markdown",
      "metadata": {
        "id": "green-deviation"
      },
      "source": [
        "**Run the below code to install mpi4py package**"
      ],
      "id": "green-deviation"
    },
    {
      "cell_type": "code",
      "metadata": {
        "id": "designing-marketing",
        "scrolled": true,
        "colab": {
          "base_uri": "https://localhost:8080/"
        },
        "outputId": "057dcaff-9304-4b97-8c87-70453a331b07"
      },
      "source": [
        "!pip install mpi4py"
      ],
      "id": "designing-marketing",
      "execution_count": null,
      "outputs": [
        {
          "output_type": "stream",
          "name": "stdout",
          "text": [
            "Looking in indexes: https://pypi.org/simple, https://us-python.pkg.dev/colab-wheels/public/simple/\n",
            "Requirement already satisfied: mpi4py in /usr/local/lib/python3.7/dist-packages (3.1.3)\n"
          ]
        }
      ]
    },
    {
      "cell_type": "markdown",
      "metadata": {
        "id": "dedicated-thong"
      },
      "source": [
        "#### Importing Necessary Packages"
      ],
      "id": "dedicated-thong"
    },
    {
      "cell_type": "code",
      "metadata": {
        "id": "reported-acrobat",
        "scrolled": true
      },
      "source": [
        "# Importing pandas\n",
        "import pandas as pd \n",
        "# Importing Numpy\n",
        "import numpy as np \n",
        "# Importing MPI from mpi4py package\n",
        "from mpi4py import MPI \n",
        "# Importing sqrt function from the Math\n",
        "from math import sqrt \n",
        "# Importing Decimal, ROUND_HALF_UP functions from the decimal package\n",
        "from decimal import Decimal, ROUND_HALF_UP \n",
        "import time"
      ],
      "id": "reported-acrobat",
      "execution_count": null,
      "outputs": []
    },
    {
      "cell_type": "markdown",
      "metadata": {
        "id": "standing-zimbabwe"
      },
      "source": [
        "#### Downloading the data"
      ],
      "id": "standing-zimbabwe"
    },
    {
      "cell_type": "code",
      "metadata": {
        "id": "universal-jonathan",
        "scrolled": true
      },
      "source": [
        "#@title Download the data\n",
        "!wget -qq https://cdn.iisc.talentsprint.com/CDS/Datasets/PowerPlantData.csv"
      ],
      "id": "universal-jonathan",
      "execution_count": null,
      "outputs": []
    },
    {
      "cell_type": "markdown",
      "metadata": {
        "id": "forty-still"
      },
      "source": [
        "### Overview\n",
        "\n",
        "* Load the data and perform data pre-processing\n",
        "* Identify the features, target and split the data into train and test\n",
        "* Implement multiple Linear Regression by estimating the coefficients on the given data\n",
        "* Use MPI package to distribute the data and implement `communicator`\n",
        "* Define functions for each objective and make a script (.py) file to execute using MPI command\n",
        "* Use OpenMP component to predict the data and calculate the error on the predicted data\n",
        "* Implement the Linear Regression from `sklearn` and compare the results"
      ],
      "id": "forty-still"
    },
    {
      "cell_type": "markdown",
      "metadata": {
        "id": "early-peace"
      },
      "source": [
        "#### Exercise 1: Load data (1 point)\n",
        "\n",
        "Write a function that takes the filename as input and loads the data in a pandas dataframe with the column names as Ambient Temperature, Exhaust Vaccum, Ambient Pressure, Relative Humidity and Energy Output respectively.\n",
        "\n",
        "**Hint:** read_csv()\n"
      ],
      "id": "early-peace"
    },
    {
      "cell_type": "code",
      "metadata": {
        "id": "differential-vacation",
        "scrolled": true
      },
      "source": [
        "FILENAME = \"https://cdn.iisc.talentsprint.com/CDS/Datasets/PowerPlantData.csv\" # File path\n",
        "\n",
        "# YOUR CODE HERE to Define a function to load the data"
      ],
      "id": "differential-vacation",
      "execution_count": null,
      "outputs": []
    },
    {
      "cell_type": "markdown",
      "metadata": {
        "id": "italian-expense"
      },
      "source": [
        "#### Exercise 2: Explore data (1 point)\n",
        "\n",
        "Write a function that takes the data loaded using the above defined function as input and explore it.\n",
        "\n",
        "**Hint:** You can define and check for following things in the dataset inside a function\n",
        "\n",
        "- checking for the number of rows and columns\n",
        "- summary of the dataset\n",
        "- check for the null values \n",
        "- check for the duplicate values"
      ],
      "id": "italian-expense"
    },
    {
      "cell_type": "code",
      "metadata": {
        "id": "local-quarter",
        "scrolled": true,
        "colab": {
          "base_uri": "https://localhost:8080/"
        },
        "outputId": "b2e4d0db-5142-4e1d-d1fb-a02b59efcf35"
      },
      "source": [
        "# YOUR CODE HERE  \n",
        "def loadData(filename):\n",
        "  data = pd.read_csv(filename)\n",
        "  rows, cols = data.shape\n",
        "  # print(f\"dimension: rows:{rows} and cols:{cols}\")\n",
        "  # print(data.isnull().sum())\n",
        "  # print(data.describe())\n",
        "  if data.duplicated().sum() >0:\n",
        "    data = data.drop_duplicates()\n",
        "  data.rename(columns = {'AT':'AmbientTemperature', 'V':'ExhaustVaccum', 'AP':'AbmientPressure', 'RH':'RelativeHumidity', 'PE':'EnergyOutput'}, inplace = True)\n",
        "  return data\n",
        "df = loadData(FILENAME)\n",
        "df.shape\n",
        "\n"
      ],
      "id": "local-quarter",
      "execution_count": null,
      "outputs": [
        {
          "output_type": "execute_result",
          "data": {
            "text/plain": [
              "(9527, 5)"
            ]
          },
          "metadata": {},
          "execution_count": 61
        }
      ]
    },
    {
      "cell_type": "code",
      "source": [
        "df.head()"
      ],
      "metadata": {
        "colab": {
          "base_uri": "https://localhost:8080/",
          "height": 206
        },
        "id": "vpgWdwkB8VIU",
        "outputId": "bbad890c-fecb-49e4-b875-1ebdc1dde957"
      },
      "id": "vpgWdwkB8VIU",
      "execution_count": null,
      "outputs": [
        {
          "output_type": "execute_result",
          "data": {
            "text/plain": [
              "   AmbientTemperature  ExhaustVaccum  AbmientPressure  RelativeHumidity  \\\n",
              "0                8.34          40.77          1010.84             90.01   \n",
              "1               23.64          58.49          1011.40             74.20   \n",
              "2               29.74          56.90          1007.15             41.91   \n",
              "3               19.07          49.69          1007.22             76.79   \n",
              "4               11.80          40.66          1017.13             97.20   \n",
              "\n",
              "   EnergyOutput  \n",
              "0        480.48  \n",
              "1        445.75  \n",
              "2        438.76  \n",
              "3        453.09  \n",
              "4        464.43  "
            ],
            "text/html": [
              "\n",
              "  <div id=\"df-ae87dced-abe8-42ea-9fa1-d16b619cd0e5\">\n",
              "    <div class=\"colab-df-container\">\n",
              "      <div>\n",
              "<style scoped>\n",
              "    .dataframe tbody tr th:only-of-type {\n",
              "        vertical-align: middle;\n",
              "    }\n",
              "\n",
              "    .dataframe tbody tr th {\n",
              "        vertical-align: top;\n",
              "    }\n",
              "\n",
              "    .dataframe thead th {\n",
              "        text-align: right;\n",
              "    }\n",
              "</style>\n",
              "<table border=\"1\" class=\"dataframe\">\n",
              "  <thead>\n",
              "    <tr style=\"text-align: right;\">\n",
              "      <th></th>\n",
              "      <th>AmbientTemperature</th>\n",
              "      <th>ExhaustVaccum</th>\n",
              "      <th>AbmientPressure</th>\n",
              "      <th>RelativeHumidity</th>\n",
              "      <th>EnergyOutput</th>\n",
              "    </tr>\n",
              "  </thead>\n",
              "  <tbody>\n",
              "    <tr>\n",
              "      <th>0</th>\n",
              "      <td>8.34</td>\n",
              "      <td>40.77</td>\n",
              "      <td>1010.84</td>\n",
              "      <td>90.01</td>\n",
              "      <td>480.48</td>\n",
              "    </tr>\n",
              "    <tr>\n",
              "      <th>1</th>\n",
              "      <td>23.64</td>\n",
              "      <td>58.49</td>\n",
              "      <td>1011.40</td>\n",
              "      <td>74.20</td>\n",
              "      <td>445.75</td>\n",
              "    </tr>\n",
              "    <tr>\n",
              "      <th>2</th>\n",
              "      <td>29.74</td>\n",
              "      <td>56.90</td>\n",
              "      <td>1007.15</td>\n",
              "      <td>41.91</td>\n",
              "      <td>438.76</td>\n",
              "    </tr>\n",
              "    <tr>\n",
              "      <th>3</th>\n",
              "      <td>19.07</td>\n",
              "      <td>49.69</td>\n",
              "      <td>1007.22</td>\n",
              "      <td>76.79</td>\n",
              "      <td>453.09</td>\n",
              "    </tr>\n",
              "    <tr>\n",
              "      <th>4</th>\n",
              "      <td>11.80</td>\n",
              "      <td>40.66</td>\n",
              "      <td>1017.13</td>\n",
              "      <td>97.20</td>\n",
              "      <td>464.43</td>\n",
              "    </tr>\n",
              "  </tbody>\n",
              "</table>\n",
              "</div>\n",
              "      <button class=\"colab-df-convert\" onclick=\"convertToInteractive('df-ae87dced-abe8-42ea-9fa1-d16b619cd0e5')\"\n",
              "              title=\"Convert this dataframe to an interactive table.\"\n",
              "              style=\"display:none;\">\n",
              "        \n",
              "  <svg xmlns=\"http://www.w3.org/2000/svg\" height=\"24px\"viewBox=\"0 0 24 24\"\n",
              "       width=\"24px\">\n",
              "    <path d=\"M0 0h24v24H0V0z\" fill=\"none\"/>\n",
              "    <path d=\"M18.56 5.44l.94 2.06.94-2.06 2.06-.94-2.06-.94-.94-2.06-.94 2.06-2.06.94zm-11 1L8.5 8.5l.94-2.06 2.06-.94-2.06-.94L8.5 2.5l-.94 2.06-2.06.94zm10 10l.94 2.06.94-2.06 2.06-.94-2.06-.94-.94-2.06-.94 2.06-2.06.94z\"/><path d=\"M17.41 7.96l-1.37-1.37c-.4-.4-.92-.59-1.43-.59-.52 0-1.04.2-1.43.59L10.3 9.45l-7.72 7.72c-.78.78-.78 2.05 0 2.83L4 21.41c.39.39.9.59 1.41.59.51 0 1.02-.2 1.41-.59l7.78-7.78 2.81-2.81c.8-.78.8-2.07 0-2.86zM5.41 20L4 18.59l7.72-7.72 1.47 1.35L5.41 20z\"/>\n",
              "  </svg>\n",
              "      </button>\n",
              "      \n",
              "  <style>\n",
              "    .colab-df-container {\n",
              "      display:flex;\n",
              "      flex-wrap:wrap;\n",
              "      gap: 12px;\n",
              "    }\n",
              "\n",
              "    .colab-df-convert {\n",
              "      background-color: #E8F0FE;\n",
              "      border: none;\n",
              "      border-radius: 50%;\n",
              "      cursor: pointer;\n",
              "      display: none;\n",
              "      fill: #1967D2;\n",
              "      height: 32px;\n",
              "      padding: 0 0 0 0;\n",
              "      width: 32px;\n",
              "    }\n",
              "\n",
              "    .colab-df-convert:hover {\n",
              "      background-color: #E2EBFA;\n",
              "      box-shadow: 0px 1px 2px rgba(60, 64, 67, 0.3), 0px 1px 3px 1px rgba(60, 64, 67, 0.15);\n",
              "      fill: #174EA6;\n",
              "    }\n",
              "\n",
              "    [theme=dark] .colab-df-convert {\n",
              "      background-color: #3B4455;\n",
              "      fill: #D2E3FC;\n",
              "    }\n",
              "\n",
              "    [theme=dark] .colab-df-convert:hover {\n",
              "      background-color: #434B5C;\n",
              "      box-shadow: 0px 1px 3px 1px rgba(0, 0, 0, 0.15);\n",
              "      filter: drop-shadow(0px 1px 2px rgba(0, 0, 0, 0.3));\n",
              "      fill: #FFFFFF;\n",
              "    }\n",
              "  </style>\n",
              "\n",
              "      <script>\n",
              "        const buttonEl =\n",
              "          document.querySelector('#df-ae87dced-abe8-42ea-9fa1-d16b619cd0e5 button.colab-df-convert');\n",
              "        buttonEl.style.display =\n",
              "          google.colab.kernel.accessAllowed ? 'block' : 'none';\n",
              "\n",
              "        async function convertToInteractive(key) {\n",
              "          const element = document.querySelector('#df-ae87dced-abe8-42ea-9fa1-d16b619cd0e5');\n",
              "          const dataTable =\n",
              "            await google.colab.kernel.invokeFunction('convertToInteractive',\n",
              "                                                     [key], {});\n",
              "          if (!dataTable) return;\n",
              "\n",
              "          const docLinkHtml = 'Like what you see? Visit the ' +\n",
              "            '<a target=\"_blank\" href=https://colab.research.google.com/notebooks/data_table.ipynb>data table notebook</a>'\n",
              "            + ' to learn more about interactive tables.';\n",
              "          element.innerHTML = '';\n",
              "          dataTable['output_type'] = 'display_data';\n",
              "          await google.colab.output.renderOutput(dataTable, element);\n",
              "          const docLink = document.createElement('div');\n",
              "          docLink.innerHTML = docLinkHtml;\n",
              "          element.appendChild(docLink);\n",
              "        }\n",
              "      </script>\n",
              "    </div>\n",
              "  </div>\n",
              "  "
            ]
          },
          "metadata": {},
          "execution_count": 62
        }
      ]
    },
    {
      "cell_type": "markdown",
      "metadata": {
        "id": "whole-retailer"
      },
      "source": [
        "#### Exercise 3: Handle missing data (1 point)\n",
        "\n",
        "After exploring the dataset if there are any null values present in the dataset then define a function that takes data loaded using the above defined function as input and handle the null values accordingly.\n",
        "\n",
        "**Hint:** \n",
        "\n",
        "- Drop the records containing the null values - dropna()\n",
        "- Replace the null values with the mean/median/mode - fillna()"
      ],
      "id": "whole-retailer"
    },
    {
      "cell_type": "code",
      "metadata": {
        "id": "incorporated-child",
        "scrolled": true
      },
      "source": [
        "# Function to handle missing data\n",
        "\n",
        "# YOUR CODE HERE\n",
        "def removena(data):\n",
        "  for col in data:\n",
        "    if data[col].isna().sum()>0:\n",
        "      data[col] = data[col].filna(data[col].mean())\n",
        "      \n",
        "  return data\n",
        "\n",
        "  "
      ],
      "id": "incorporated-child",
      "execution_count": null,
      "outputs": []
    },
    {
      "cell_type": "markdown",
      "metadata": {
        "id": "loaded-arbitration"
      },
      "source": [
        "#### Exercise 4: Scale the data (1 point)\n",
        "\n",
        "Write a function that takes the data after handling the missing data as input and returns the standardized data.\n",
        "\n",
        "**Hint:**\n",
        "\n",
        "- standardization of the data  can be performed using the below formula\n",
        "\n",
        "$ (x - mean(x)) / std(x) $ "
      ],
      "id": "loaded-arbitration"
    },
    {
      "cell_type": "code",
      "source": [],
      "metadata": {
        "id": "54h2Ic29vhgs"
      },
      "id": "54h2Ic29vhgs",
      "execution_count": null,
      "outputs": []
    },
    {
      "cell_type": "code",
      "metadata": {
        "id": "extraordinary-qatar",
        "scrolled": true
      },
      "source": [
        "# Defining a function to standardize the data\n",
        "\n",
        "# YOUR CODE HERE\n",
        "\n",
        "def scaleData(data):\n",
        "  for col in data:\n",
        "    data[col] = (data[col] - data[col].mean()) / data[col].std()\n",
        "  return data\n",
        "\n",
        "  "
      ],
      "id": "extraordinary-qatar",
      "execution_count": null,
      "outputs": []
    },
    {
      "cell_type": "markdown",
      "metadata": {
        "id": "thermal-rehabilitation"
      },
      "source": [
        "#### Exercise 5: Feature selection (1 point)\n",
        "\n",
        "Write a function that takes scaled data as input and returns the features and target variable values\n",
        "\n",
        "**Hint:**\n",
        "\n",
        "- Features: AmbientTemperature, ExhaustVaccum, AmbientPressure, RelativeHumidity \n",
        "- Target Variable: EnergyOutput"
      ],
      "id": "thermal-rehabilitation"
    },
    {
      "cell_type": "code",
      "metadata": {
        "id": "terminal-starter",
        "scrolled": true
      },
      "source": [
        "# Define a function\n",
        "\n",
        "# YOUR CODE HERE\n",
        "def selectFeature(data):\n",
        "  X, y = data.iloc[:,:-1], data.iloc[:, -1]\n",
        "  return X, y"
      ],
      "id": "terminal-starter",
      "execution_count": null,
      "outputs": []
    },
    {
      "cell_type": "markdown",
      "metadata": {
        "id": "timely-bruce"
      },
      "source": [
        "#### Exercise 6: Correlation (1 point)\n",
        "\n",
        "Calculate correlation between the variables"
      ],
      "id": "timely-bruce"
    },
    {
      "cell_type": "code",
      "metadata": {
        "id": "durable-making",
        "scrolled": true,
        "colab": {
          "base_uri": "https://localhost:8080/",
          "height": 206
        },
        "outputId": "4cc503c2-6d7e-471d-ed37-d7da4533ba6e"
      },
      "source": [
        "# YOUR CODE HERE \n",
        "data = loadData(FILENAME)\n",
        "data = removena(data)\n",
        "df = scaleData(data)\n",
        "df.corr()"
      ],
      "id": "durable-making",
      "execution_count": null,
      "outputs": [
        {
          "output_type": "execute_result",
          "data": {
            "text/plain": [
              "                    AmbientTemperature  ExhaustVaccum  AbmientPressure  \\\n",
              "AmbientTemperature            1.000000       0.843689        -0.508222   \n",
              "ExhaustVaccum                 0.843689       1.000000        -0.415718   \n",
              "AbmientPressure              -0.508222      -0.415718         1.000000   \n",
              "RelativeHumidity             -0.543947      -0.312214         0.101631   \n",
              "EnergyOutput                 -0.947908      -0.869900         0.518687   \n",
              "\n",
              "                    RelativeHumidity  EnergyOutput  \n",
              "AmbientTemperature         -0.543947     -0.947908  \n",
              "ExhaustVaccum              -0.312214     -0.869900  \n",
              "AbmientPressure             0.101631      0.518687  \n",
              "RelativeHumidity            1.000000      0.391175  \n",
              "EnergyOutput                0.391175      1.000000  "
            ],
            "text/html": [
              "\n",
              "  <div id=\"df-36ed06b2-6f6f-4716-ab89-de5450869f76\">\n",
              "    <div class=\"colab-df-container\">\n",
              "      <div>\n",
              "<style scoped>\n",
              "    .dataframe tbody tr th:only-of-type {\n",
              "        vertical-align: middle;\n",
              "    }\n",
              "\n",
              "    .dataframe tbody tr th {\n",
              "        vertical-align: top;\n",
              "    }\n",
              "\n",
              "    .dataframe thead th {\n",
              "        text-align: right;\n",
              "    }\n",
              "</style>\n",
              "<table border=\"1\" class=\"dataframe\">\n",
              "  <thead>\n",
              "    <tr style=\"text-align: right;\">\n",
              "      <th></th>\n",
              "      <th>AmbientTemperature</th>\n",
              "      <th>ExhaustVaccum</th>\n",
              "      <th>AbmientPressure</th>\n",
              "      <th>RelativeHumidity</th>\n",
              "      <th>EnergyOutput</th>\n",
              "    </tr>\n",
              "  </thead>\n",
              "  <tbody>\n",
              "    <tr>\n",
              "      <th>AmbientTemperature</th>\n",
              "      <td>1.000000</td>\n",
              "      <td>0.843689</td>\n",
              "      <td>-0.508222</td>\n",
              "      <td>-0.543947</td>\n",
              "      <td>-0.947908</td>\n",
              "    </tr>\n",
              "    <tr>\n",
              "      <th>ExhaustVaccum</th>\n",
              "      <td>0.843689</td>\n",
              "      <td>1.000000</td>\n",
              "      <td>-0.415718</td>\n",
              "      <td>-0.312214</td>\n",
              "      <td>-0.869900</td>\n",
              "    </tr>\n",
              "    <tr>\n",
              "      <th>AbmientPressure</th>\n",
              "      <td>-0.508222</td>\n",
              "      <td>-0.415718</td>\n",
              "      <td>1.000000</td>\n",
              "      <td>0.101631</td>\n",
              "      <td>0.518687</td>\n",
              "    </tr>\n",
              "    <tr>\n",
              "      <th>RelativeHumidity</th>\n",
              "      <td>-0.543947</td>\n",
              "      <td>-0.312214</td>\n",
              "      <td>0.101631</td>\n",
              "      <td>1.000000</td>\n",
              "      <td>0.391175</td>\n",
              "    </tr>\n",
              "    <tr>\n",
              "      <th>EnergyOutput</th>\n",
              "      <td>-0.947908</td>\n",
              "      <td>-0.869900</td>\n",
              "      <td>0.518687</td>\n",
              "      <td>0.391175</td>\n",
              "      <td>1.000000</td>\n",
              "    </tr>\n",
              "  </tbody>\n",
              "</table>\n",
              "</div>\n",
              "      <button class=\"colab-df-convert\" onclick=\"convertToInteractive('df-36ed06b2-6f6f-4716-ab89-de5450869f76')\"\n",
              "              title=\"Convert this dataframe to an interactive table.\"\n",
              "              style=\"display:none;\">\n",
              "        \n",
              "  <svg xmlns=\"http://www.w3.org/2000/svg\" height=\"24px\"viewBox=\"0 0 24 24\"\n",
              "       width=\"24px\">\n",
              "    <path d=\"M0 0h24v24H0V0z\" fill=\"none\"/>\n",
              "    <path d=\"M18.56 5.44l.94 2.06.94-2.06 2.06-.94-2.06-.94-.94-2.06-.94 2.06-2.06.94zm-11 1L8.5 8.5l.94-2.06 2.06-.94-2.06-.94L8.5 2.5l-.94 2.06-2.06.94zm10 10l.94 2.06.94-2.06 2.06-.94-2.06-.94-.94-2.06-.94 2.06-2.06.94z\"/><path d=\"M17.41 7.96l-1.37-1.37c-.4-.4-.92-.59-1.43-.59-.52 0-1.04.2-1.43.59L10.3 9.45l-7.72 7.72c-.78.78-.78 2.05 0 2.83L4 21.41c.39.39.9.59 1.41.59.51 0 1.02-.2 1.41-.59l7.78-7.78 2.81-2.81c.8-.78.8-2.07 0-2.86zM5.41 20L4 18.59l7.72-7.72 1.47 1.35L5.41 20z\"/>\n",
              "  </svg>\n",
              "      </button>\n",
              "      \n",
              "  <style>\n",
              "    .colab-df-container {\n",
              "      display:flex;\n",
              "      flex-wrap:wrap;\n",
              "      gap: 12px;\n",
              "    }\n",
              "\n",
              "    .colab-df-convert {\n",
              "      background-color: #E8F0FE;\n",
              "      border: none;\n",
              "      border-radius: 50%;\n",
              "      cursor: pointer;\n",
              "      display: none;\n",
              "      fill: #1967D2;\n",
              "      height: 32px;\n",
              "      padding: 0 0 0 0;\n",
              "      width: 32px;\n",
              "    }\n",
              "\n",
              "    .colab-df-convert:hover {\n",
              "      background-color: #E2EBFA;\n",
              "      box-shadow: 0px 1px 2px rgba(60, 64, 67, 0.3), 0px 1px 3px 1px rgba(60, 64, 67, 0.15);\n",
              "      fill: #174EA6;\n",
              "    }\n",
              "\n",
              "    [theme=dark] .colab-df-convert {\n",
              "      background-color: #3B4455;\n",
              "      fill: #D2E3FC;\n",
              "    }\n",
              "\n",
              "    [theme=dark] .colab-df-convert:hover {\n",
              "      background-color: #434B5C;\n",
              "      box-shadow: 0px 1px 3px 1px rgba(0, 0, 0, 0.15);\n",
              "      filter: drop-shadow(0px 1px 2px rgba(0, 0, 0, 0.3));\n",
              "      fill: #FFFFFF;\n",
              "    }\n",
              "  </style>\n",
              "\n",
              "      <script>\n",
              "        const buttonEl =\n",
              "          document.querySelector('#df-36ed06b2-6f6f-4716-ab89-de5450869f76 button.colab-df-convert');\n",
              "        buttonEl.style.display =\n",
              "          google.colab.kernel.accessAllowed ? 'block' : 'none';\n",
              "\n",
              "        async function convertToInteractive(key) {\n",
              "          const element = document.querySelector('#df-36ed06b2-6f6f-4716-ab89-de5450869f76');\n",
              "          const dataTable =\n",
              "            await google.colab.kernel.invokeFunction('convertToInteractive',\n",
              "                                                     [key], {});\n",
              "          if (!dataTable) return;\n",
              "\n",
              "          const docLinkHtml = 'Like what you see? Visit the ' +\n",
              "            '<a target=\"_blank\" href=https://colab.research.google.com/notebooks/data_table.ipynb>data table notebook</a>'\n",
              "            + ' to learn more about interactive tables.';\n",
              "          element.innerHTML = '';\n",
              "          dataTable['output_type'] = 'display_data';\n",
              "          await google.colab.output.renderOutput(dataTable, element);\n",
              "          const docLink = document.createElement('div');\n",
              "          docLink.innerHTML = docLinkHtml;\n",
              "          element.appendChild(docLink);\n",
              "        }\n",
              "      </script>\n",
              "    </div>\n",
              "  </div>\n",
              "  "
            ]
          },
          "metadata": {},
          "execution_count": 66
        }
      ]
    },
    {
      "cell_type": "markdown",
      "metadata": {
        "id": "honest-remainder"
      },
      "source": [
        "#### Exercise 7: Estimate the coefficients (2 points)\n",
        "\n",
        "Write a function that takes features and target as input and returns the estimated coefficient values\n",
        "\n",
        "**Hint:**\n",
        "\n",
        "- Calculate the estimated coefficients using the below formula\n",
        "\n",
        "$ β = (X^T X)^{-1} X^T y $ \n",
        "\n",
        "- transpose(), np.linalg.inv()"
      ],
      "id": "honest-remainder"
    },
    {
      "cell_type": "code",
      "metadata": {
        "id": "dimensional-victory",
        "scrolled": true,
        "colab": {
          "base_uri": "https://localhost:8080/"
        },
        "outputId": "f022ed73-130d-454c-c96c-b2cf8e74274b"
      },
      "source": [
        "# Calculating the coeffients\n",
        "\n",
        "# YOUR CODE HERE\n",
        "X, y = selectFeature(df)\n",
        "def EstimatedCoefficent (X, y):\n",
        "    X_transposed = X.transpose() # or X.transpose()\n",
        "#    print (\"X_transposed\\n\", X_transposed)\n",
        "    var = (np.linalg.inv((X_transposed).dot(X)))\n",
        "#    print (\"\\nInverse of X transpose x X\\n\", var)\n",
        "    var2 = var.dot(X_transposed)\n",
        "#    print (\"\\nX transpose x Inverse of X transpose x X\\n\", var2)\n",
        "    final = var2.dot(y)\n",
        "#    print (\"\\ny x X transpose x Inverse of X transpose x X\\n\\n\", final)\n",
        "    return final\n",
        "    \n",
        "# YOUR CODE HERE\n",
        "coefficient = EstimatedCoefficent (X,y)\n",
        "print (\"Estimated Coefficient from features and target is\", coefficient)"
      ],
      "id": "dimensional-victory",
      "execution_count": null,
      "outputs": [
        {
          "output_type": "stream",
          "name": "stdout",
          "text": [
            "Estimated Coefficient from features and target is [-0.86225353 -0.17575667  0.02111203 -0.13486446]\n"
          ]
        }
      ]
    },
    {
      "cell_type": "markdown",
      "metadata": {
        "id": "interior-bennett"
      },
      "source": [
        "#### Exercise 8: Fit the data to estimate the coefficients (2 points)\n",
        "\n",
        "Write a function named fit which takes features and targets as input and returns the intercept and coefficient values.\n",
        "\n",
        "**Hint:**\n",
        "\n",
        "- create a dummy column in the features dataframe which is made up of all ones\n",
        "- convert the features dataframe into numpy array\n",
        "- call the estimated coefficients function which is defined above\n",
        "- np.ones(), np.concatenate()"
      ],
      "id": "interior-bennett"
    },
    {
      "cell_type": "code",
      "source": [
        "df.mean()"
      ],
      "metadata": {
        "colab": {
          "base_uri": "https://localhost:8080/"
        },
        "id": "mzHypkER_WJ8",
        "outputId": "73cc7d36-5a38-45d8-f845-5d42e6c76373"
      },
      "id": "mzHypkER_WJ8",
      "execution_count": null,
      "outputs": [
        {
          "output_type": "execute_result",
          "data": {
            "text/plain": [
              "AmbientTemperature    4.389151e-16\n",
              "ExhaustVaccum        -2.535788e-16\n",
              "AbmientPressure       8.927466e-15\n",
              "RelativeHumidity     -8.875258e-16\n",
              "EnergyOutput          9.867199e-16\n",
              "dtype: float64"
            ]
          },
          "metadata": {},
          "execution_count": 32
        }
      ]
    },
    {
      "cell_type": "code",
      "metadata": {
        "id": "local-texas",
        "scrolled": true,
        "colab": {
          "base_uri": "https://localhost:8080/"
        },
        "outputId": "ef91810d-dd49-40d7-a323-271e9c6018e9"
      },
      "source": [
        "# defining a fit function\n",
        "def fit(X, y):\n",
        "    # YOUR CODE HERE\n",
        "    n = len(X)\n",
        "    # X.loc[:,'dummy'] = np.ones(n)\n",
        "    m = np.ones((n,1))\n",
        "    # print(np.array(X))\n",
        "    X_arr = np.concatenate((m, np.array(X)), axis=1)\n",
        "    \n",
        "    # print(X_arr)\n",
        "    coefficient_arr = EstimatedCoefficent (X_arr,y)\n",
        "    #convert df to array for calculation of mean and std deviation\n",
        "    # print(coefficient_arr)\n",
        "    return coefficient_arr[0], coefficient_arr[1:]\n",
        "#    np.concatenate([np.ones((X_arr.shape[0], 1)), X_arr], axis=1)\n",
        "\n",
        "intercept, coefficient_arr = fit(X, y)\n",
        "print (\"Coefficient\", coefficient_arr)\n",
        "print (\"Intercept\", intercept)"
      ],
      "id": "local-texas",
      "execution_count": null,
      "outputs": [
        {
          "output_type": "stream",
          "name": "stdout",
          "text": [
            "Coefficient [-0.86225353 -0.17575667  0.02111203 -0.13486446]\n",
            "Intercept 1.0181878127082933e-15\n"
          ]
        }
      ]
    },
    {
      "cell_type": "markdown",
      "metadata": {
        "id": "hybrid-quick"
      },
      "source": [
        "#### Exercise 9: Predict the data on estimated coefficients (1 point)\n",
        "\n",
        "Write a function named predict which takes features, intercept and coefficient values as input and returns the predicted values.\n",
        "\n",
        "**Hint:**\n",
        "\n",
        "- Fit the intercept, coefficients values in the below equation\n",
        "\n",
        "  $y = b_0 + b_1*x + ... + b_i*x_i$"
      ],
      "id": "hybrid-quick"
    },
    {
      "cell_type": "code",
      "metadata": {
        "id": "buried-attention",
        "scrolled": true,
        "colab": {
          "base_uri": "https://localhost:8080/"
        },
        "outputId": "ad1c22bb-494a-456e-d284-c9e5bf6ba5e2"
      },
      "source": [
        " # fucntion to predict the values\n",
        "def predict(X, intercept, coefficients):\n",
        "    # getting length of list\n",
        "    X_len = len(X)\n",
        "    predictions = [0] * X_len\n",
        "    # X_arr = X.to_numpy()\n",
        "    for i in range(X_len):\n",
        "        predictions[i] = intercept + X[i][0]*coefficients[0] + X[i][1]*coefficients[1] + X[i][2]*coefficients[2] + X[i][3]*coefficients[3]\n",
        "    return predictions\n",
        "\n",
        "y_pred = predict(np.array(X), intercept, coefficient_arr)\n",
        "print (\"Predicted Y\", y_pred)\n",
        "print (\"Y\", y)"
      ],
      "id": "buried-attention",
      "execution_count": null,
      "outputs": [
        {
          "output_type": "stream",
          "name": "stdout",
          "text": [
            "Predicted Y [1.3305094084381721, -0.5344208289732253, -0.9372366116016007, 0.07631322951459175, 0.8906399947869323, 0.7720604334042337, -0.557652732956667, 0.7560295828893779, -1.2295954763674752, 1.6536523849772529, -1.1904114698805552, -0.06300460679983974, -1.2315586621260528, 1.480778336961257, 0.5959552719808257, -0.34580030115669413, 0.5593754496785835, 0.984571778936522, 1.3752126960526492, 0.01428589691420823, 0.5478978302180093, -1.5937070470758818, -0.8425454971963738, 1.5032890441528803, 0.8933765070715076, 1.7973967654459813, -0.9179988002585519, 1.3889191276216268, -0.23645166936199052, -0.8218040718644881, 0.6253299084667441, -0.2628410781673149, 1.513433941436241, -1.2297861265428105, -1.4401458691619933, 0.6370397251769362, -0.7733231215170496, -0.9047130185568818, 1.4895979207678962, -0.5199603607294254, -1.2505049954178813, -0.5066059639162414, 0.6641060452457661, -0.751340644815795, 0.13486738191818937, -0.9618990208894372, 0.44625831315091075, -0.3850460664005338, 1.4892779520554562, -0.8087688092813592, -0.5767671365708361, -1.0689569558439849, 0.4057761668389629, -1.1188571277952004, -1.390899015395099, 0.4480652954120993, 1.3116558759101846, -0.6805520424007793, 0.4293589903303263, -1.421388957150502, -0.6271267570958331, -0.8708799896412659, 0.6209314606017584, -1.6828863125325242, -1.3135271546787335, -1.1483335976735647, 1.7159906094725514, 0.7201184701978195, 0.1252141610674042, -0.9686157278931067, -0.7644535937742382, -1.753180506213246, -0.34673000330220743, 1.0913042082552802, 1.180093594804053, -0.15455780816290277, -1.314680780813576, -1.3594821847168443, -1.1726429303395283, -1.5960312566513957, 0.2058312016233863, -1.643787959238992, -0.905307361351756, 0.24296067267056537, 0.7193202419858833, 1.635363080312266, -0.8487943925543232, -1.8572034274445628, 1.6471355302024242, -1.060454841659554, -0.7105719031178315, -0.7988977014074445, 0.9487575283552034, 0.20777861549942675, -0.6432378597252918, -0.8391329152978865, -0.1448265121427873, 1.692181373276402, -1.3275979637941924, 1.451908785930574, 0.4355768953294112, -1.0147785411875951, -0.5296222529061897, 1.0099414716257924, 1.245919275965511, 1.1683415686070644, -1.5191072049202063, -1.0855117062899344, -1.3781573248924344, -0.10226782048809069, 0.010255577818025413, -0.6977757230968297, -0.1665420074587965, -0.36636332989817466, 1.4000119754547844, -0.8410638481352837, -0.7740974109080403, -0.4059098643299392, -0.362329816817319, 0.06660468098814848, 0.5512135730659022, 0.9023728755868172, -0.8832539425047722, -0.050740023879720125, -0.5551612202783917, 0.40852813049332504, 0.1019673912353729, 0.6223129896226589, 0.7032211474745068, -1.2254355720482804, 1.0044431552338653, -1.0062500015359124, 0.1590847830344536, 1.5925342793871937, 1.408826194166971, -0.20329243300366467, 0.4403023989473101, 1.2550129705158066, -0.23041728608519477, 1.3501185875325419, 1.6226034948439627, 0.9127370834395551, -0.42616264639486556, 0.6929342971450706, -1.002835582426379, 0.9929436804229843, 0.8594917074603602, -0.5332670898774204, 1.0177442365714202, -0.40065859084414146, 1.3645461769558027, 0.49834399724557066, 0.10264480823761662, 1.295546940080847, 1.0581200332110718, 0.5709559810360517, 0.4979839724201058, -0.48975133869160326, 0.26249817551426313, -0.09861372482167291, 0.9210328944000408, -0.92178202813877, 0.6502459775549292, 0.9280658062469036, 0.8970455058805283, -1.676380117206305, -0.31845101318203944, 1.014946784990487, 0.04784319248592839, 0.4905281400338476, -0.45700508605656787, -0.7741731419626227, 0.8095550529767557, 0.52789000226771, -0.1123071475518631, -1.0143568711347735, 0.7830060585509312, 0.7664793159776785, -1.44632050833362, -0.9149867254793508, -1.719678437028196, -0.7777300465179529, 1.356831334302669, 0.6973448237237061, 0.7403208649163491, 1.2697787093502735, -1.274353088719689, -0.8644725419027418, 1.425319740644914, -0.6036552970984169, -0.26747987811991925, -0.2223494133375297, 0.8564862770028021, -0.5247717095158453, 1.695291397786217, -0.04703379556240245, -0.4624850768201413, -0.5534191343972275, -1.0196805964156221, 1.260667249316333, -0.8117605228643991, -0.6142909002946383, 0.2725866034082112, -1.6302533574574327, 0.8119835715223219, 0.5912975649613285, -1.032351501045225, 1.6800030467485005, 1.6753915900199392, 1.2577961887119269, 0.8264965438066642, -1.291958622044627, 1.754763602611377, -0.90017597942249, -0.5613253153548915, 0.4403438854403168, -1.0259191262372, -0.8629745063002278, 0.9975198615277936, -0.33708507286303085, -0.18735607426189732, -0.2699046764005796, -0.7291145172814172, -0.7263235367001644, 0.4871301700750015, 0.007253661650979876, 0.7671259521466706, -0.22537615073686593, -0.2845110594302058, 1.3751576444686675, -1.123405584665505, -1.4821170646927762, 0.3184330251476962, -0.9465380496317654, 1.1865745129817675, 0.43550934975848254, 0.8364587660533855, -1.1958343965041924, 0.29007504476976914, 1.4335333276068685, -0.9512227848985737, -0.42323715417485713, -0.8708724793844367, -1.173218518659087, 0.32617716906439176, 0.7510048593671941, 1.1400659069033345, -0.02055267534509106, -0.7179622960687925, -0.2430290246265472, -0.39752747549924033, -1.2043371628170179, 1.292528587300655, 0.49093184326791156, -0.5097690845358316, 0.6814080553605721, -0.9061227696658651, 1.3528427892599697, 0.9598639680588299, 0.41425456600685484, -1.6201288036623644, 1.513914496135069, -0.12093810782162158, -0.7549629304764508, -0.1608291994189456, 0.7795109470919279, 1.2016614569295416, -1.0598509231270816, 0.529307536821314, -0.652645582885241, -0.6476142136393817, -1.3701184504625128, -0.00038020486479904865, -1.5620733475339332, -1.5466859590973896, -1.471321370525942, 1.8109639767533148, -1.3805416466663947, -0.8241855135829943, 1.1553979249446857, -0.5888125236784001, 1.1213682688010465, 1.3666131953416811, 0.8327453259868284, -0.8732509591737325, 1.5207377191822105, 0.4092952707521795, -1.1843923521312971, 1.2759529923747592, -1.4341264523894255, -1.480297731998781, -0.06785297851390637, -0.9644098959426373, -1.589426178456963, -0.9712909572698307, 1.9437655593127994, -1.285661743474547, 0.7205138721063769, 0.5652823099313454, 1.3015399381988195, 1.0252615483564487, 1.5049555598740085, 0.018447077051518268, 1.6101057844017117, 1.318208269361967, 0.16813657124032935, -1.4557832863999862, 0.6531770101032434, -1.3238244579618539, 0.7551976847128862, 1.890506007219079, 1.2485417240095602, -1.5226939042480143, 0.4752810268438039, 0.7756641971684801, -0.3268590409816446, -0.30066715376080627, -0.6993264038253516, 1.7137791072884336, -1.5139332094064455, -0.6714506865835976, -0.7343969163874389, -1.2985624420570456, -0.6390100958944395, -0.5521298374511284, -0.9057898823270977, 0.8994553933842929, -0.3964847333572392, 0.12455338887748023, 1.241871769841613, 0.4035076736706339, 1.6407002511643356, 0.6059092934780095, -0.4794966340866863, 0.9562124344434593, -0.8850494759369201, 1.5823769597716315, 1.120022279590305, 0.5608615727582982, 0.01850109274769509, -0.47485647446754176, -1.621991427713527, 0.9664228380404489, -1.0912910384054768, 1.4280691094243638, 1.0948688410651513, -0.1612267835309409, 1.883930998737767, -0.8185949116301633, 0.7575243689677431, -1.3319398599988874, -0.0728155418173448, -0.4258859096300282, 1.288864878034355, 0.7844983943543831, -0.24998596499822662, -0.676884003561773, 0.17071260358477666, -0.4705292728866021, -0.020759197366203325, -0.9390006201634515, -0.22353171814276096, -1.0140004307500898, 1.3002653138465148, -1.524986953269584, -0.24742061823779601, 0.5158891823410675, -0.8730923239610786, -1.3791577752874669, -0.3411823040476102, -1.2071347655815856, 0.8651509216247214, 0.4217786780317019, -0.4315580300217089, -0.4576955233236425, -1.647266660048201, 0.6492154288869739, 0.5615738144151317, 1.243002096550251, 0.6014296029602035, 1.4134643589165525, 0.7340198291353599, -0.7369485912223179, -0.32195128983718485, -0.9989131887940823, -1.7367430130411963, -1.4294079092473164, 0.8109797129841076, 0.6979620276872547, 0.9562997270732604, -0.3647399807435336, -1.1577488414200425, -0.1363367514760228, -0.6568566123520941, 1.2716396765156741, -0.7850844704853309, 1.5781071806708773, 1.9307850388448442, -0.4601869811260705, 1.2534571323244077, 0.3857556557122922, 0.25404396288041686, 1.1560370390384436, 1.4055842423202916, 0.5209794466824186, 1.1362362862191686, -0.05017258488971901, 1.3897341179776184, 0.8507960048221627, -0.6147833140946795, 0.1768906063977786, 0.5220710811170604, -1.3573760709277223, 1.4322942130328329, 1.5453656511893954, -0.8023314406473239, -0.23294504885846345, -0.5498257293013972, -0.2670197289089116, -0.7624628188069084, -0.30099994020064635, -0.06046028701689768, 0.9423564850894947, -0.42808590948007186, -0.5940156702678049, 1.5409795544398666, 0.11473817116886448, -0.9780263103230783, -0.5310770484154137, 1.0778956359633665, 0.8551589849264614, -1.0785368316882973, 0.8667465330652073, -1.2371087434448829, -1.705485039299524, -1.1215457566884117, 0.8842753124317916, 1.6313832853021903, -1.3304213712193664, -0.3898193943716366, -1.2072166413906555, -0.0049277455716028595, -0.08021935296144957, 1.1586868409072777, -0.7556021791211518, 1.432694509436553, -1.3690233834262266, -0.761669796520212, -0.4363486442718253, 0.7341632670987404, 1.2386472207773291, 0.24532442118870756, -1.1492703555130888, -0.010641340144658507, -1.0921480587262034, -0.36360708917307294, 0.5849794323888031, 1.4359761190055549, 0.8408137794454349, 1.0901504894827119, -1.2322393005550296, 0.8336803994118314, -1.5495553880143627, -1.5151280222746581, -0.7021403811917651, 0.7817160016841077, -0.03089434813371089, -0.5815194517171544, -0.7535302128792292, 0.47538098789034905, 0.7335919306540593, -0.7924283515869426, -0.30311084450171977, -1.7110619970276624, 0.16328590169283452, -0.8876363309152364, -0.015006003450690392, -0.7339848708222799, 1.184744029032981, -0.8664408480891291, -0.4690693337544647, -1.0102319152748245, 1.4209931460763965, -1.5141866562011226, -1.598806619525168, 1.43089185626313, 0.44284702241391805, -0.909969308989086, -0.9292373652235019, 1.265444078589072, -1.5223433419625114, -0.6947722281019265, 1.5303794629542187, -0.6199978354998716, -0.4208460669785866, 1.2965497555959389, 0.632936852856033, -0.46327287957965196, -1.2099770400697123, -0.2893368293841596, -0.9420268742818357, -0.5781695100747574, 1.3655604998230506, 0.47864073883304387, 1.658384653802056, -0.5451742001788529, -1.27246143157296, 0.39719790972278357, -0.2932876197966894, -0.8717839058591311, 0.4465100918299569, -0.9546602343056775, 0.9880056789165729, -0.5875037815071774, 1.538585366199433, -1.4133589841534067, 0.330440950833957, 1.6091139300201538, 1.434582647035251, -1.3526867526743005, -0.9171244880692384, 1.3143219373423973, 0.7039578032836231, -0.5200022697225966, -1.204474614996648, -0.7920961274249136, 1.0951118184577544, -1.2113441018220152, 0.7056253308735577, -0.688062730038109, 0.7061170953743827, 0.3655164426058297, 0.8667662196027688, 0.41956825924045105, 0.00020615302720582845, 1.703219890350554, -0.9043673347330224, 0.8036722643839433, -1.4709650028655685, 0.8055641054677015, 0.7464283606082635, -0.5863953297434096, 1.381877803331849, -1.1029415979590276, 1.17115200158867, -0.8931888543291001, 0.0021660332839214683, -0.846968003539449, 0.51750441760202, -1.3751556404940781, -0.9965633984508717, 1.028511610100535, -1.1051400144555181, 0.5044287000453345, 1.0371007031791375, -0.23719097997131924, 0.09586166947872134, 1.59040769220847, 1.5856107098694554, 1.4426133916931365, 0.6210391171270856, 1.425729520563703, 1.6118539738193653, 1.5674232301709667, 1.094368717720988, -0.14155901054379932, -1.3721366816511078, -0.9102540419991194, -1.1947598699349529, 0.8725679040383073, -1.3987261611773654, -0.558450985294179, -1.4411917620895824, -0.317577660246754, 0.6172377315487853, 1.353042351073248, 1.3412175233807848, 1.6281332985597898, 0.8634511886855663, -0.6756631848010373, 1.1823504957886706, -1.4110421760006697, 1.3253934118810793, 0.28888292829983925, -1.3165956198787716, -1.2015866662037453, -1.3439426742027285, -0.49527760405863197, 1.3069754762004893, 0.7391145625781183, 0.2285811572689986, -0.17042894650235477, -1.4952509773930678, -0.058651597955034024, -1.2336771686218513, -0.3805747157866818, -1.6407389635418743, -0.000856732535085003, -0.477699180024724, -1.5282751195185893, -0.937750630604264, -0.6746338945578846, -1.6735927107629114, -0.5561247887805532, 0.8531838403625996, -1.163040304470466, 1.0625863051897637, 0.10934817917662336, 1.0347481588977596, -0.2670951486540754, -0.8320699099755939, -0.8779682432723721, 1.3825512928316877, -0.0621042640170511, 1.7180141250682923, -0.47059401632080705, 0.1261743811374756, 1.6276912341709109, -0.9739005000567956, -1.405126985042528, -0.7791876449209181, -0.383225349811297, 1.7056670371633302, -0.7215306247440822, 0.3570088375871638, 1.213610628668996, -0.11888955980284578, 0.09639625895884599, 0.005127988033191623, 0.7757163553610077, -1.7090869312233095, -1.0045008801245148, -0.29878841062165973, -1.5221394936757076, 0.46311403804501805, 0.3444433051889162, 0.6908420608298521, -0.5792656740840572, 0.8105282276519642, -0.2911502200240258, -1.425105634554425, -0.4714242341634123, 1.598970024280679, 1.001455946592632, -0.6525560852429863, 1.3481495361602285, 0.32198401982861236, -0.39420493908517007, 0.07718578139066293, 1.4125080351556643, -0.05160438531518675, -1.1558203342541598, 1.7622969183661452, 0.6458809965076482, -0.9048476395657533, -1.1464102321050613, -0.7943029677431106, 0.7642890850069086, -1.0420020678709232, -0.5995385795077884, -0.9768001049801925, -1.3344154990743102, -0.6776860108804801, -1.1231787661115626, -1.3877826703421585, 0.08151268001662695, 0.23062095222129061, 1.4038284645079828, 1.155424248303988, 0.10258827185403188, 0.16702850436464314, -0.42344299402995267, -0.4730713453797521, -1.2476259767652482, 0.9262643993607145, 1.6473649596601754, 0.2386806090000322, -1.1120874020538465, -0.7430958826844388, 0.5870283528403324, -1.202583618379743, 0.34475303737487095, -0.36100775327490714, -1.4367448899780855, 0.09321022494575593, -1.2301007121891854, 1.301601407731961, 0.7313486490475947, 0.8316503626620767, 1.046247031490562, 1.5641902650426984, 1.6788485904712533, 0.0725748662340904, 0.45214009626172713, -0.7247436893094021, -1.533694559389127, -0.6526549920210164, -0.42375354055337416, -0.7567261931664154, 1.0548864199530423, 0.566282684534074, -1.0361415328811374, 0.6524448129119771, -1.0777068221916162, -1.0594401575726724, -0.508374317464158, -0.8290939745452799, -0.008932886438773865, 1.395119133302348, 1.6121869317626796, 0.7723631296297255, -0.13470517842072857, -1.6849497892816288, 0.8542397437972504, -1.157919437241506, 0.8142602977638242, 1.017172787822832, -1.312841923708688, -0.780624218214112, -0.8244490476020192, -1.1523399050021306, -0.23605037067795015, -1.2924382612487215, 0.33846363733397855, -0.40495483496195284, -0.6911667101076076, 0.5399967119735729, -0.7745086282837026, 0.053617308266555044, 1.4817292608478765, -0.9450856527302406, -0.676208776086692, 0.13020046688030948, 1.1171589217896782, -0.6827838151348773, 0.9333176632308309, 0.517277382160279, 0.5721984665459584, -0.7926899504651319, 0.5283417403926984, 0.8226873131658395, 0.15475486362913743, 0.19269093780460247, 0.5523628214548695, -0.7719750133988587, -0.8336329309832095, -1.152967571496785, 1.1910816071872217, -1.0675795690437624, 0.623097453659311, -0.2104447134547877, 1.4785717170048316, -1.3074708399048638, 0.655939658955463, 1.1886593172685092, 0.47588710313961274, 0.032070219413101564, -0.8039056129445271, 1.6003931962246596, -0.5410077059302655, 1.0305811026703915, 1.4484382556875164, -1.4053326317035428, -0.47825689480946176, -0.4693512936918227, 1.282104332052963, 0.4733512600631657, 1.9854131119405996, -0.64277798881408, 0.7029713952545799, -0.981307833994652, -0.7117735443557714, 1.173929483422828, 0.5946332186826847, -0.5359764467232419, -0.6732719761353254, -0.07415822795664387, 1.1962660901685485, -1.2209270519444217, -1.046152138166004, -0.33337551632143214, -0.4987191147520513, -0.46513133495757303, -1.547641201409442, -0.27574828390905837, 0.9181727795912539, -0.8984669726992845, 1.0292629853104516, -0.6678454064640302, -1.417229899295332, -0.5402735943904788, -1.078401967255008, 1.3066196536954653, 1.3344860928286677, -1.3110890911074715, -1.4111054389257291, -0.25570259429076564, -0.23338633923777805, 0.9501898905033419, -0.4799539211883759, -1.466042797990266, 0.19409192082424565, -0.339379333952536, 1.0298662572758635, -0.7966280731829484, 1.3477079841851192, 0.7490849303466811, -0.24546374197996798, 1.1551077098100795, -0.16315600447978168, -0.531944175768917, -0.13131725949528056, -0.6349806275624432, 0.6854020333305743, 0.045222727266599705, 0.084511336047821, -0.7013819129241246, -0.767486113835922, -0.3274077518915998, 0.3045292553174984, -0.41582001592373796, 0.44024988825486683, 0.7285893054998956, 0.722185397074172, 1.4002885288028466, -0.4551304985414066, -0.9405720026441298, -0.8865936728868254, -0.9273888366258458, -0.716008033137336, -1.6322207435219058, -0.15519354474510388, -0.9482268722439136, 1.106856153680078, 1.0225079228621083, 1.1184508685105077, -1.08086200274269, -0.9840154010704354, -1.287551859557055, -0.5691404779325823, -1.5725395068533676, -0.8541923291472329, -0.5666267283293726, 0.9233514148434624, 1.2572517940897683, 1.2310663513572198, 1.2470154766369073, -1.071281690238437, 1.037436283224978, -0.31724846674726725, -0.4383944208384812, -0.6422184387576746, -0.6922010873868178, -1.0234722409003463, -0.03322608863391585, 0.29653352240729913, 0.5598230734888456, 1.3303631298281675, -0.5608968178671166, -0.35525694448565426, -0.970222721546853, -1.2297232283292312, 0.6147995848235484, -0.20924803121452393, 0.6144883269835405, 1.000967766442786, -0.9094799477301856, -0.0526368993558833, 1.3323547464212078, 1.3490022843519043, -0.8604813857374775, 0.1993345713240589, -1.0652424089919121, -1.1519336790942982, -0.7953304971243343, -1.6527172207634182, -1.475976733531171, 0.3819038486613197, -1.1042941426517994, 1.0514619428809806, -1.5773691762006254, 0.7773852252273146, -0.5797505050415303, 0.13702314341604455, -0.70558669959956, 1.1700149491809584, -1.0318837269853378, 0.3444900168957801, -0.2705682330678355, 1.2185607199873398, 0.655533841000957, 0.618537932742383, -0.7871142618438891, 1.0701076026608267, -0.9328469704063694, -0.8196372314453854, -1.2991866107926153, 1.3347623386664433, 0.4344416363864052, 0.7983599366515218, -1.273399177385195, -0.44787185429723214, 0.40291240573820053, 0.8779395243149389, -1.2937660409740726, 1.3742954239158889, -1.1173284053035295, 0.5946118696207345, -0.2586751272024925, -1.1908525872064422, 0.6173181163704083, -1.4791996672033243, 1.1794636829310263, -0.546829900916135, -1.6915269924690448, -0.09651607889063704, 0.3127547095424075, -0.6006256324278759, -0.4383953656931616, 1.2989477833781249, 1.58672188185647, 0.7810184451770369, 1.1903442571951621, 1.3275803849246917, 1.0297420502603205, 0.677962065632322, 1.35021664686783, 0.398215629124513, -0.837830536631937, 0.8981498122362531, 0.8540594858213802, 0.5125055041241982, -0.7571250454082633, -1.6462729807074115, -1.4986483026968351, -1.316889474281295, 1.393070080092738, -0.9841426797127691, -1.4936603283590089, 1.5311945530603774, 1.0840127882033808, 1.062951815719084, 0.6467546138418665, 1.1787972039696897, 0.3532346424363394, -1.4093836737667775, -1.4899548465931107, -0.8566260104340624, -0.6572051682153838, -1.0482189976419696, -0.02015421492788585, 0.409550707555194, -0.49107765679031407, -1.2847895956070061, -0.3769528267830191, -0.46509839978657413, 0.973832186844922, 0.47384703375745235, -0.9411201519756566, -1.252967572189151, -1.358409330263965, -0.8959306297136399, -1.4540844146773375, 0.7108140803216316, -1.2213674401949568, -1.903152559715611, -0.39180156918655934, -0.8914149119035633, -1.6649189347023705, -0.93763258314558, 1.6510650098906294, -1.476511854787371, -0.4284432808848938, 0.8411954763129753, -0.5114802381594505, -1.5384687289983154, 0.4964176788788116, 1.7309984255502475, -1.6025734839009942, -0.862243530138045, -1.0653571288147643, 1.504270956007468, 0.2995301012884522, -1.5735036917774583, 0.17545433406965172, -0.8336201248045279, -0.5288303273851063, -0.6945452442988209, 1.0122135772856136, -0.13057976384856063, -1.2993846262191693, 1.1196468150910763, 0.7156168807659216, 0.010356150573103386, 1.7094805710177639, 1.5810239603712684, -1.2175529646284393, -0.5766465947881876, 0.913992685721088, -1.2832423160420354, -0.6064294608436948, 0.3032806560159158, -0.23939831999183322, -0.25695514929509916, -1.111847180955552, -1.413047019354884, -1.0814854162084346, 1.2160371919106256, -1.4176108563282814, -0.9165813595090537, -0.43785232652319733, 0.8781926692556341, -1.6552236734749408, 1.140023005058549, -0.7412003535667168, 0.45352194752069974, 0.7135511141943724, 0.44357595328430977, -0.4410148000346177, -1.354714684989224, 0.7726878552217896, -0.6180926681324631, 1.5480357942843463, 1.24639632353365, 0.6769752435595011, 0.4903095291658118, -0.007616697221207169, -0.16774886755149238, -0.20447856131280123, 0.7263195965649174, 0.5978052043766044, 1.0994384903019052, 0.6443628946236624, 0.6018336348723932, 0.8774404751494269, -0.3139308093102361, -1.6317789514035335, -1.1697511157646878, -1.451416210193223, 1.163553052286823, -0.31281348097354905, -0.5365023821083211, 0.9162162889110272, 0.3590202136080884, -1.423890646614554, -0.9611037839732204, 1.4542314226837674, -1.4007013561322312, 1.0488556870863397, 1.1253641675051673, -0.8400335962994357, -0.8423793657727343, 1.0555191457302113, -1.4430708677954096, -0.17201807521776108, -0.5990749729244266, -0.9834637670339241, -0.8123871833615276, 0.7410455085819873, -0.8200878182410734, 1.6714006946761557, -0.1817704611997815, -0.05746014487086834, 1.4591353872689816, -0.14424653754462124, 1.507070262532245, 1.0145809644947896, 0.6499452802984511, -1.2331940907255583, 0.6572865566766836, -1.499437534506578, -0.3589024570455007, -0.8419967092192948, -0.014700330138366774, -1.0713774784382915, -0.6566268283594114, -1.0039941382892228, 0.8256823881709713, 1.7088885281760078, -0.6412426264803236, -0.07493143615966635, -1.1247736547246252, -1.095878302904281, -0.7370770337743822, -0.8222705984165389, -0.4124207950332275, 1.0932586850635382, -1.5833841770356951, 0.9903468559308785, -0.5863295609471416, -0.9241955091861842, -1.2961806173958632, -1.0736323686243676, -0.8305646443281601, -0.5030484335560795, 1.3970596113618994, 2.0473903855583373, 0.992413871450477, 0.6231278112976366, 0.3835851008735118, 0.3911553258120839, 0.9187977725639318, 1.3359901282874642, 0.5661306827775696, -1.0328777143559607, -0.19411124286020096, 0.6396160996107336, -1.1083657499191917, -0.227943024782744, -0.7104870388249399, -1.2206606804051512, 1.2672416394116568, 0.8037623541480433, -1.102812275497703, -0.7937536904051004, -0.5090648062493581, -1.350203128887071, 0.5702367619913938, 1.9990720211513788, -0.46814368370314674, 0.1688071294568169, -0.8137729892606884, -0.42364285936956725, -0.9321992964706922, 0.6679095538075414, 1.1230514597885375, -1.48634325093609, -1.5707433646221225, -0.16638988759659587, 1.1396103752268552, -0.27215894493843534, -1.3196387451194198, -1.240874074266005, 1.222548409163419, 1.3107446927964126, 0.6740617553254257, -0.8089853574586219, 0.7089222898921516, 1.458149850010724, -0.4799927143897758, -0.2754655347687754, 1.1160662204070304, 1.576642532510035, 0.6020814821026002, -1.040255665022531, 1.064050786675199, -0.03697513500912569, -1.220974797926272, 0.32981361719827784, -0.38070034804804953, -0.5472565693978082, -1.1583832832590713, -0.3782043826803069, 0.4793746200336048, 1.2039383880120504, -0.38120818264260176, 0.23014294428535687, 1.4734537058293855, -0.3728939564629668, 1.7450948306469287, 0.868043062706644, 1.6111774669639314, 0.44786576360829244, 0.35076238415956396, 1.0243790175469518, -0.13287226671767516, 0.40789305479046145, -1.3716402573953543, 0.623696014740677, -0.13419571617995887, 0.8137880295176179, -1.3264312194785715, 1.9386278855726766, 0.4566895440075951, 1.7230362000545718, 1.4606742233613046, 0.7732358543640994, -1.6254149056334941, -0.8272013434295289, -1.3188839656483287, -0.011696560159163705, -0.3764609134752184, 1.5217708543589061, 0.7467509321947698, 1.031243728926193, 0.13196364342935032, -0.8428123078129037, -0.03967105957507547, -0.5142274376089868, -0.046805715134305176, -0.8981029754481036, 1.6560483151494356, -1.2019409105002732, 0.7576733911299867, -1.4178920993106197, -0.21694741805292178, 1.0131672397561045, 0.22867359883305097, -0.9641959222432754, -0.4750674878998544, 1.3405755250326614, 0.4857233891883958, 1.4983900384884072, -0.6295371254358041, -0.0010122918949184156, -0.8466392467634591, 0.3050995132535916, -1.2467994667094595, 0.6182394961703187, 0.7227191739069543, -0.5441178360276592, 0.4602756235076495, -1.264808817897629, -0.06722840296669685, 0.492826039456554, 0.9552188687983192, 0.5185618935269456, 0.9840895796675957, -0.7685518232354246, 0.9128123448154738, 1.6265321364768206, 0.9299194084629233, -1.063618777166289, 0.4010488454343131, -0.6240802456225926, 1.0272704179664, 0.19232437426687887, 0.9242437489195094, -1.3910910261198017, 0.932123556421822, 1.6230071172247507, -0.3206736934977025, -1.4959080281906416, 0.6662641822375117, -0.6571679113114051, 0.27110792751270124, 1.4719123479584855, -0.942011949947037, 1.0683037402514246, -0.44876592508292823, -1.0789224067889087, -1.2332866338316202, -1.3021435243320707, 1.0262091802292188, -1.1583125368479932, 1.5224702302030086, -0.9002118162197369, -0.7362852630067649, 0.8024153646730342, 1.0499621672857573, 0.028346571121980704, 1.4517344723555667, 0.7933994464527462, 0.7171416499645524, -1.3077598705023163, 0.6422668639438388, -0.6049947672179561, 0.5875988302607628, -0.9542268124721635, 0.8514377282169855, -1.2582802206583252, 0.7812710313038953, 1.839633702438913, 0.9218877133756843, 0.21815877474697348, -1.0338224751715135, 0.9112348797285575, -0.3032056341003529, -1.3905172108658086, 0.9554574403369389, -1.1064041283790669, 0.20071845844320524, 0.9858932486512514, -1.237885904167782, 0.849396234349283, -1.155416313170362, -0.5437009500065282, 0.9153268568618605, 1.0113725342526596, 1.1287641525858716, 1.9084291674053198, -0.7633723286300085, -0.09526156883199388, -0.6086535262133737, 1.0168603565153282, -0.9280623572055771, -0.46770547714665023, -1.113957562379163, 0.1847311273757407, 0.9017399493508043, -1.6202703229635218, 0.44526953900579935, 0.4078087925785826, -0.6604654956261845, 0.9688316138655396, -0.7617849611635938, -0.4138016164036731, -1.3705599031203457, 1.0902022040714119, 0.8687737617118974, -1.34148825539393, 1.5401492848413405, -0.9974917902413453, -0.6240819421318362, -0.7095588884577807, -0.09302614004839341, -1.0925227052926567, -0.9983041584433494, -0.16188504396954506, -0.7893051882326332, 0.8022608267472304, -1.7081881818002982, 1.491634594472482, -0.4957849493113641, 1.0665891612434855, 0.878147422836432, -0.2090081724703556, 0.30865221941274457, -0.011055687974416195, -1.474017206185669, -0.9816366074091673, -1.1692791129255513, 1.2007442134394466, 0.8828321883441987, -0.518519889853201, 0.7976898970322455, -0.9707837086269434, -1.4214822449060458, 0.4299065894241301, -0.953808911253069, -0.6939125083098724, -0.26655293797735, -0.7408138530781658, 0.5879669885886286, -1.1643714612144587, 0.606781240229695, -0.1643558203340757, 1.1930137398581402, 1.083514342907253, 0.8321843635087469, -1.410559507039842, -1.0197583625861992, 1.5439216998260625, 1.1171301085954937, 0.795506864688879, 0.6192097354775252, -0.6810190875234852, 1.2530972720608196, -0.49549690054593754, -1.348471641945287, 0.9139635506469583, -1.4321029563894434, -0.4673901007286977, -1.3842067246792058, 1.9067384919242065, -0.5322082630102387, -0.673656301963894, -0.7869279456985002, 1.3526676549710404, 1.3661043555367385, 0.793590942917115, 1.5879496343635393, 1.956038616531757, -0.1330187392211613, -1.1177167630864395, 0.7559582421815243, -1.2311048620970833, 1.3396425548561397, 0.7460135440241716, 0.828657267047496, -1.2497025523124452, 0.9192187673898693, 1.3295720980154586, -1.2671073178754522, 0.8220289167538902, -0.6203558446586573, 1.123361397233961, 1.1488152379562064, -0.38536938970902573, 0.14919363975430874, -0.4771988928849045, 1.0732317259315782, -0.6547469915392898, -1.1195651502376813, 0.5899199671066874, 0.07227438978251394, -0.13429792948327243, -0.236780950967141, 0.1265071911974808, 1.483441954539898, -0.9944754085213309, -1.318195190458129, 0.7674161553409752, 1.547079260267134, 0.7963659904037115, 1.87141832806682, 0.12860249052059125, -0.036248014094367315, 0.1895328580910113, 1.7425445280152243, 1.0689218132469558, 0.888759447639794, 0.9072331716651275, 1.1766274907696461, 0.36164165443510343, -1.0290740517344639, -0.23744909397405045, -0.19856262814695602, 0.06564990790355585, -0.6478756522750705, -1.33050109055769, 0.04383917928060106, -1.0119331007523178, 1.4410383159519222, -0.21141966684224975, -0.6069395805488784, 1.0751100867395689, -0.6369900365873551, -1.0245118085887244, 0.8998859821365902, -0.7498605127956466, -1.7496958635183881, 1.2019024833786154, 0.81872431769505, -0.5625812180568079, 1.2715704813262259, -0.3471196120622436, 0.17194607982748922, 0.4266057119703573, -1.5113702973414815, -0.8655940379043123, 0.7972796878102807, 1.9733606408861968, 0.4563579941364816, 0.6941940946637283, 1.6145797549998615, 0.6886586002664615, 0.7276373251714569, 0.7360337880657427, 1.715287282436477, 1.9551384292770408, -1.3595128545921134, -1.0160030604249657, 1.6357451696299852, 0.97541267503419, 0.03722285918172827, -1.1001936915275987, -0.18523667376139727, -0.44445865853873434, 0.2876616073429163, 0.572562633716966, -0.3412103960672749, 1.0364155365576715, -1.0749607692079994, 0.22590261474192883, -0.6067422165735643, -0.18701559099201623, -0.465387319412027, 0.9775363183101706, 0.026796486077041, -1.3341436998388758, 1.1692796778061687, -0.6879605506261705, 0.6124020260511571, 1.1462872630850098, -1.2259783322141922, 0.4972183470657219, -1.7135118609719577, -0.6237976488373604, -1.2982219717862042, -1.349518722935713, 0.5240733647122251, 1.2261594819778632, -1.303319555921617, 0.019875059132288285, -1.1766808707157186, 1.2152108614222448, -1.4843886602773508, -0.5262635748442221, -0.09140190508253154, -1.4186565559788429, -0.6091542600797072, -1.1469373134729781, -0.5797467724406534, -0.6098603088471277, -1.3435418346210533, -0.39309045773373685, 1.134886398444971, -0.1461133840352984, -1.1237076876695908, 1.7004582338544034, -1.2187295221673253, -0.779026719902289, 1.719345327645395, -0.07058203312411436, 0.752953178464436, -0.44324218123411346, -0.18077701990698108, -1.372381088714296, 0.8696924011566968, -1.2624017479755396, -0.5302336958242512, 1.7719155190029199, -0.5476508980464191, -0.32575922350406283, 0.8172215117629621, 0.7050334478844353, 1.3456097328533547, -0.775964507439231, -1.1714807085869718, -0.43337038087109986, -1.2386845376376197, -0.639744603631534, 0.7116272724327224, -1.0504377476124027, -0.8495405609931275, -0.09280033185433083, 1.039607496092207, -0.05047591337260936, 0.37886063486725885, 0.3824855687609761, -0.11928291492219509, -0.5684048012124214, 0.13095292817099874, 1.1424580448934494, 1.712754663322655, -0.4024735285456449, -0.22014585373650825, -1.0992357905874282, 0.9849601716776988, 1.1445149722606331, -0.05862427393791785, 0.17913038379393628, 1.3235327888632025, -0.3516378589826133, 1.189186759765228, -0.21081341976272078, 1.444928048983504, -0.7251329099175894, 1.7483402258340637, -0.4645573662323975, 0.7938029533242861, 1.3729991094015428, 0.7048291301006213, -0.8331731629782906, 0.10466939758887964, -0.2575521494914075, -0.5100636971753829, 0.2526215184240512, -0.09791825442508292, 0.4214833739296788, 0.7165037116748324, -1.4111762818243272, 1.7073674729710746, -0.40388853192497737, 1.6240139073775746, -0.28968280225604826, -0.6260451760923673, -1.050401013957348, 1.614051620682309, -0.6454104068676267, -0.5852361901038456, 0.3162587799124284, -0.3778765019980047, 0.9070990659783572, 1.3075084553839724, -1.5841402030845155, 1.3520177684741512, 1.7124926431469587, 1.520372772918039, 0.8784287499375147, 0.706729710404208, -0.510761652984062, 0.059956338104870624, -1.0954669707291993, 1.162244495724025, 1.63892790140603, 1.010173832589772, 0.8929772268712115, 0.06136308165209298, 1.6174912947194706, 0.4905531449961388, -0.43146550866587974, 0.7247914921947952, 0.7067405423975549, 0.44590314216797666, 1.5722480478774923, 0.4829813340357378, 1.0167638107452632, -0.23347240912274808, -0.4944764416174401, 1.0226682634106439, -1.131310953700366, -0.7369099178901289, -1.3364826502636287, -0.6792211033498858, -0.5237271334207936, 1.2669132647250847, 2.052200979549475, -1.2993729975034547, -0.22859276698485564, -1.3674982234057718, -0.688077664179531, 1.1974424847054552, -0.6391172223441541, 1.2047295986614106, -0.9942605301165613, 0.7710593794926712, -0.19699274673571865, 1.2983633100538963, -1.4779198927574475, 1.0001073435303758, 1.5074023694006875, 1.234070650569383, 1.8845857533959485, -0.16699197455294085, 0.1490883901765317, -1.1294600945530613, -0.9741879958930038, -0.792558511104089, 0.15284813326047886, -0.9151596763543425, -0.7278268944836523, -0.6542080591453335, -1.3339602296953894, 1.0431162692901796, -0.2901621454609139, 1.2419672023437012, -0.20768751647788003, -0.9407537372782437, -0.44382779091554825, -0.9862322524447673, 1.0227978032941727, -1.4040437888368125, -0.5467241780213583, 0.19213004370556466, 1.053138023501506, -0.2110302223995567, 1.397901282411615, -1.0415383567187355, 0.7450794500230036, -0.6173677000337667, -0.25809607365776555, -0.6198387932447693, -1.1829462773904142, -1.3258886131916268, 1.439164191543903, -0.9158115123781504, 1.2873392368319896, 0.747178358796657, -1.0260624052527532, 0.187873848697572, -0.24024916532644713, 0.5697226500025988, -1.037221237863814, -1.2856156715843419, -1.5589352993523493, 0.4352640881929445, 0.47860289255073246, -0.7916973452616821, 0.4909805756170411, -0.6985715695664265, 0.04558662315384967, 1.8460033198778076, -0.5570123795173604, 0.0697609666234643, 0.3390546715619971, 1.0655318233535493, 0.8806585326639408, 0.9711531937370812, 1.4459445253491097, 1.2864978891138807, -0.30937098686535985, 1.502061560373986, 1.306991541219062, -0.5204701730531458, -0.7094004636209118, -1.1473264761959463, 1.7645304058359568, -0.2037929590627626, 1.1834408743997296, -1.384427220876334, 1.9485130537485684, 1.3982493805010345, 1.0557391327512107, -1.2641932813286887, 1.5865172555867864, 1.1902434594973288, -1.2463160978320338, -1.4012690534280703, -1.7238442638522582, 1.5165059570666823, -1.5391174318985716, 1.710530292609483, -0.9783759967571635, 1.558731532962691, 1.0228242669528562, 0.47939631938758703, 1.2386623085604391, -0.0346485585916458, -0.4387812699958501, -0.40119579847579434, 1.2167642961819107, 0.814753885096053, -1.0424734198859227, -1.165143545761314, 0.10649044872573471, 1.5958429607288585, -0.8202671646672874, 0.7573608918328045, 1.1343908560388776, -0.3452181977420269, 1.533326816384222, 1.964334218593717, 1.1429218665420464, -0.45249216842649587, -0.17010141283527533, -1.1979597599384562, 1.179305670711322, 0.883778547546016, -0.02609883866142744, -0.20624176296589644, -0.2666710052958349, -1.3017147857565687, -0.8026731455232323, -1.3216561661627568, -0.10729853752222406, 1.265912672228474, 0.9829193297573396, -0.7703763582022641, 0.7569962683899387, 1.4494364314288581, -0.44155918136319466, -0.996058891125488, -0.2488854766083789, -1.5275363510081383, 1.4923004507472573, 0.7293649353245044, -0.08664847903192599, 0.6900937742968583, -0.34242048403386327, -1.3331076878716488, -0.5177175851765944, 0.9497582629072485, 1.1125748979814865, 1.0559084110383452, -0.5205918784734627, 0.12967301540708326, -0.6440790075687222, -0.7584634528176877, 0.3014145039926221, 1.1642637946073646, -1.6769532482571394, 0.9290759931614444, -1.1191291355250255, -0.772503751150289, -0.4566241596538108, -1.25898027999595, 1.5066881260694052, 1.3132033495641313, 1.0533662839834295, 0.917140762363611, -1.3324628042322395, 0.9909704085686457, -1.2042862869045634, -0.5717698897130579, -0.6045101128520605, -0.35216282032643154, -0.749055111455105, 1.6460758625699385, 0.5346252389450117, -1.6892434861013605, -1.2064388539300557, -0.8751400693297267, 0.22526123494945663, -0.6960497947767414, 0.8966893633560249, -1.2903132813185831, 0.5214906321700251, -0.9369699797052322, -0.3527744161571369, -0.26903852796803895, -1.161604350444449, -1.3385559903476574, -0.5613902384502807, -1.01238267946321, -1.2043596164421144, -0.8825755338195538, 0.00416526310571929, -0.4661452573637455, -1.2367873453730611, -0.5016026642652103, 1.2034224481529598, 1.087792830281774, 1.067167509208737, 0.6863296814329687, -1.8528131601191613, -1.0408908677777038, -0.1686818017777839, -0.12545032362137137, 1.7312429898119126, 0.24761228067477917, 0.1159101788278615, 1.7642552173270243, -0.30315384784362853, 0.27719398972026554, 1.5651878749545798, -0.8278019577120095, 0.5229209510841039, -0.04043622279286406, -1.2397118170287378, 0.7658642848235723, -1.4237362733016274, -1.5876283412090342, -0.32077874112974836, -0.535114580759406, -0.8033144018474919, -0.8768804482655312, -0.8242363678303664, 1.2438540563414513, -1.0181988765243632, -0.19779240714367413, 0.02439441885883839, -0.7265661528845051, 0.10989919879232504, -0.5000183703165353, -0.939615157795053, 1.5711966902730548, -0.4525375012223499, -0.5548078598900974, -0.6403999287019283, 0.37972011777435144, 0.0014527923719285796, 0.4219368219887959, 1.3917949851244982, -1.52193320566679, 1.58207808587588, -0.6497403044473544, -0.5056545193267653, -0.5741206373711978, -0.30275464343466063, 0.8682979838979041, 0.27499682007894327, 0.28946943524755975, 0.8074352782421036, 1.3506708746531062, -1.27124329848555, 0.7872368996971666, 1.0566282829269698, 0.015413103847803047, -1.0439214333575009, 1.421701381315644, -0.5572747125882973, -1.1796417971240407, -0.497736377050654, -1.2510341279136727, -0.6981899788228083, 0.8610314369568983, 1.0498802479895133, 0.9721605652844144, 0.20256281390784128, -0.12212361829970665, 0.8960247288594635, 0.7553896347949116, -1.2310120492045513, -0.6469145658245896, -0.5059849658286746, -0.7578369025558208, -1.1897839650422954, -0.5207677921473794, 1.379582425471739, -1.2560784029234449, 0.9607242896251826, 0.5036511907536239, -0.7808151007950738, 0.24017188362087344, -0.16961747048753834, -1.1110406875115197, 0.6875150799236059, -1.094314058370876, 1.3282585226586392, -1.3877731111627232, 0.3563129133074683, -0.48675132307154734, -0.8058603949462766, -1.35400251432116, -0.5265309303910981, -1.3345784335111122, 0.2599706580474691, -0.6709946201842817, 1.9648691550098822, 0.8981442816878671, -0.8040704124553156, 0.36791151066532585, -0.7983210178185232, 0.7604867624910928, 0.8005021974179721, 0.5971234576007979, -1.3204931560412585, -1.1241182286929297, 0.62981596183983, 1.2571869931828972, -1.3768612860908727, -0.49363784342297373, 1.287190451431319, 0.8216263951359324, 0.8914285586831038, 0.18502973263099032, 0.6433967809063919, 1.0829978497835624, -0.6421157113697299, -0.37762360235818615, 1.6941919761718476, 0.9112783631493294, -0.6248551594064254, -0.9319074171949979, -0.6238784608218781, -0.8728986554183505, 0.8209899860260959, 0.54107429896285, 1.5686557779813355, 1.1742932730344853, 0.7237577129230516, 0.9499210340988549, -1.15965892542298, 1.7873535441064738, 0.9380310853122523, -0.21879209973423175, 1.2529529242215378, 0.579869117461447, -0.479117216746229, 0.5924524023139047, -0.10074922500693739, 0.6142754998816385, 1.0162419578001753, -0.6585917614723085, -0.47895080201910023, 0.5761684790646369, 0.37510954014541037, -0.9566763532970795, 1.5438443181415014, 2.289970213706954, 0.7251873428671425, -1.4709578860268657, 1.263518950665295, -1.1098289787155327, 0.9254656383559864, 0.40353649764891575, 1.0042514469253614, -1.164702296098852, 0.2022011862182574, 0.4930595672089674, 0.8886926902005124, -0.9364946412854029, -0.726553145545603, -1.0595052470613304, -0.12191999994602867, -1.3205660649422404, -1.3298290467961307, -0.2990727806580266, -1.0616180605306977, -0.9474861153123748, -1.25903224884542, 1.432242662913621, 0.7560797629089893, -0.5547646633343453, 0.36966523922032773, 0.6459904429484229, -0.15874169292963702, 1.1466085653061902, 1.0388199135997331, 0.6445720775185262, 0.7726882090958843, -0.5233509250822121, 1.0714636247735987, 0.8937055772390796, -0.6695248468953648, 1.4176039070730757, -1.4082279074374524, -0.3734657899499149, -0.10502566323433585, -0.06817562196701865, -1.2103299905086438, -0.5564889761604637, -1.3050822837809533, -0.47446233368260615, -1.2273268641932844, -0.45147902451232214, -0.9151422059326139, 1.9007070807864799, 0.7372572123265331, -1.8601399872067015, -1.5712316310105654, 1.0880311544281405, 0.9476292728690514, -0.8727094088732941, 0.8562125107282837, 1.937825458580917, 0.5752863317415859, -0.9738032811292907, -1.4598054255686488, 1.4354906949500317, -0.6048879165272852, -0.3501411217683842, 0.9014429566266764, -1.3479648117750287, 0.8417004606342352, 0.7391473022634706, 1.546333888032212, -0.44969648690311476, 1.3287053623216196, -0.2202854417773768, -0.41337400190300266, -0.9258047896300358, 1.4517794786911302, -0.294281934831468, 0.5839558641298164, -0.9092324987538801, -0.5447250954373487, 1.2188215589544187, 1.7217240201055708, -0.5111291554869465, -1.3229029591684276, -1.367998850322915, 1.1900928062255423, -0.5847119063809553, 0.43506034438210783, -0.5882913968244309, 0.44156062883604663, -0.8239960136993898, 0.5743679005805866, -0.8696133908191342, 1.2402805371161896, 0.6754484971518676, -1.567677908975083, 1.5844318525653074, 0.688595355339247, 1.2726185331710813, 1.2045430475636754, 0.6237891819644175, 0.5140554377786537, 1.5381056245637068, -0.9475920473036988, -0.9985122382493159, -0.22737400672967495, 0.709882990123029, -0.5716574951338942, -0.9083945119066634, 1.1143806289140235, 0.5119142431745822, 0.3561881028831854, 0.42254000344369025, 1.4472707945418277, -0.4882954250665157, -0.06235723135720467, 1.3673152380581632, 0.3739669672072343, 1.9985721789368238, 1.126579489547507, -1.0561556243983752, -0.7419251198147835, -0.7640306116078108, 0.5999614389602947, -0.5751821969151533, 0.721124414263191, 0.44395561721369875, 1.3452179648037164, -0.5566695809409379, 0.48127463319332475, 1.0505534494571236, 1.115125984019925, -1.499493709828093, 1.1060827077437565, -0.5334754901702154, -1.44296213856993, 0.9230835804084898, 0.032420350681704416, 0.9522752102770887, -0.04079048530132635, -0.3811035597503422, 0.9964459456134475, -0.025170166785697154, 0.562879070102792, -1.0470185993385344, 0.8423216217035602, -1.2809510711703382, -0.5584734997189537, -1.2607351184227187, 0.49566416058251905, 0.12140568908883444, 0.18996785516974488, -1.0772113149353106, -1.6513038036253376, -1.3057490775066918, -0.7661144734225118, -1.1242124833146987, -0.7178529304480026, -0.871320053320452, 1.1691243131914648, 0.15669384060273533, -0.8572494370666456, 1.0278816508621222, -0.722034851251503, 1.1720880987592994, -0.4567223199164295, -0.5920582920544494, -0.2957802654498289, 0.46858113355773245, 0.6725701969297849, -0.8661160604414533, 0.736963811364859, -1.0703724075724859, 1.0538485626426564, 0.8159646986287324, -0.7241647607016389, -1.4309092792910678, 1.4244787724385466, 0.24610858789694035, -1.0136722215568874, -0.37021513930004746, -0.10874097383967823, 0.5994785654269208, -0.7083096172683647, -0.9804505910381021, -0.7304890412748428, -0.5368681666797982, -0.5288804729938112, 0.9645254747391749, 0.8449579449041542, -1.6546390672089668, 1.0700063718850397, 1.755744458309278, 1.0404410027950168, 1.521208207895575, -1.3917062670047926, -0.31953429433212216, -0.6933465085619414, 0.6773808789080136, -0.6386582310717799, -1.3870447870380689, 1.0826386474602592, -0.9276584433771944, -1.35736282370329, -0.2795818072549062, -0.6898298149474826, -0.17934925111590655, -0.3878823126378823, 0.6497996230053473, 0.47456693194445754, -0.445760310222423, -1.6215600306484341, 0.26596154830636654, -1.0033227747718927, -0.7406242305293733, -1.5545042420080704, 0.23853953182086726, -0.40952279143291614, -1.1437063892205732, 1.093268682691094, 1.0139259274254142, 0.392163718472365, 1.420630254366987, -1.315646903294048, -0.21013509044340342, 0.318124788371683, 0.6031678161942946, -1.5758998876433654, -0.7515594165378943, -0.5370077112719703, -0.27194464947056707, 1.5261975972981996, -1.0120601247180478, 0.3661969813576617, 0.8873558702126781, -0.07956627937125149, 0.43049446094927, -0.7293645199497008, 0.40027410817020403, 0.9067815966484614, -0.800570701170465, 1.415852599996437, 0.8323012103965067, 0.9330840105515289, 1.1451006152434442, -1.0357680494752526, -0.02136091272334964, 0.5004908633770325, 0.8939290583805795, 1.0391331525562897, 1.4858896649204476, 0.6743359018953173, 1.1150285252186474, 1.061456376145013, 1.4601602793593367, -1.5927232272008307, 1.5186408600220709, -0.2743603853095947, 1.1689371648758922, 1.3483615305746315, 0.15912380004876686, -0.0436257094025702, -0.19000323655526827, 0.4845101131599166, 1.6205892994164195, 1.4135964516494675, -0.06700847508085035, -1.1353286975805632, 0.16429271933792186, 0.3350586365876426, -0.7413989873771889, -0.5048403099608236, -0.4215451111844194, -0.6422196434479313, -1.4527102959164697, -0.985577434514036, -0.1617891164700564, 1.539601235700729, 1.0254181513810545, 0.8378496315260132, -1.3576578546923312, -1.4122411385767284, -1.230513966021757, -1.0436414578262356, 0.9462539876521785, -0.3666256970233095, -0.7968606298162549, 0.5062027547677475, -0.12343400578318772, 1.1507395307748682, -0.8727065970512826, -1.5767963384148858, -1.2489885728869277, 1.1592628725864584, 0.5359794086647038, -0.11153466183880027, -1.5838344735224168, 0.5514241855118776, 0.6488821591115028, 0.5721975598412211, 0.7123160369403089, 0.9918066510305937, 0.7413596795416791, 1.173490495334254, -0.9916934144542079, -0.9085921872111473, 0.6833929848899097, -1.149411332969574, 1.7794965873491981, -1.4907488336506383, -0.9257518529237518, -0.1780731265583198, -1.0278376846864974, 0.8325474462734768, -0.5985997251892089, 1.1881950696865256, -0.9603131570029511, 0.8082640828557526, -0.4930158193440297, -0.7603762167835867, 1.3207430252331183, -0.1334594459715881, 0.6901438908390919, -0.2575535619666402, -0.7710046677282963, -1.3693911591379349, -0.6600559988384167, -0.7603975760626172, -1.1869168674217407, -0.9406443116542708, 1.105043035904438, 0.10311717149381908, 0.8883078453548222, -0.45187967902685966, -0.07535641300473866, -0.3303363650097838, -0.1262026689414445, -0.9367713363209834, -0.37914460242625714, 0.6741780685924803, -1.2597792541866157, -1.3982253671030198, -0.831594067642294, -0.5369180505463684, -0.9334826605367036, -1.6499787503597156, -1.6739073512818088, -0.8425543226658325, -0.21272556598530235, 1.0396463368238393, -0.23453606491732695, -1.287205132439471, 1.2666952221888, 1.497552157251103, 0.4995282634602553, 1.4263772189553456, -1.2574246235312918, -0.5852458959053861, 0.9162475489675637, -0.4880563336237088, -1.573670666596274, 1.0668200593236674, -0.5062268048814311, -0.9613696051306535, 1.238718027204188, 1.158432532019735, 1.5565190640945796, 0.5108233938176404, -1.0512240930898156, 0.3028382466141431, 1.908713572183854, 1.116052151136593, 1.6983870458930475, 1.4051531725180704, -0.8257458286250202, -0.48641330006352795, 1.4645555277433615, -0.677441943841837, -0.6399586006907853, 0.8529173766098559, 0.9087638033340875, -0.7185386346812275, 1.3845525751792018, 1.0462099537589686, 0.2482359501132304, -0.9675781496976542, -0.4650205632198252, -1.0795539341792277, 0.9460969013612864, 0.8448326619936809, 0.12309162743949935, -0.1895550301427721, 0.8817442298317114, -0.1262642080333767, -0.46110575375851826, 1.168922234625562, 0.24791666633542936, -1.2963595543126798, -0.44702504305620505, 0.8349115105383975, -0.9242830367671635, 0.44403387009461165, -0.6027380060736569, -1.394336640107572, -1.1888954494008215, 0.7472091723531469, 0.44390090409597466, 1.2174338564163034, 0.9278597726512997, 1.4475161394794012, 1.6479912162023147, -0.2347703690930919, -0.4444122599178625, -0.8381140557332443, -1.188650319250792, 0.41952197317738105, -0.0327173753271893, 1.0499733739665753, 0.6630391786599933, 0.3733478038108178, 0.5287020518388292, 1.0134503779347297, 1.1760715329347726, 0.6567018476568429, -0.47023426899698606, 0.35055309897382514, -1.5437503858023307, 0.6971594983166647, 0.48653450645046503, 0.8572461679089769, 1.8404588577102876, 1.2175820352866997, 0.19597694870946894, 0.9117882688092304, -0.33952639395935513, 1.2582455550010758, 0.8159066836783662, 0.5497236399408577, 0.7457690631353261, 1.415165871159069, -1.2602201676373908, 1.2106952453692132, -1.6240734145965996, -1.040223995549308, 0.6504414829533524, -1.0879152493546835, 1.5238115575059266, 0.3690927173912171, 0.7110322686697574, 1.1424790603361874, 1.4794227864135652, -0.4980102053212594, 0.5699731261142393, 0.5741954952358362, -0.3503503224002124, -0.21970730628813306, -0.7946911164444238, -0.4990612517789964, -1.0780425762344468, 0.5355707996144646, -0.5756760066437838, 0.2333598911342654, -0.5784755218064584, -0.7734768030551495, -0.9611584110364093, -0.22542295961533437, -1.424823887082795, 0.741572081746539, -0.8338514418954346, 1.7265642320443766, 0.8761615055813521, 1.1127837246250825, -0.5920354102577903, 0.12704144980632281, 1.0167146990511748, 1.0182313939980436, 1.5148003927319513, 1.0891167720399952, 0.9959845907632033, 0.9277031952509597, -1.1454702884914487, -0.7223621330739204, -1.3630183244775698, -0.09479598780841436, 1.69858930216486, -1.606700182736129, -1.799742661295035, 1.000352632961249, -1.3897224445964849, -0.9232825450720142, -1.0026095838328266, -0.6867214523502123, -1.130733842189716, -1.3673443174813293, -1.3449144177910792, 0.7065420025033652, -1.303502101851153, -0.9626213162793739, -0.9076465868622497, 0.4881674322998389, 1.1336526368977689, 0.9562812575518109, 0.3259764086571573, 0.6796251557962625, -0.7199544688471088, -0.6400227236200813, -1.5592854380282892, -0.003524214746934061, -0.6707127812449847, -1.094996598305451, 0.6131711190388267, -0.7154730161269134, 1.383310110673174, -1.3670308524925163, -0.5177699057426567, -0.6343155814106683, 0.7825106911246187, -0.7274313418357539, 0.22468881541904723, 1.3397239715162452, 0.7268484357267135, -0.34966875553672033, -1.293582771725188, 0.9846340110305721, -1.3745354969731565, -0.46367379163852085, -0.8515417221360089, -0.2225782466708899, 0.7133724774415179, 1.474364133063159, 1.6188531336141467, 1.2307830846960095, -1.342141391696942, -0.14464070935872952, 0.9655301998063556, -0.03887793613397564, 0.7139392440079068, -1.1753491662199411, 0.5227256569515139, 1.1823501226524393, 1.704562005101347, 1.0771137917090359, 1.1259077991211475, -1.009162873567644, -0.6069084599037561, -0.45537058490726695, 0.9965743943005386, -0.017357912015289106, -1.4310312857512035, 0.23629469004092812, -1.3058339081235677, -1.0889536072610682, -0.26031731537871, 0.5002623707780582, -0.7421327866156802, -1.2686587441126382, 1.0668991428624708, -0.1691759117985832, -1.01172940881478, 0.6883501799415734, -0.6686447817737131, 1.5759049129786504, -0.2665100761056329, 1.0253312403682107, 0.8182084242984148, 1.5034415956641636, -1.2369974026687294, 1.00067892114517, 0.011482270777927295, -1.3251235031622677, 0.6910219707480687, -1.0848462675141222, 1.2346584044509927, 0.40840835895997973, 1.5680056994850304, -1.2586360761886013, 1.8045699430266584, 1.5420019227141493, -0.3373663989469527, 1.045069287348181, 1.809980706405171, -0.6876916631395923, -1.0673736260403697, 1.8512321935211473, -0.16317250539221018, 0.7635714891529161, 0.016955635210451125, 0.23897931106461107, 1.2629940697439883, 1.6626403345078113, 0.15285664265823642, 1.665425740758444, 1.4084508437673036, 1.3528709523796065, -0.08551635019049997, -1.082580366872347, -1.0230711180669214, -0.5147511304696398, 0.17553092126855838, -0.5486083735611977, -0.05867055213499888, 0.7130386523238798, -0.5808856520279151, 1.2067875001218304, 1.4888864885226238, 0.7491750761786942, -0.35119470666162633, -1.271147437779094, 1.187671814490979, -1.761855772045019, 0.4749366287828999, -0.20758973564250305, -1.5576181525280877, -0.4113077889675261, -0.5802617779924133, 0.8263148132978639, 1.2557751081876491, -1.138147696059934, -0.052477746611090476, -1.2044159619190202, 0.8297828407408387, -0.46874641317870636, -1.1194415124876604, -1.4842074781512766, 1.6952213030839338, -0.8265598127485414, -0.29747800355402776, -0.5062732584790147, -1.0251957996471686, -0.4332183781770011, -0.4809505697745553, 1.308794578971003, 0.47530508637299523, -0.566553125551849, -1.177399635935599, 0.11317912561229163, -0.32996160364581484, 0.2665618529280297, 1.1006134675367394, -0.3006201114205438, -0.7186373389920286, -0.9071681096693759, -1.2673128799349842, -0.7113997464703534, -0.16133351052941497, -1.4787149817300953, 1.451307826284208, -0.9386740510814708, 1.1709940266193473, -0.1538460674523234, -1.2603214943535026, -1.5667838874036861, -1.4457501404964335, 0.894915691747781, -0.139096058419569, 1.3408228797796042, 0.09770655222232963, 1.8488548975834165, 0.712982857409518, 0.10579902704898751, 0.01975056620900842, 1.637569987412553, 1.0512859588504162, 0.4730697284928817, -0.6174433856582824, 1.6271140641388562, 1.6679072547605869, -0.8995567946148394, -1.1679669169490123, 0.043991239579616634, 0.5647903929033705, -0.002789655152344188, -1.1848616348866898, 0.6874669207806297, -1.4293983408301367, -0.565540687584686, -1.2949545987228865, -0.07968373992509298, 1.347303923423415, -0.21011447330358982, -0.5865978388934386, -0.6028179909223217, -0.5065648241404571, -1.0016903645538278, -0.32720234983380314, 1.745253991346565, -1.2197639755089957, -0.6192664939927268, 0.6444312223314227, 1.2731571905647696, 0.4539452156056617, -0.8188480902254727, 0.912233538835056, -1.1653017368737812, 1.4134531819859493, 1.7648161678133758, -0.9526017502656845, 0.8549199305130764, 0.5341232542301517, 1.4300105781023464, 0.7060002333570078, -0.8706045785760754, -0.024816457991916008, 1.4307236241164163, 1.2180631685918735, -0.11674891889465608, 0.3485372663349422, 0.10452317338843703, 0.027861365983880393, 0.08607883950553108, -1.337088898251153, -1.1491094492854956, -1.3410508400357317, -0.867654455169513, -0.7488919252846519, -1.1092011495043586, 0.7547947950591801, -1.3212468871653493, -1.0756889824717082, 0.8214344417763859, -0.2521834746997611, -0.34563960167397834, -0.9843564288864359, 1.2534849619224167, -0.5474795374916726, 1.377000866287426, -0.4408078666855183, -1.676758980177371, 1.010809709322502, -0.6768063238631888, 0.757870944226264, -1.2598368371096442, -1.3821630964366791, -1.488893041688668, -1.0729772327967284, 0.014350539273958879, -1.5182431994477432, -1.27901030319823, 1.1367856382210921, 0.4031929169578885, 0.41146732322341095, -0.07447091139140138, -0.4467603236916108, 0.0030536807647943247, 1.3616121813522155, -0.4083729430876053, 1.2219177315436995, 0.028132818224992764, -0.7520259927171085, 1.05196266181346, -0.1893774534554803, 1.3993921668648805, -1.1247557742437633, 0.35420260544032073, 1.71385090115466, 1.0550717286134712, -0.19165917053072656, -0.6678943970959129, 0.7761835044665276, 0.6450100069691548, 1.1723582679160125, -0.5585656149892618, 0.7025677878726049, -1.3629919090538658, 0.6328278020893573, -0.23720681133526345, -0.09661189491104566, -0.6664255024303746, -0.6618632528370489, -0.45704152488282157, -0.26433521434203494, -1.107576271749346, 0.9022435448222237, 0.5833120307228764, -0.6047076543498894, -1.1189568739957683, -0.2816907265906387, -1.6027293252538706, -1.219143553596572, 0.5691413871362203, -0.7870815010929793, 1.2638208734071652, -1.0045036700988426, 0.43122132220236986, 1.260208742391995, 1.2024953280576354, 0.8083596005662658, -0.2082903724999829, 0.7862383765864039, 0.39900031455971174, 1.0946545968074277, 0.7549823725683501, -1.5179504957759111, 1.06518042254371, -0.9139126246651543, -0.5782836568052739, -1.4470036877596508, 0.7201005257124837, -0.4119487907523386, -1.5835214466763854, 1.243353101325753, 1.28023903298496, 0.8428708877899482, 1.686007962678514, 1.2594141768116454, -1.030483972178177, 0.7665555787286684, 0.7767170743898796, -1.247306502734134, 0.6990575576844309, 0.8169393360655043, 1.33209493482806, -1.0299395171383052, 0.2864217957040888, 0.845236815809135, -0.8951126808552932, 1.2841967594371808, -1.2644616132616084, -0.2524748702949348, -1.596984702239966, 0.9482055698254741, -0.574293011067933, -0.7446041897886595, -1.0985337443034635, -1.2889297963328956, -0.7229673792652982, 1.2190783765681952, -0.7623698411833268, -0.9767084360000524, -0.6566655688960952, -0.47799245354187037, -0.40627707053435713, -0.6017056301114935, 0.8775951615993601, -0.17830975378374636, 1.4824418903970098, 0.9071381638338207, 1.9141110412170668, 0.9367670302416173, 0.9090636297963552, 1.3802169532872286, -1.4044205942956163, -1.0724491102974492, -0.4995729156558012, -1.5832093509572511, -0.5520710332151842, -0.5361104582458741, -0.6042047756830259, -0.5877116913099092, -1.5123975558380445, 0.5062287588093483, -1.4391809127309263, 1.4557137234797062, 1.3690800669863534, -1.229954738597086, -1.6088119889415664, 0.4255034750647432, -0.43467243941580436, 1.219669382310097, -0.9062802790013552, 0.8321093067368943, -0.8224082912187911, 0.7106881313146253, 0.6736513565619978, -0.4439332309416327, -1.0573421680866248, 0.9189388503785588, -0.07343116140035841, -0.5173767351335583, 1.061151666268895, -0.13045339982928447, -0.3466573241337605, -0.9165852832848158, -0.010677225445636748, -0.7741428641723336, 0.7159140847994829, -1.4204970967746453, -0.4993055803700249, -0.27146479012986835, 0.4050672269941832, 0.42336733097242163, 0.444805451933487, -1.3481131901658912, -0.3185934585507727, -0.7279259288301861, -0.8413817453093388, -0.5559021591369652, 0.545959433929521, -0.13155962589811246, 1.3574530091916523, 0.2871640198335863, 0.9284936920610007, -0.6193726089559379, -0.9076778559754689, 0.40476670542070997, -1.4384643743337715, 0.8832045916671113, 0.75689096490822, 0.09446180763596551, -1.1400514949785039, -1.1370955170958792, -1.3965048096141714, 1.0511665410554736, 1.3847884359229101, 1.0029711905938634, -0.3679502266519249, 0.9730264433089957, -0.03000553444186352, -1.6831843914677245, -0.19451012766234496, -0.9276294422838868, -0.8716321718264461, -0.16829081838954216, 0.3923146376032396, 1.8648729231894983, 0.5370629812074251, -0.3922183863636323, -1.1082852901860232, 0.40874146928744054, -0.0710027114433168, 0.0845125356338429, 1.5532503399260937, 1.4935397134742265, -0.16193367252184507, 0.9128185422017097, 1.036095109545595, -0.21358710829739297, -1.4180832729415997, 0.8506588530217531, -0.12610424997623904, 0.675966556604678, 0.07381272895202728, -1.360713704917684, 0.06763993569459456, 0.6682516378267546, 0.8347972014906493, 0.050258916321540587, -0.7871754291667088, -0.14817896674240968, 0.40318231646336766, -0.5830050485616711, 0.144661079016377, 0.8234780541772553, 0.5659465578043583, 0.828876951839564, -0.7827411395406156, 1.0062131320961591, -0.7671698978342594, -0.012047811486702614, -0.8033328757833774, -1.0922653355406504, 1.1804038319948171, 0.47484816092814375, -1.1903450725298714, -0.9684446766668696, -0.9266698557425492, 0.04553695536729707, 0.9212098686509275, 0.17938118514194143, 0.13220889276892173, 0.662658680528008, -0.09321184531713314, -1.1413837872554662, -1.279964518370055, -1.12407233121794, 0.6967461937877195, 0.9851440048339474, -1.517142093608159, 0.7120368150042231, 1.7653575271688373, -1.8842706771177444, 1.5814115523133576, 0.16472091665632824, -1.48469942822787, -0.629958834260088, 0.0675606063827637, 1.9147073636264038, -0.5422821795637022, -1.1327640978888829, 0.7476173127567092, -0.01422400544296535, -0.808203568172197, 1.626669373667268, -0.20827754934100334, -1.5688285220329106, -0.2174215564882509, -0.41978761793832664, 1.245775446543988, 0.8860347614212551, -0.40477566144132227, 0.27566625429345826, -0.37809094911418184, 0.8040890100231879, -1.322000435572846, -0.7852515885666245, -0.770861993161831, 0.7294617209289499, -0.2591553773021848, 0.5045918824631479, 1.291700221999655, -1.390311443105544, -0.11499041346579297, -0.25768111130633403, -0.7024462469794047, 0.8019741999830308, -0.9428960616543075, -0.5357727813861424, -1.3307913745948596, 1.1399581408118367, 1.6341037839841999, 1.235669662460535, 1.20903550483234, -1.1569781640687469, 0.5245745328729949, -0.5267631148908467, 0.16777077616129046, -0.47220359881271645, 0.37688998584673505, -0.5035702363858889, -1.2928551813160765, -1.3251095966260138, 0.9366729026091511, -1.0745513170629453, -0.6603175178395327, -0.9189067785638962, -1.2490689688416168, 1.3339087844280595, -1.604764983195029, -1.0123949705597128, 0.8161334495487613, -0.3785356512740685, 1.0312124574197594, -0.9982571717193802, 0.5688807603074935, -0.6148329394778311, -1.1685492978757357, -1.221952267614901, 1.6453280035335978, -0.7620843314128763, -0.7203871677441697, 1.571309714101116, -1.2268657734510053, -0.44203389928710757, -0.7554883355028509, -0.8292262025424801, 0.7197356460227221, -0.20522099986390444, 1.5402735991858223, -0.9520850703433642, -1.2823162849325798, 0.3993352864384457, 0.745923583213552, -0.24255606572811658, 1.503858366245467, 0.0610459246153687, 1.2699493882088788, -0.4387311635471614, -1.2765442292529547, -0.5853925271160221, 0.7766737656185593, -0.1637049527000396, -0.5924557291135908, 1.5184888594008725, -0.4497423698150201, -0.6464252207897833, -0.6456888004105394, -1.2826046086374807, -0.2155671712072877, -0.19488924356509413, 0.4701560015433041, -1.0871764600290383, -0.9689695917654381, -0.4031025215510193, -0.5921881496039463, 1.0558102842908663, 1.7068791537804517, 0.0701450445241506, -1.4078039113774834, -0.3469156061263618, -0.8538664096099289, 0.8372641362376773, 1.9765302539448695, -0.62328147686584, -1.1600630189109653, -0.3620073938058701, -0.45046942209359037, 0.01679930375169217, -0.3831467094231976, -0.498130336077065, -0.23236095434047588, -0.20240966217350725, -0.2807673734011708, 0.9540713397386724, -0.9560151358762704, 1.3080474154452741, -0.14152102966161384, -0.04888479106794326, -0.8236802506981504, -0.3584399046386957, 1.6849608403327314, 0.7403616620556905, -0.08683169225192114, -1.5780305251193902, 1.4934711586642169, 1.5056564079065171, 1.0032796847119148, 0.9381849144007768, -1.0071260129839485, -1.3576463184423924, 0.9544983223345607, 1.288334270855118, -0.974345074292414, -1.641319167513414, 1.409014750390901, -1.0065234461810133, -0.6138958914927084, -1.0223092047200502, 0.007918516452745022, -0.902681788430131, -0.047923196188985884, 1.7409943382483837, -0.9566672598960615, 1.3296178934203244, -0.19618583661613054, 1.0223982835791905, 0.6785069296128455, -1.0087919179231752, 0.125131958486015, -1.2437932328331307, -0.016613376881562086, -1.479305786296887, -1.1039171796219172, 1.3643288360227843, 0.46621095627082754, -0.4034933069138377, 0.7150118828706138, -0.7265868476430727, -1.6980543062759845, -0.23751502075267883, -0.5590584941909527, 0.5981081232722012, -0.46083418315419683, 1.3819241517882581, 0.5836405776864976, -0.20975657557279645, 1.0511580650947854, 1.2117305360870505, -0.1433011232151663, 0.5692571029417481, -1.3098953733473337, -1.2224242073317302, 0.9525834988604212, 0.4737722482672001, -0.41130746090631054, -0.14461850019819464, -1.5817939317425809, 1.2219818352319942, 0.5608706330842004, 0.44356081015038235, 0.789258052562371, -0.025957031708071607, 0.3626289132129278, -0.10487828568202597, -1.0089922116992363, 0.7011492453667952, 1.2808201900293745, -1.5383594465139825, 0.6270199569712837, 0.736742968448721, -1.611717678520616, 0.99461162904637, 0.06773284505738245, -0.4484847101917577, -0.736626554642143, -1.1600016882722592, 1.218684451245123, -0.2995709403302363, -0.3662197703892571, -1.241626522837383, -0.6659902930044709, 0.8329551081450018, -0.37795823866118, -0.41192137283448993, -0.09377966260613266, -1.3114456751807155, -1.4789747130658126, -1.4993688649568482, 1.040207302406056, -0.12525888641381736, 0.5967011759609375, -0.5341586872289645, 0.49099462073196287, 1.9021548032308293, -0.7931580901766919, -0.7220986155173645, -0.7394032886096479, -1.4402451934940648, 0.03613276306791338, -1.2905006648586375, -0.9118304607095054, 0.8931903059292134, -1.397020779568635, -0.6094060660780445, -1.3778569854940017, -1.2577622138178124, 1.0610373127193828, -1.258184722899054, -0.422160452961884, -1.8738209759682354, 1.2677521800565315, -0.5960182528906814, -0.9510852273986544, 0.6724054638157082, 0.7663840908309989, 1.0058244075568876, -1.2435138940018786, -1.2874342984510685, -0.49631716164589024, 0.7302459236630043, 0.5785515172725065, -1.3456438897900245, -1.1584328895449498, 0.7236810468382954, 1.171055466348173, 0.7958257787382402, -0.7221183634103832, 0.41799946932421245, 0.8889500211116255, -0.3680973208892825, 1.5554167746477419, -1.1642408590749884, 0.30090025091233497, 0.3815540899160392, -1.4434912633978574, -0.5124702258230381, 0.49199958235776253, 0.947327434144914, 0.3135739806226125, 0.3345868378493613, 0.019816720402595356, -1.2076188789791367, 0.8760279206888784, 1.7980100505602479, -0.7219993532877838, -0.6035187708499338, -0.22682843476383227, 0.6839901019550506, -0.5924907009329782, 0.24460068480231437, -1.496512786924339, 0.038194359304425926, 0.7478071020661308, 0.22140411341634686, 0.7197910773579981, -0.6465392377407819, -0.6706931652048708, -1.297305822500576, 0.8830446095563403, -0.116869437099204, 1.107197144024459, 0.7668517267893852, -1.3856890401525497, 0.7806957665071104, -0.35321750335059177, 1.9421870230148932, -0.835843693422124, 0.8140877333320702, -0.08935166561708022, 0.4841358750864349, 0.7287853495552439, 0.45742668081164856, -1.4267822486765074, -0.6652450398658942, 1.234444870958939, -0.6906091417132935, -0.14201709947743787, -0.09486142946959965, -1.1162239757243595, 0.24648653203478313, -0.7025433272539339, -0.29569769343231156, -0.43667479778617135, 0.8024199410973706, 0.5626085082357863, -1.2525105557315772, -0.22366030818680382, -1.0477907199203096, 0.7127541732874745, 1.4191130211048812, -0.750991393835924, 1.1629267205398688, -0.5979418636047406, -0.5292623977569967, -0.6824070748664662, 1.0711650468723064, -0.354248205431876, 0.006766193536129089, 0.502970402260589, -1.3448231367171082, -0.8873275336394599, 0.8168506586900994, 0.20508222841606596, 0.7771048653753374, -0.25168932723294213, -1.360771573206511, -1.091581823984689, -1.1079768756674004, 0.11633518988134564, -1.7278393985520193, -1.425273062817678, 1.2795889070331885, 0.4524779877917006, 0.5852956108820835, -0.5141691173856519, 1.240088245512422, -0.8826753677904197, 1.57212587924747, 0.09858774271379818, 0.5198067060056532, -0.7842978237482328, 0.47688228833336166, -1.203625157656547, -0.2137768736379031, 1.0464675981648892, -1.5727730940243982, -0.8485898565376877, 1.1140698443354669, 1.1166232581425122, -1.487534728179967, 0.9938953746271735, -0.14809196189020354, 1.01640580607702, 0.865168403444017, 0.6577924269553561, -0.06580903783874972, -1.4208556070148313, -0.3548590013393076, -0.5961405817609134, -0.3458390861251026, -0.17993599471390784, -0.40652105518570464, -0.5527094918735332, -1.240957442057852, 0.6478331190118618, 0.7698923536954296, -1.6954593431797722, -0.4832373474758338, -0.8998392114882597, -1.3897726620215616, -0.20248553194183375, -0.8632941553265144, -0.7427489050444127, -1.0219333205032952, 0.6008792537382701, -0.8810166080162902, -1.418545168414277, 1.2904273796225314, 0.10004013837252329, 1.0464934107037722, -0.06408746637788729, -1.3931502078297548, 1.3466782490962381, -1.0331144921076107, 1.1055557561541463, 0.2945904254419933, 1.1071211845980924, 1.5763343809238546, -1.3124235781434443, 0.7051240392162026, -0.8624231700967027, -0.07380721204139903, 1.162332073136953, 1.1480239396084186, 1.2968153717162512, -0.7530658121273811, 0.4733098279376412, -0.19102639677646044, -0.6083569345469071, -0.7916826851438514, -0.21008918358542283, 1.081577577095699, 1.0271968139576846, -0.995134981995213, -1.1172371185968255, 0.8303743288655931, 1.0306320405668812, 0.9827280760703788, -0.5954965665753013, -1.143210779915842, -0.17848908188891735, -0.25094054950199274, 0.09478127259876148, -0.9896618482729942, -1.1417957637613092, -0.03095891827865723, -1.1962709454913139, -0.8218884613873753, -1.2794274337466789, -0.24449433455361613, -1.2288755868408447, 0.6895100306281141, -0.5230627447338598, 0.5167612792220809, -1.0924969437324585, -0.9087543045289979, -0.971736291479286, -1.415434643337309, -1.4804601479555697, 1.3683628570695354, -0.12252287007673364, -0.13426729612389207, 0.8767634999302787, 0.6683437127960573, 0.9240286680402142, -1.429262861167917, -0.21317984479416346, 0.9133498417186265, 0.531433291474182, 1.4390502792673041, -0.655657427630526, 0.578682669149977, -1.4804282434749538, 0.703886290424681, 0.27285845835737627, 0.5140161067328675, 0.5947486462964688, -1.3981242658054744, -0.44582339248538744, 1.0621559437582817, 0.7427224681402094, 1.494251266939315, 0.7577719848343425, 1.2420090984098362, -0.573841038836781, 0.12714605410522664, -1.0962431117783038, -0.650576259647665, 0.2997673036302835, 1.8175820716569693, 1.0602796887865227, 0.5021716371337229, 0.5821016471774852, -0.5351790208762853, 0.4278439532553206, -0.99053634031733, -0.3743566092428388, -0.14833405160952803, 0.4535363328245407, 1.5018264053482515, -0.48480358109151717, -0.5077183879403895, -0.8008686325924169, -1.0762985028865244, 0.2290760770468733, -0.550253806865859, -0.8114861642243472, -0.6677842614443106, -0.8887049220766481, -0.6572910541031807, -0.9669679359351472, 0.059077325390796465, 1.8863874908991705, -1.6267528888943126, 0.8384065418614702, 0.5371937166227951, -1.3592960081920094, 1.1904135772783995, -0.12071622637105822, -1.3035819051424882, 1.7067568139238931, -1.0540094616440896, 0.6201362863808964, -1.1475249096233004, -0.8970787140634775, 0.4654623852699412, 0.5330292567834433, -0.42126436546283985, 0.9078802030058647, -1.3966459749015128, -0.4044547972213549, 0.4387211170885163, 0.6186432108502901, 0.39328637126957144, -1.0328963931090283, 0.08130890778337811, 1.786263961000844, 1.3966480558349916, 0.05435956257864105, -0.011858047620156378, 0.7863209135078221, -0.39488598622638216, 1.5685158740135987, 0.35683330984407097, -0.2176486543483524, -0.35445888534808523, -1.4658524176988526, 0.5352835073986029, 0.47426069013597766, 1.3061142118200066, 1.4513048088447056, -1.6507024929642324, 0.8608160920564705, 0.6878310398335016, 0.5315830887865797, -0.13715444488549242, 1.0808891126465587, -0.40449761791505756, 0.10268615057301289, 1.4972355014037602, -1.5938238908906712, -0.4558068685249825, -0.3895931403120578, -1.2792084248751052, -0.044665251677391674, 0.3774182593978409, 0.8445038515996197, -1.082401594296461, 1.0737497151411457, 1.1941322781522765, -0.11853386117888418, 1.0200964816485265, -0.7241030265914081, 0.842890252177335, -1.2159182361134513, -0.7722690893285151, -0.5890013450420493, 0.861408809478469, 0.4436263861137833, -0.9530762597191762, -0.2293944438538437, -0.7329548560950068, -0.08554699252342045, -0.4291877471228206, 0.8498110765576105, 1.7073823462814453, 0.7277859157428838, 1.0200774355258937, 0.5143897121680486, -0.16019282391404926, -0.5583392814891046, 0.04839909852786442, -0.030544726372554953, 0.9973478906774619, 0.8868594490268533, 1.4867361506030226, -0.46373668799102963, 1.3325017059646784, -0.4711703279205007, -0.20216962846373954, -0.28630445724083264, -0.8902505568217767, 1.4963777921064434, 0.779293330290332, -0.38555336884602465, 0.21593396408467333, 0.9340689006422848, 0.251525584980428, 0.7393475907020364, 0.6331199626808063, -0.6916625769138973, -0.8943462268245679, 0.2457492459787969, 0.9927986261519445, 1.2423290213104952, 0.3544120339132198, 0.05330909663073981, -0.1647563484566064, -1.3941293539249653, 0.639587646923047, 1.2964594065481716, -0.5172465866968519, -0.8885297327336743, 0.7806425618265677, -0.4410805627345996, -0.45405806925503184, 0.612437845059906, -0.5060105170701468, -0.5272672025624949, 0.7275432789691509, -0.6006208695854864, -1.098943355518109, 1.721482022746283, 0.9926293515299973, 0.6786469903823537, -0.21814594968079082, -1.5221859212677846, 0.49660009874993394, -0.8753616925643575, 0.9652158479164206, 0.44179208002785625, -0.43602547726314955, 0.9286188893614115, -1.2193683864620706, 0.45604145330512874, -0.09886214570451254, 1.396563140851472, 0.4471231057172289, 0.6282913453077759, 0.39243871372155126, 0.9169725679299321, 0.6538979172673407, -1.0509061052973356, -0.2777678972272815, 1.30880067373156, -0.10887507505222602, -0.5278298524280036, -1.4465044876668234, -1.5120862106265411, 0.5574692637060127, -0.7047438749386944, -1.4044243696950198, 0.6589911747079509, 1.3353031601218364, -0.29435361785354247, -1.2483923972172937, -0.9465546731048251, 1.644779082251301, 0.24602006488330075, 0.12071696686378568, -0.7392309430027528, -0.7474974940685479, 0.6613296391401553, -0.25060153122149514, -1.5547943089566716, 1.6521119099474746, -1.2423128185765173, -1.5954204945187165, -0.7984610720048426, -1.5133803570476148, -0.24932285691363673, -0.16597065848043324, -0.008680251821386622, -0.7915626184555715, 1.0976231485536165, -0.6400580228583537, 0.8556656294679714, -0.4348792964736721, 1.688747365257894, 0.888540141507995, -0.5109880161419132, -1.0484992473462993, 0.33903545870984214, 0.021883880800176028, -0.6953783171384332, -1.1100408256744239, -1.210185075026909, 1.3446638155122068, 0.851204941916309, -1.9019580707902586, 1.2280109053911308, -0.8276925183338137, 0.7137483166638279, -1.5498801657446832, 1.5654280688272393, -0.41435366273771346, -1.4199236749577582, 0.6214418847379957, 1.3491734677759992, 1.585841013283776, 1.2661899995564263, -1.2290112819686674, 0.7052853416921061, 0.9767179649905813, -0.6086057192444269, -1.2077963852896807, -0.7959929275597574, 1.49942440360085, -0.6397584134817131, 0.7032291486880107, 1.247515646265622, -0.12066786019944256, -1.385980338640277, -0.9053402273454303, -1.367394756977531, -0.6676621939019617, -1.5122940328655927, 1.211519765807079, 1.4953719627407491, -1.174508971467728, 0.7724128088290863, -0.33268039257812754, -1.409205474070319, -0.7943305103770839, 1.2773984360839283, 0.4731778282290837, 0.6999792471078486, -1.3843495469965958, -0.4954040324959399, 1.169986919257596, -0.8712973272174813, -0.5264650022873557, 0.8754481006483287, -1.365000743300278, 0.6757501075243839, -0.8434818758131317, 1.113221383944452, 1.1920753555818622, 1.576271502985406, -1.4439688570260616, -0.30409125039298424, -0.9174201873129794, -0.7468213382779978, 1.329920475511826, -0.794032887866523, -0.7166069570359103, -1.5271474376366543, 0.6118937399247846, -1.150958219718589, -1.274009077039307, 0.9678453796179798, 0.7499237406459118, 1.6524691242830696, -0.4071959681261442, -0.3365510818332342, 1.5500505542875629, 0.8018135302251108, 0.29355820076998373, 1.4336102528415056, -1.0656868818160428, -0.6907679152344456, 1.3033839765187039, -0.38864785237298577, -0.5225884479280583, 0.9744452577184857, -0.8565223628720351, -1.301052504739831, -0.8287968919911446, -0.44285422865374924, -1.2211515034012033, -0.7037522822791697, 0.29162958879838197, -0.547195412568576, 0.33330715740569994, 1.1566509520767596, -0.19037042397417397, -1.110170395361575, 0.9346426733629314, 0.9696782421123742, -1.0531318868336799, -0.6158666816746454, -0.3265158422416401, 1.241731927733328, 0.7726030121181834, -1.3200940885221237, 0.9046596842479813, 0.14452455529877972, -0.760116431643402, 0.7178714731247104, 1.862922366690706, 1.7819598527903333, -0.08445358761300237, 1.4923607365247065, 0.6356127589434422, 0.27725649808298, -1.074178648944852, 1.7717338009198629, -0.058000716950600176, 1.647579417389133, -1.397638163146324, -0.9525849128140288, 0.5045988594420368, 0.8511144060356768, -0.8747253739447, -1.601752235311484, -1.0080685514752787, 1.1944882048605543, -1.525862489369504, -1.5556271303222162, 0.6986071534505455, 0.643905709342557, -0.5257099337028321, 0.33950975009053047, 1.1268001228611426, -0.028499584336181744, 0.8088650054565655, -0.45206211576166055, -0.3252165218445182, -0.42411694792048443, -0.8321430998642463, 0.8000360017768171, 1.8502211450585442, 0.9222283291673555, -1.3533645891347537, -0.7096303716153824, 0.8546593073024047, 1.5216070900484975, 1.0657618400728228, 0.7713924094221385, -0.7603550981137828, -0.8237820377309092, -0.7380242417769891, -0.27444254845887794, -0.40991837353000105, -0.8592458215287532, -0.4954900767346223, -0.046187307323981235, -0.984333235643854, -1.0862448403026235, -1.2408754171876, -0.751446680847844, -0.03121573802677516, -0.5745156090178803, -0.12422646347264907, 0.8465046719767415, 0.8241993018761385, -0.6702765052791504, 0.5391428536679201, -0.4250834762726533, 0.935860662800772, 0.29975660180920316, 0.897830765712527, 1.713376744464548, 1.5585855057305738, 0.512926059500953, -1.2769133463791682, 0.5952138802584941, -0.8302462173615734, -1.3464757732794976, 0.47055324746614224, 0.13269861119934517, 0.07772533348544021, -0.5879294386563114, -0.8363659396607099, -0.8797800864826524, 0.7871872505743018, -0.50557776707828, 0.15319094186672938, -0.4896760944115315, 0.9163227167897562, -0.6510586030320195, -0.057215694192483485, -0.8119613823502427, -0.005765776163965758, -0.2966552462444932, 0.1675088406929941, -0.129743077569919, -0.1189890987719716, 1.32619655345804, -0.4476477865288596, -1.589809279721193, -0.6561526304588507, -1.1694612071131787, -0.0026340311918947312, 1.8484331477530405, 1.032914864661408, -0.19837161669512232, 0.36377099494521714, -0.9608641366345078, 1.8168936584701112, 0.2982120826410345, -0.8812175416968451, 1.2179921437819985, -0.7430254849000248, 0.2643104404742339, 0.8276467292492241, 1.5473448338186362, -0.13588655073488654, -0.03638006333479253, 0.1265713902278299, 0.9100171738254584, 0.7720921819229387, -1.1729783059981114, -1.2208611607868296, -0.7398942578569307, 0.022125389047021625, -0.31599515141483747, 1.2320431483678989, 0.03327831916705146, 1.115298159401391, -0.7932803941501951, 0.5920577593247307, 0.05323631372457256, -0.8084181354038588, 0.9799065498432391, 1.289773509887558, 0.7105240941603133, -1.2673041184767602, 0.7924686104158372, -1.1435482331285114, -1.1050107319964, -0.7144371757636542, 0.7271392839645167, -1.6803006081243208, 1.5544659709634676, -1.5717354654041167, 1.725049796407419, 0.37239593923622905, -0.06515896741784252, 1.2019387742641048, 0.01370397137206869, -0.053639025845273275, -0.47070064882735363, 0.3943927930960058, 0.8988177979702305, 0.1206196759224921, 0.2411844402852249, 0.9594397835210831, 0.9680805065273346, 1.3948550225650325, -0.24758399281130522, 1.5073864736944549, 0.517140453868301, 0.5299250850723313, -1.4837084736535426, -0.729497573738958, -0.11436143670256199, -0.6943538315807285, 0.9178108306935948, 1.0846231966072273, 0.5221031944740598, -0.08667128244250592, -0.8071042372956247, -0.7468324180454884, 1.568006884184151, 1.1695028091879138, -0.6840370437674151, 0.23055795126885084, -0.9552811228488726, 1.081543519478338, -0.6290472386524496, -1.2325831362040414, -0.29716243524186553, 0.8207126610350699, 0.9492919346811186, 1.0777038069577702, 0.7473835397725727, -0.9947878813003408, -0.5632481988611987, 1.1226248888611718, -0.6829558411740608, 0.7309156257532787, -0.6644259597402046, -1.048974067476219, -0.6021716258243701, -0.2284969836556352, 1.0430966217113635, -1.0694013972977447, -0.46391899509405515, -0.23519025112100178, -0.9193664813238173, 1.0070031591538477, -0.8356643924134829, -0.6864273071652425, 0.836739720613982, -0.9702708709980858, 0.6488167479747566, -0.6818559528812844, -0.4593065781417919, 1.4105881188670761, 0.6726217133079195, 0.7286682105774999, 1.0907388901757364, -0.12060726145030487, -0.27008568942416467, -0.03964358341064721, 0.7650400556801683, 0.794536365848483, -1.1436001217933234, 1.7170318805489546, -1.0546438043662123, 0.3465385950457603, -0.9020617932125455, -0.5731403769958441, -0.8453538014839773, -0.7595423102449573, 1.4780065318189861, 0.5826386726764912, -1.1364830927897305, -0.8203463333015985, 1.093210529619718, -0.7145753284921386, 1.372384567154238, 0.5617587856867685, -1.2687523235123375, -1.5891286179435529, -0.4192359887502788, -0.6624412883593906, -0.10764218924594782, 0.978844275276673, -0.7704340956130296, -0.4262798319044998, -0.6127702566935055, -1.196299010542503, -0.5046279033917619, 1.5321349141430316, 1.1164212655806467, 0.43017050148686786, 1.5418006761215164, 1.0592971202229595, 0.6236728848364871, 0.5573692444996027, -0.6062863382328549, -0.7840202653389547, -0.7467214567004495, 0.3575670326572041, -0.7241093573132578, 1.503439396209618, -0.5322780915684616, 0.94661720870727, 0.32261910929788634, 0.8108432577547016, 1.7036530839157493, 0.01714618401863735, 1.5376963750722323, 0.628004174621766, -0.45506118378875304, -1.380271026989188, 1.0366466373390235, 0.22900079493873787, -0.2572786053256191, -0.4708670848433044, 0.6020113265785273, -0.1400042145745064, 1.6639940568238027, 0.4313874724293312, 0.7314861138129561, 0.26756698755147307, 0.4057138153615143, 1.6688059710439098, 0.7518254083142207, 0.12215809362569621, 1.1767103689723515, -0.028018747627162416, 0.28109481778532497, -0.8381893893145473, -0.5463092650355144, -0.97364609329568, 0.18206385793212307, 0.6827306314917471, 1.404496198266982, -1.1158436497431086, 1.5663217569125591, -0.3027135639257779, -1.1621690105826288, 1.9980160050720186, -0.7449892226663706, -1.5871724076382492, -0.9122947330389973, -1.3868283622040212, -0.905382649954064, -0.8997507028333789, 0.8801334974269663, -0.11024795503552368, 0.9431753649173179, -0.5362068190733422, -0.507467159276546, 0.5897298281314769, -0.654892915558697, -1.469972762771856, -0.9140274968761262, -0.49169198046117457, 0.8507644994587822, 0.03699178229570574, 1.0247117047182734, 0.06126747798501339, -1.1407694532200188, 0.8538083140596688, 0.9483394955405264, 0.06813821791935466, -1.4172292696628601, 0.666615480422276, -1.306217614083959, -0.6298134632252272, -0.9088999715812675, 0.8710094185509546, -0.13507062781544804, -0.08219253618664865, 1.6368942265912965, -0.8996699137228912, 0.25534630377484224, -0.4805811046699601, -0.7020801487275938, 1.1261022145117576, -1.397450643853367, -1.2246770000761202, 0.23379195820779333, -0.2416081417114532, 1.1173592720430605, 1.1683038655543094, 0.6575115822323114, -1.506092054785029, 1.2249979844723697, 0.8162113419496294, 0.6498318352460519, -0.17703977313231944, -1.4270095254671957, 0.548590693533188, 0.6000913889832022, -0.7364660337408243, 1.3940351395751545, -0.5296750864032483, -1.446431830980638, -0.9611051332553658, 0.3504809014525871, -1.4681729055335029, -0.9495735635931368, 1.8173740513937056, -0.8752124445107197, 1.1328557033887565, 0.53613533498815, 0.43699199119860777, -0.9650477028384437, -0.5435217662677971, -1.4970933981252572, -0.6386108025864123, 0.16829581762609216, -1.5622103982576452, 1.4437455896413498, -0.5795113149069675, 1.431249304436622, 1.171279481137553, -0.9644869980205908, 0.6260582491970895, -0.5976270682486194, 0.7717228347235965, -1.6012744346601795, -1.4695887159471475, -0.530796018899568, -0.576115458617877, -0.9860920402517915, -0.9769921955520585, -1.4272202020951759, -1.2436448825091393, 0.45177022110169174, -0.23566971985421858, -0.9066244228185788, 1.727555027835695, -0.7242745431420656, -0.4331296337082896, 0.706848198920224, 0.7218041754028378, 1.418259113505954, -0.4249248348489082, -0.742657734933431, -0.3536479429487002, -1.2338172042389919, -0.34471540861933014, 0.7773041829096258, 0.930353152371227, 1.23512674512387, -1.1781271317954007, 0.8589716911802291, 1.1050380480600819, -0.649978883822334, -0.7201507648722498, 0.14724222587818614, 0.21535793916967386, -0.7893710715464529, 0.6016476291496224, -0.33171034918277004, -0.24907412406712837, -0.9594130590730523, -0.6087001488678515, -1.3651195571241894, -0.3884635975504242, -0.8408203994938703, -0.4510142479454096, -0.9167609111998019, 1.4730945831673972, -0.8893731847868721, 0.6028934935081944, -0.298217263180122, -0.24812606127234016, 0.4931143913480377, 0.8179919199181257, 1.1354260035688535, 1.3107642269579651, 1.1383444075109972, -0.3350989732936763, -1.0746989076064204, 0.8840774190255993, -0.15844875297886937, -0.05982463632881718, -0.32161442472384577, -0.5383613563919987, 0.5518593501444896, -1.3181496324557003, -1.130030576002666, -0.9211937793684818, -0.7484655868231729, -1.5078174711841907, 1.2195255529027238, -0.4884028645577338, -1.308098041396389, -0.0159038981736409, 1.1946720285372008, 0.5669604754617791, -0.5080932208521858, 0.6609366054918603, 1.5830053808747133, -1.347296639960536, 0.8771652392537509, -0.4116385800337239, 0.21015494409129382, -0.9742860960408389, 0.7234176165898115, 1.3820820565643186, 1.8298211642674889, -0.069923079965926, -0.6820984251294624, 0.7422196260694053, -0.10660697075813041, -0.6769130632029512, -0.20533352159987636, -1.121130069875722, 0.6805674947577789, 0.6358812937580798, 0.8326998567431163, -0.9316914573236387, -0.9463185286260036, -0.6299164276814276, -0.19360728320276932, 1.0286125122359322, -0.7744643393507613, -0.15911595136307116, 0.04673157354650665, -0.8197975818227717, -0.04213005959375321, 1.4442237011426569, -1.4217002024900893, -0.09049756949718872, 0.482882846594465, 0.2731545296311965, -1.0118454483810393, -0.9261895519121645, 0.7371817576103574, -0.12516987476202593, -0.9018994762803965, 0.7340772413216647, 1.1489274285722875, 0.34520885875726326, 1.1373877592892534, -0.01754631932192821, 1.4516522273851629, 1.4601208887409567, 1.1911046271896115, 1.0878650379484873, 0.6676389635383875, -1.2940190590578333, 0.15079344888242596, -0.668507911820316, -0.4102570665598355, -0.6153237964597558, -1.488005419121376, 0.9214091191650211, 1.0373507574063874, -0.5722245897532133, -1.0776821738034192, -0.3223325408574341, 1.3243242277559215, -0.7768790843064268, -1.2879608883474905, 0.42603379225095506, -0.9736030459541547, -0.6100117970171746, 0.855967905660054, 0.6141443657194054, 0.6275459076012279, -0.46475930947898225, -0.4992579339318446, -1.1922041092649938, -1.5570423302723413, 1.0715340687658048, 0.5454757768822565, 1.7185730717426613, -1.5563954786291068, -0.33962291991141863, -0.9861812138316388, 1.0892087877623196, -0.8129441428483202, -0.18084163863755887, -0.5173012611158554, -0.9008113764376157, 0.5909900972986807, -0.3115435103223796, 1.7545691497205234, -0.5511695572568813, 1.5528646976634508, -0.7089272857683705, -1.0093256166272435, -0.14221514294677245, 1.278638232544047, -0.3687750171241602, 0.30874790698481763, 1.0065467469297065, -1.0739486585516365, -1.6797470578121525, 1.8457903327095075, 0.30030214287113793, 0.8059236609817835, 0.01792967340738183, 1.363487368477604, 1.4758307165175126, 0.14380050220418877, -1.1073187741560628, 0.5340629712008829, 1.1217786457306134, -1.2378692412915822, 1.2880789632430851, -0.11116064031345467, -0.7833337609242622, 0.3111693275363154, 1.6256873085016752, -0.6936246637970782, -0.7111378491903557, -0.35075601407810936, -0.7240288202994226, 0.8001132035195243, 1.375826136458211, 1.1358669415214833, 0.06869224975819047, 0.19795142299147328, 0.9099667570092269, 0.49667851079861436, 0.32266406317217494, -0.6119043836640088, 0.5498040686692548, -0.7318578362792302, -0.630306182241328, 0.869566968609444, -1.5205782720005485, 1.4725737188529298, -1.2835892009552137, 0.8711392618519653, -1.4812342559262497, 0.9804201229253949, -0.854298034503036, 1.4902824619475004, -0.9949649412547996, -1.141714742585334, -1.0980847480050089, 1.6681541742285466, 0.9065180456975822, -0.0023675800193156404, -0.8609997291563557, 0.9226313934350654, 1.2723200267057162, -0.9178925150861695, 1.6766687742366049, -0.20875810681397744, -1.2108339718319727, -0.9119122059867958, -1.5782179655505872, -0.9368581653300633, -0.7651221461463743, -0.7617753615534156, -0.6535841467904024, -1.1865251872246967, 1.4452196651513058, -0.0856388261981436, -1.2429136445686964, -1.351313612139679, -0.8994539258571079, -0.6902119955136677, 1.0473343137205882, -0.879002091433339, -1.0371206187354887, -0.11066252253560062, -1.4337799991018156, 0.02859411195161035, -1.092309433837753, -1.2235083350498042, 0.8825245983098732, -0.18319276241136262, -1.1953710530079884, -0.2733296252029825, 0.783999005065251, -0.9376292607634099, 0.11134026420570609, -0.6574408020682607, -0.2667831184679813, 0.968146309947138, -0.4111223745391163, -0.666831259829482, 0.8282534977438891, 1.0787995525087992, 0.040905514786506614, 1.2993930741953932, -0.42662592702687996, -1.3925873549293821, 0.8632503300778407, 0.9768859582322382, 0.045600634594809404, 0.31808273014638616, 0.3701901483921257, -1.2810428002111605, 1.2060609335044152, 0.0940121337360057, -1.5898597837112842, 1.5777722227825535, -1.3322249281490803, -0.8692774409434867, -0.18226920691706053, 0.7283297766108769, 0.9044751379606762, 1.0129542869801913, 0.7126898256688186, 1.3152528638766197, -0.6496805726127532, 0.42066124599086463, -1.0989823232595302, -0.2629615632073755, 1.0895347922117495, 0.799331868760351, -0.2921512156843411, -0.03285480178601668, -0.8287654542737746, -0.9131870353167146, 0.9132775478509186, 1.1308495109099759, 0.23813438770785636, 1.3361145504188146, -1.0881560717307432, 0.12176166688220029, -0.7423032867727499, 0.5938631379804672, 0.9102711796338991, 1.4630656694966881, 1.6030675618669432, -0.18112897372344788, 0.587385283967202, -1.4860136458214013, 0.7216750220604845, 1.7632048169284402, 0.47438275240224415, 0.4725382382022471, 0.7392134087107846, -0.03590787682117502, -0.9106537222935778, 0.472886166330691, -0.9480519508619335, 0.7354650546608027, -1.3923971869094713, 0.8017766448672606, -0.6489642828806066, 0.03933008993031858, -0.010095659777269186, -0.9463288824956706, 0.6149401062069926, -0.793883930456746, 0.514466231140501, -1.451497182895051, 0.7237248081751101, 0.27372753647149795, 0.4660433080149744, -0.45050344987524815, 0.8702444230052482, 1.1025310560372095, -0.6385001017765229, 1.9618338023437518, -1.0445827686887923, 1.6951188356185873, -1.235011543115574, -0.12130423922524887, -0.7778051189356137, 0.7059530468638903, -0.47244045324762163, -0.2570379417314901, -0.9962945779721556, 0.19427951029718526, -1.2396512900554009, 0.2713865937730272, 0.7518309625945067, -1.3647776651555978, 0.33560503478955556, -0.7943768633290287, -1.171952353210529, -0.7639249053994432, 0.6942568220440056, -0.3827833699011224, 0.17211920799362257, 0.5158366261936544, -0.79721329755812, 0.9221087829419207, -0.027810266388320196, -0.7014895872839134, -0.4016016933324157, -1.1679941774895644, 0.29190191498458634, -0.6088500680183199, -0.757011769455327, 0.4099075431187549, -0.5245682156659441, -0.6078036078326492, -0.045496034783681846, 1.6176190699349486, 0.9278658152112851, -0.22119189060673156, -0.5368030409826291, -0.5039323870006418, 0.0726583328318644, 0.14723917286882415, -0.03550488083990138, 0.7450387862144772, -0.6608451562042911, -0.6229823997699191, 0.010825188726472507, 0.6716627131857003, 0.36388705965415424, 1.117078127214114, 1.237076635562419, -0.7074862043477462, 0.5706187538660098, -0.5714145578136872, 1.690742320840036, 0.9022006286241901, 1.0778612858340013, -0.741890031111765, 1.5094622310069497, -0.531036750948081, -0.7241647574372195, 1.6999767001055088, -0.2939334609586346, -1.4132232694012168, 1.7390673325691917, -0.7422116496020315, -0.09089406876005968, 0.8012076732252338, -0.8521713483742757, -1.31219235026147, -0.3895646794626312, -0.6729251300876488, -0.5296739199226355, -0.19830428068399764, 1.4449172978815843, -1.295271878915262, -0.2280323187064929, 0.6763659857990103, -1.0128744300195744, -1.282313183459054, -0.46480309789853413, 0.6803579513635202, -0.479558317390124, -0.47548989688495924, -0.6357047380635157, -1.2671686389106491, -0.4851624944948476, 1.3461801173355794, -1.3064155199243577, -1.0510950777086316, 1.1721331649736677, -0.8801392266985326, -0.7494338406594522, 1.107511977558736, 1.6635896781603141, -0.49536741418177, -1.003905747072069, 1.6259312847217602, -0.4747225385460162, -0.7138936273677713, 1.4945175322091941, 0.8885188499728118, 0.8084514847463267, 1.931947847758058, -1.0522638916108396, -0.7348578050771688, -0.5864183794525296, 0.6773960191096543, 0.5877733773886497, 0.6802957098622988, 1.624010941571331, -0.3192583589082673, 0.3494352492737972, -1.0113096098174843, 1.4611127599994982, 0.41018923862316414, 0.27147576115934446, 0.9711991162962892, -1.2136515634148732, 0.6955788800679308, 0.9333192383120015, -1.0487599581101064, -1.2015272088518443, 0.2911745944652919, -0.9843426960706958, -0.250690199386716, 1.1132175330754832, -0.7922768141183621, -0.39628527275440073, -0.7526844131227536, 0.8825536874590384, -0.05569987309736173, 0.8443927632229162, -0.16125694887647807, 0.710222641714536, 1.7049858400106284, -1.3762373103179242, 0.6801756330405812, 1.505763135982604, 0.9983389873986227, 1.2037779143230418, -0.22283400444484808, 1.6689760925676782, -0.17457875360580888, -0.9897537068291752, -1.2208454562899376, 0.7013562461022803, -0.5713164394185716, 0.1297543448628281, -0.4264086059448736, -0.3173059477299679, 0.6707993425423004, 1.5462767018043, -0.10003199445892928, -0.2690155650684633, 0.7439630528248631, -0.04374959075603588, -0.26460528019958984, -0.5003032121556902, 1.696430194378888, -1.5322124674362525, -0.023184503190206873, -0.8461960568594871, 0.9505351104061461, 0.9694920195422457, 1.0086279157974407, -1.1253866627558597, 0.3845431601894988, 0.4897946053143548, -0.09483022879751674, 0.4854251806766601, -1.2655687570395675, -1.2190501656889865, -1.1701042067546361, 0.04435980284775903, -0.16269486607733746, 1.4989397529094302, 0.8718165854034587, -1.2299228618716969, -1.420816690129638, -0.9383023119776268, 1.5116620409278338, -0.586373666044892, -1.2615874240201193, -0.48525338993493006, 0.14267012496811715, 1.0089818664063952, -1.049218287637535, -0.5556498236897168, 1.3083701669987142, 1.5054578037428392, 1.1357713485120258, 1.3111286401649638, 0.9271540964978751, 0.8830608270325269, -0.8482336403209718, 0.7758862027280502, 1.002743065066647, 0.6933258078548825, -0.791279803575144, 1.024726128087337, -0.9752101261702394, 1.3706893863182306, -0.9099082927682361, 0.02398782521387731, -1.5062648529690592, -0.3592513380884251, -0.5886528541118152, 1.7230487868732638, -0.5502673942476746, 0.2954182838582118, 0.9039262205086186, -1.269051925555771, 1.4861274858303954, -0.12185844198035108, -0.33249852042360795, 1.2430989382470243, 0.7688224379103163, -0.5478383495657809, 0.30921078417992665, -1.2014144235233928, -0.5952273436157812, -0.8961815345778489, -0.6114424376799678, 0.02619216037298534, -1.3991621938138248, -0.31527938331698335, 0.5403226146117666, 0.6180434884621713, 0.7320307892837548, -0.5790644204755184, 1.3305534378263155, -0.7778892097444711, -1.2829719898991927, -0.034600125614383595, 1.9067868693824077, -1.2545801263355596, -0.06738172951650484, 0.022730580877002696, -1.020274765209282, -1.167578441987396, -0.1855787329305545, -1.4711411339259741, -1.5702969495941224, -0.9650192704384872, 0.836710064977886, -0.20370744942765134, 1.1478622469948192, -0.6569612379063644, -0.5899180560869346, -0.20118293439828244, 1.3958801900067805, -1.1810911443010197, 0.6083047142997644, 0.9461995962604961, -1.3781196436700833, 1.3162594591693182, -1.12957852049869, -0.8625036332170866, -1.1456518791038806, -0.23005418505385034, -0.3537876379898623, 1.0805002300305886, -0.1532651788792354, 0.30761320111957036, 0.371460386065367, -0.09165493418624958, 1.5368383193428252, 1.5616803591865345, 0.693628264428284, 0.7773624452475787, -0.9803779866234721, -0.6831817323175609, -1.6546723231798313, -0.03905866514289916, -0.407870422291311, 0.28314122351404614, -0.6395326420345264, 1.0713069447412877, 1.0844492509813124, 1.3610376405500182, -0.9684384272318975, -0.23783079027786685, -1.3850483121185884, -0.8163562627910825, -1.0266437681150864, 0.023218437208248288, -0.25953096216352745, 0.7362761488159623, -0.18025620644593449, -0.5825996783919762, 1.3106935284477712, -0.9922362874671169, -0.1460090140184358, 1.5415305804163693, -1.6179376046090068, -0.41425259406084247, -1.1412734248899759, -1.0558297572834128, -1.304533914013346, 0.4381967331979282, -0.04252296034535351, -1.390668344645642, 0.13975044236981896, 0.28386487199112803, -1.3550235553614225, 1.2847062225468067, 0.8775395103564423, -0.04520790560673246, 0.44109777428175245, 0.9788697804655965, 0.11616601981667415, 0.6724870824115895, 1.6581634153236993, -0.21326451391088055, -0.6924353504104174, 0.7133474766228838, -0.821145306010104, -0.9468304736824715, -0.22060689540811113, 0.34257804302795214, -0.4995421454908643, -0.25187477847046624, -1.7250893569778034, -1.0707262107671511, 0.9800122643516087, 1.5609885984627314, -0.002601302580707371, -1.3981121758736261, 1.142150898628716, 1.0717228427201575, 0.03789012102667892, -0.5410470911299587, -0.048465856963239726, -0.4570734904578935, -0.8660528424777837, -0.8157945979980786, -0.8313080600426348, -0.5397387954925175, -1.3507354652069195, -1.4195615698823858, -0.9597702538650275, -1.0104048522152198, -1.5313382888138798, 0.8013959333829536, 1.8184702754810418, 0.44934638675188115, 0.10979292718145049, 0.6968278952573014, 1.6223930552461596, 0.46635834677872134, -0.8712964349947862, -0.02668430475305163, -1.3214998737695143, -0.7797642511675944, 1.530107272662369, -0.8405367918578179, 1.1626991112079366, 1.7030409029953948, 0.4004972317681991, -1.3524156628888442, 0.9167849784293118, 0.2318846341242375, -0.18148242411448395, -0.7063076985926116, -0.12843986720672063, -0.6826182263729981, 1.07990815421275, -0.5743892870095373, -0.8383740598495033, 1.053516169139427, -1.4417727708335852, -0.8802887198771081, 1.0843932396608444, 0.7574613432432911, -1.095048047373058, 0.5033563589496831, -0.4493842401613395, 0.9356048822786217, -0.3042624351993375, 0.47562592590097297, -1.0017878350889964, 1.1367583147976965, 1.3241550933564628, 1.4132451577106124, -1.4285158599522256, 0.2187946552074997, 0.5470182189591094, 1.4958664260312562, 1.1374520033019204, 0.12331574345651306, -1.5628476596230476, -0.5747859218821624, 1.8346262000742226, -1.182658110113162, -0.3170020151693207, 0.6342757309321556, -1.0068661019207599, 0.560904578899269, -0.5412496285391486, 1.147028535268284, -0.06684002408604334, 0.7418658550265743, -1.3978206181845, 1.101373200555376, 0.8353404167523352, -1.0366159841680296, 0.9647248839075135, 0.7271335352040904, 1.4017173220251216, -0.9377960668521301, -0.580379554661512, 1.3268330769750505, -0.8419309409914022, -0.8391035686285834, -0.564043144392429, 0.38236787522703153, -1.6002034952583362, 1.8829398200288376, -0.7277392680071354, 0.8863769055235998, -0.3553975324797527, 1.0657781000835653, -1.385027322861549, -1.3031835090864188, -1.0178456141791286, -1.3185878376284637, 0.7186614563460343, 1.3948830135172887, 1.7270870998937706, -1.0712981101218708, -0.6120170750136281, 0.8118742851943215, 0.8315103502127559, -0.8017061248268118, 0.6345599350967333, 1.1355120021834655, -1.2415178103004827, -1.3735484435989676, -0.9048866482926776, -0.5177040406799582, -1.2277240382914767, 0.7722650609434946, -0.6185787062097552, -0.13636006597205202, 0.543249717081949, -0.1558004119058677, 1.3250788007968068, -0.5859355400199524, -1.1059797232667292, -1.4252254984605977, -1.0810804237167786, 0.010067292320817295, -0.8781656333988552, 0.42750695483706014, -0.6404216217667165, -1.0200059272436717, 1.0904017075400243, 1.2233957973020155, 0.7779821998966014, -0.3762103695460727, -0.5461725536267417, -0.4271786225659923, 1.087423185961162, -1.0578699538634566, 0.7922211218325517, -0.8523913106053038, -0.33127380746423685, -1.5015021572149483, -0.23966572098147965, -0.17488552108279254, 0.37436653695021965, -0.4812350383789943, 1.6977819379730525, 0.7403817949130034, -0.9768188246367298, 1.252955242272526, -0.1346178378654066, -0.7164935238152839, -1.2246627947573963, -1.4936789743925025, 1.1182441409258153, -0.9705343308190874, -0.8615800917480083, -1.1354540219559563, -1.1097024471512555, 1.0075086860210558, -0.8086240944958942, -0.7451236504532169, 0.6552168556411344, -0.4013461962405245, 0.761595429666701, 0.9943773521906347, 0.450711544880119, 1.017131449978348, -0.2675323213541061, -0.9350618786500486, -0.6367608786659998, -0.9444021437051345, 1.025255695819264, -1.2767492605836737, -1.7557778959623604, -0.5200804516794902, -0.06447430928697424, 0.5092756899488174, -0.2477843249063662, -1.142955266759415, 2.02399312031166, -1.3219861777314184, 0.8034603898542737, -0.3432337205970748, -1.000264379391722, -0.4627839555098397, -0.4661374406596088, 0.7213585210974821, 0.3067531921772789, -0.578298114352515, -0.21067851413982402, 0.69167559222273, 1.6098608820028466, 0.6279245800654831, 1.409339426393982, 1.509918584590007, 0.9543167669268023, 0.6465065137696449, -1.4153882418019916, -1.1321594865294788, -1.294504944197714, -0.8113269846972261, -0.2886681906923084, -0.6458826784851266, 0.9020728123348108, -0.8105852922394827, -0.8402387872511476, 0.4571191300562196, -0.19148373393393672, -0.39836616235052325, -0.9870016722429059, -1.339694451044657, -0.7797456354585857, 0.5875952139651277, 1.4729936331787628, -0.49164137405816577, -0.9834249138850243, -0.5782895182718967, 0.6068431120764154, 1.2893032953177914, -0.4461630170767513, 0.40141373204924974, -1.0297061815259752, 1.1932463511252318, -0.14695045610701807, 0.9161657675393501, -1.261176350775496, -0.6728779251759057, 0.9469908029493016, -1.1362671431399556, -1.0877888827145856, 0.596369600348166, 0.7763293736233219, 0.99361269913147, -0.2543344251162011, 1.1946114515708797, -0.837269946020773, 1.2401679120646212, -0.2582739837852435, -0.5229774499056843, -0.2775147946601664, 1.0863902382747712, -0.6966411900791173, 1.179982787790323, -0.8472000821866444, -0.7684858527054177, -0.14829805412913613, 0.0050040552138414796, -0.8539705306644515, 0.36232383451559835, -1.3695724857589644, -0.6691276576349603, -0.11646868941940342, -0.6590411900516293, 1.5904091158383016, -0.9446426941380797, -0.8663264493641545, 0.8441057073884924, -0.6841811235838139, -1.1585618147631673, 0.9591566928287669, 1.0779448656440032, -0.2552743603985867, 1.560349389845172, 1.1171702958067535, -0.10069157446646419, 0.46275902856934764, -1.2182276396721792, 1.6889425607136175, -0.11826757332774085, -0.9959009767280939, -1.1488525938919083, 1.5129706651596697, 0.03190523793099684, 0.518340491545113, -1.315195785034211, 0.7051891175356263, -0.07161784945251348, -0.8605210102759031, 0.027007087028425483, 0.6460761980991809, -0.5177586530589794, 0.33450006424280876, -1.6118574423284595, -1.2118223823250207, -0.30816790549575696, 1.2873937051678355, 1.1963367589535625, 0.8877501881064963, -1.6440356451005658, -0.22404300818167566, -0.8569258665822364, -0.5145695260591313, -1.0226021707968165, 0.29578869420144854, 1.1581070669606308, 0.07033515744685576, -0.6435736274885692, -1.0087286868236367, -1.257644659300644, -0.8833450279743756, -0.06442607565231818, -0.24739768220500546, -0.46853361684383965, 0.9617169793358392, 0.8883132054389915, -1.2169025420342516, -1.6032216397352772, 1.0681049290403508, 0.25134595780651275, -0.16260097980191462, 1.3348456392875903, -0.5042714942261606, 0.9181427984719576, -1.2344857818736785, 1.3923170451805815, 0.30508213550221264, -0.22814996728305065, 1.4923375435196695, -0.36380695104259714, -0.33689833700033767, 0.5427634931532964, -0.6318903726194333, -0.30871908802833364, -1.2036754217298857, -0.7329974854675135, 0.7469788421097028, 0.189174297815835, -0.7159610145003784, -1.4601612636836492, -0.3257415521069843, -1.5493841667331534, 0.4403445110848955, 0.4251453664064193, 0.9975128310961686, -0.40855504303565, 1.1839564315170155, -0.5713015990239484, 1.9237331820780943, -0.12328413618230954, -0.7620471132475388, -0.07757174749694999, -1.4568486422368463, -0.7128575799191718, -1.3120507594577562, -0.5635000039174651, 1.3127799619278675, -1.0494795952114706, 1.9423250027636803, -0.43119308411697804, 0.9295963414951013, -1.1622754878263253, -0.30563688547686024, 1.6681932711642429, -1.7592149827391106, 1.2930432453168017, -0.693328122125607, 1.147147798843016, 1.0024996253763967, 0.5447149253160005, 0.6373835393614978, -0.5890549779475046, 0.8111962868261194, 0.6915631651914161, 1.470324593310501, 0.9240930466145756, -1.339615364037817, 0.639564026094838, 0.28326710791308235, -0.5672133697951427, 0.559039335298398, -1.2247747517426275, -0.6594635914211084, 0.04441024975265795, 0.4262752397974785, 1.6891928374882348, -0.28091797355217524, -0.7242744221280233, 0.8975762164348561, -0.633611765404326, -1.2037829279406582, 0.7823839851349789, 1.5373086048508788, -1.6623932231019192, 0.13329582761818481, 0.22653115896574483, -0.6880658185424305, 0.46739330800815315, 1.4326014034801668, -0.44309068438685517, 1.0527853890144616, 0.42479445706724706, -0.32671068264188285, -0.9464791855150969, 1.1310476043979791, -0.0012760320227238817, 0.44995601336793883, 0.7524472829022394, 0.48196114413911584, 0.7143511502665333, 1.2484686087179708, -1.2259649099921959, -0.8643841596668795, 0.8410370998710897, -0.00500698274156447, -1.287713143368782, -0.12883043354445817, -0.6067583765273104, -0.9414837606859917, -0.9562091465378887, 0.8373898046559204, -0.5126935986369597, 0.5371956071758016, -0.27554848027485934, -1.1253422016640722, 0.2003985002761955, -0.155168930977385, 1.5741949451694586, -1.0716533073378143, 0.958364942884392, 0.0026609540103325925, -1.2848384394691308, -0.1446673510451172, -1.0030701462509082, -1.5019940687052507, 1.4324578358837274, -0.34364278404687776, 0.6422772648774528, 0.7691009698419724, -1.2097068921663865, 0.8510036764118233, -0.669598954624539, -1.2339994060661574, -1.3888094991851891, -0.41876772740444385, -0.5786386588758675, -1.3217226590508424, -0.46943990742609537, -1.1401685745679078, -1.1613394575424012, 1.0305051503543972, 0.89549034006081, 0.9375970432330989, -0.6053405071116784, 1.2838927376120068, -1.428020746664654, -1.478802291545117, -0.4865104610237537, 0.04262100359079543, -0.45180492482217055, -1.6469969703444454, -0.15543497278408705, 0.28030266750301364, -1.1270526246549544, -1.6094045332537295, 0.07483457674169239, 0.7161394586707951, 0.26884337137706993, 0.4429654649555513, -0.602525940456925, 1.1344531729305272, -1.4200732695173663, 1.2146844315474363, 0.6904277756079816, 0.028792928934223742, 0.531952061380084, -1.1581552351457636, 0.4328492522232546, 1.5580764783525254, -1.1218482914409502, 0.3998077543143574, -0.4778310871038705, -1.5335058839025428, -1.0718061728131139, -0.4428517710163986, -1.622084340501313, -0.5385615921423191, -0.2654551340859381, -1.1954087491886072, 1.0975367939930156, -1.2576829081143739, -1.06528184814624, 0.8142668795967736, 1.4751569079179456, 1.1259025362319497, -1.1046703101923836, -0.4033137322852225, 0.7125679312628309, 1.3898821423299235, -0.45622176149710697, 0.5079536613197558, -0.6329272954425579, -0.40461777328705284, -0.3610340237962717, -0.24341383998201893, -1.2778623023399451, 0.6478241269273306, -0.40622759243510537, 0.685729793831607, 1.073010099594082, -1.157816447116272, 0.7113188180165629, -1.2736493454915359, 1.2182434857924485, -0.4873571034988545, -0.5963898990980754, 0.8698033689514819, -1.3333415722849145, -1.1191603601326399, -0.4682440138820019, 0.9156863772015621, 0.5088839134631306, -0.4853197305963748, -1.4983663307971686, 0.1888700219523555, 0.8590748472538929, -0.31722907782886844, 0.8695696091677123, 0.5052916529744825, -1.4671704658673894, -1.247528231525388, 1.7478711099359554, -1.8165143481755974, -0.6453760034764845, 0.38496118361055015, -0.12083425118821749, -0.3599710977277627, -1.5107212133190007, -0.6394688382950415, -0.9116500029184492, -0.8813592961976855, -0.5321779482163284, 0.8676425794463063, -1.2459041491587237, -0.7927504645960346, -0.946290721766011, -0.8479984222115486, -0.016521836436721615, 1.0313915065638437, -0.5441211306630382, 1.5456955264251238, -1.2232920113003867, 0.43676436915706807, -0.7249352484732893, -0.4162951844605459, -1.2301766042837126, 0.14837048186113738, -0.9812713142395009, -0.07469037308398817, -0.09800515705555253, -1.2181887889642027, -1.290709979810157, 1.0102670937973404, 0.4610024112521998, -1.219820554814951, -0.38135566456807724, -1.3533483800519754, -1.8681641656504349, -0.435413929353148, -1.2794717496624082, -1.299995778692674, 1.4836594275815629, -0.2976040427854727, -0.666505860257159, 0.9192203778092324, -0.7867152483219548, 0.8766763522182058, 1.3708179589605431, 1.6903132741641005, -0.9565323706878961, -0.0007790218956825329, 1.6563537298070259, -0.7653576606612565, 1.2916157490437772, 1.373836774231294, 0.9166440516554635, -1.146118174381797, 1.2365123898667445, -1.0411130487535505, -0.88809318814657, -0.44461307286116547, 1.080937619108412, 0.2842926829786387, -0.836691338896826, -0.15978414640616198, 1.2076969257546395, -1.144912077792584, -0.35947583757380636, 0.813442203167457, -1.6091286308965715, 1.0110293486777537, 0.7232997820765528, -0.7876725028475492, -0.29709059254528386, -1.204057453013092, -0.46749145316908236, -1.124029607962203, 0.40507906844877867, -0.8217378327844764, -0.17598105691753102, -1.567179558287166, -0.3937886443113718, -1.5960068338403792, -0.532107925705472, -1.144277641820064, -1.1052533446305848, -0.5531265388618358, 1.6962418704661748, -0.685726804747073, -0.28626552410353967, -0.783870473649718, 1.0747362597311108, -0.7225840319942627, 0.4442974773733252, 1.6217020814307155, 1.3219451261361743, -1.344840779426563, 1.3792136729194853, -0.7766816019802641, -1.3678772078274326, -0.1082566174583549, 1.0926357597830256, -0.40141576792435124, 0.7984820530953286, 0.8489572844347711, -1.2259311469269647, -1.2841278962503122, 1.1358494059314546, 1.0849147583584813, -0.6382922397247466, 0.36007016162512384, -0.08660679524165202, -1.639774598749957, -1.2701072060461394, -0.7420109060780457, 0.33775435251054264, -0.3578714489698848, 1.2108688011362587, -1.0225980411935527, 0.617129654339212, -0.4385051345799551, 0.8761970354857542, -0.4684689701433245, -1.1136229196029226, -0.17471399581696595, -1.2337828621287343, 0.35238054953522613, -0.35156397683406226, 1.3208770776865024, -0.3024015322469165, -0.6178952236914769, -0.264637737727272, 1.3871335007187033, 1.5406708745919078, 1.006066013993133, 1.2068967876446732, 1.0412005281739085, -0.616087402252014, -1.036294521105505, -1.1662189242246095, -1.349119086000241, -0.8559297182685044, 0.9422114365762133, 0.8249562873032437, 0.504226539437249, -0.1721313363524906, -0.8210425928237938, -0.5065380181676412, 0.4539370017170966, 0.9838044200332663, -0.9534954895724466, 0.3963614966971881, 0.16472805491868572, -1.620188213731177, -0.1850335611207594, -0.8980850571584102, -0.2771158389424817, 0.5089023861334843, -1.5677220165467953, 0.42985479918085645, -0.8548264017590109, 0.6168974952810706, 1.49188592613505, -0.39419164611830115, -0.6508590996297403, 0.5227563021209247, -0.2518823153848654, 0.9621123252468482, 1.3560147669750449, -0.4467384815837353, -1.3468257031493138, -1.5397530065755478, 0.6470227449698844, -0.6601138935961853, -0.5897711944360157, 0.8687824627316236, -1.144304493740827, 0.4989780636008216, 0.7942866187943222, 1.6954321011918143, 1.2925342555523711, 1.215504034650447, 1.098346475311863, -0.9197555625045051, 1.304289233143025, 1.2560930291409098, -1.6421661214891479, -1.4786812052770069, 0.6940937367588029, -0.8159913728695891, -0.510752571622052, 0.9994434304886842, -1.3522597528334788, -1.4211835876118957, -0.7763481403869584, -0.23700220813348272, 0.3920277903643508, -1.204530089966101, -0.33023963486964986, 1.322721159313292, 1.3658696347446884, 1.6325093053477935, -0.2101939047697478, -0.9566853087807955, -0.3904679947075679, -1.3994111267280995, 0.12198792178652933, -0.72046204605339, 1.6785880080044933, 0.5329075233147474, 1.5022920649312788, 0.9141374394985005, 0.37848009273868377, -0.483024262509581, -0.46836278346514987, -0.19856488801363398, -1.3133536035917897, 0.5886492761017622, 0.0358908672475768, 0.7621559850139359, -1.1327192058263225, 1.372118702308199, 1.1103631949291022, 0.4896862242372609, -1.4365295943537981, -1.488282384699556, -1.0508949654734023, 1.987314912164064, 0.9523354320555311, 0.619133596473943, 0.11312709139236612, 0.029833134166023213, -0.6941623177643447, -0.17264486600436907, 1.527137629922725, -0.6710253961414935, -1.3062721850033308, -0.2347714281724959, 0.712198644204814, -0.7373310338033515, -1.5229814585914756, 1.7659350331106838, -0.3840545061401962, 0.17026462386899358, 0.74804280153414, -0.7159731306572437, 0.67666957970498, -1.2552211330544571, 0.9288443850738964, -0.5540825500333256, -1.3253753217432784, 1.8751760196408551, 0.8460400799091952, 1.1077543692470553, 1.5088143570253372, -0.526521444167034, -0.41744327572083295, 1.571029104481069, 1.7778865904160381, -1.3605306351927953, 1.2328458045461796, -1.0388207469618869, -0.5265223713384407, -1.2972880597663672, 1.7477160012798085, 1.6441103970258337, -0.7111421024481701, -1.6378977874752478, 1.050009488697616, 0.7086402136405566, 1.467542502808953, 0.30199921719144973, -1.3991141625917354, 0.7278326042869492, 0.31669934268809474, -0.6852307535673765, 0.2370339310651906, 0.20842096856822453, 0.7730022666863716, -0.5468651361415916, -0.8946030238592185, 0.8301087049351666, 1.5925517096983175, -1.2810824956322053, -1.0714522554139343, -0.6096905230893928, -1.2982648317630134, -0.8543007967987934, -1.1105194668357625, -1.6602783992855585, -0.7666919279150881, 0.6887561573249045, 1.948715096237649, -0.42125515158971705, 1.390520070557841, -0.911674148046359, 0.1313577991054192, -1.436179814361379, 0.9291008039968912, -1.1133650232097816, 1.0267741173954876, 0.03270617700224021, -0.6681417464966153, -0.984590178507849, 0.1254560454200026, 1.0128880769171693, 0.9468843035526406, 0.8177082577174595, 1.0822677739583768, -0.923874930127497, -1.3967802500518218, 0.4666705331047609, 0.5628204658134549, 0.859650178965962, 0.8700801892150511, -1.2707642652684177, -1.3213959458839193, 0.9792195148155862, -0.03400654034944017, 0.41450695724021985, -0.7813888394771475, -1.671846653505788, -0.4861895276656592, -0.8351826713523507, -1.4276118298596872, -0.41295407676233814, -0.8296886109453548, 0.9838360500298955, 1.7688171797691026, -0.9854882654521915, 0.2643298414829213, 1.0327118220733482, -1.4888235610136364, -1.2381376655023586, -1.0751347353436655, -0.6565127888088061, -1.411368094506103, 0.25385788010905735, 0.27321902319692787, -1.0297283640238606, -0.3112406767628354, 0.8078150830390276, 0.7729435675480739, 0.5485051372302587, -1.291592299435336, -0.6305146183260768, 1.3975931447254968, -1.0136138172013522, -0.9087001005224591, -0.8503995737891212, -1.1815125246925222, 0.8837365753414883, -0.688859934856636, 0.6863479204767859, -0.1280227376177116, -0.7295679614815963, -0.3394960529128229, 1.8643441990083474, 0.3809407162662018, -0.8770932798332666, -0.0255004532364364, -0.5158735156181459, -0.5751954498182072, -1.0035368124865522, -0.5314170140398267, 0.919878675935527, 0.4206146934521203, 1.273398211727481, -0.3182930166726734, 1.3519455912285159, 1.8886281087699883, 1.0567215257127067, -1.3878550403159406, 0.3638797328992042, -1.361105880441261, -1.2481708499338455, 0.1335078153790173, -0.6121408222251878, -1.2802775744672965, -0.8707706661473386, 0.44737634384801483, 0.7432097876583789, 0.2573609146795705, -0.6603136264209518, 0.6657466094808288, -0.4651252068821127, -1.422554530161226, -1.2999036625461693, 0.4364918584236863, 1.0168727468906027, 0.7606833910296362, -0.48557234115803233, -0.37064801584379026, 1.192580288556016, 0.603635090079523, 1.1169524007610772, 0.8877863513959783, 1.3442888694335555, -0.7899806528019648, -1.0038380483032876, -0.4701535819662535, 1.163096445640896, 1.8538796176723458, 1.11317308197555, -1.0278585546378862, -0.801297854587546, 0.5300922062969304, 1.4420077148710342, 0.9528489864302059, -1.6683659203725454, -1.2057623458647004, 1.0502710864736589, -1.5268884200325816, -0.3630744575629073, -1.2678975600831983, 0.7414659541037474, -0.6878838688285345, 1.1413497086540825, -1.0313777432045919, -0.03075776219801732, 0.7561758588611497, -0.4656567094740682, 0.592603131791494, -1.283644104268044, -0.4862433631391761, 0.46756009046908914, -1.5149095660366825, 0.20691490269476115, -0.8258090426027177, 0.5469638269627318, -0.7752780368185508, 2.016868977264749, -0.24674297000042786, -0.14890861904869165, -1.2387253712247157, -1.0255425825070161, 0.6007131465552041, -0.6678088947264801, -0.48366327081305627, -1.4171178582924417, 0.0651888804027945, 0.70195787630345, -1.4704657643047117, -0.921763120194013, -1.0249159213522723, -0.5330329115858727, 0.7674347057943827, -0.815252103971824, -1.1696085194342998, 0.17303592628804215, -1.0417312792612574, -0.3615378321805349, 1.208377063565464, 0.787794425919363, 1.5757653351970435, 1.2093807874232767, -1.0777835881025613, -0.651841026645446, 0.5281384689201624, -0.16810887292341692, -1.3167128673844206, 0.888654106839412, -0.8579999035338552, -0.11066355548178174, -0.9800897020929564, -0.1914966384235729, 1.5165340363394597, -0.41015246242899783, 0.004495278262631408, -1.263214640986794, -0.8798063820176211, 1.8858159956847875, 0.6025968425677536, 1.854483571077138, 0.14752882701228445, 1.3958325618851943, -0.8141828970306053, -0.5212539546688817, -0.3799894043879651, 0.8666459626244564, 0.8501396732425824, 0.9424496906201228, -0.4888499607797432, -0.945799600815208, -0.12748564088998346, -0.42472309852315726, -0.6593990023745739, -0.31964290620028346, 0.09925325670734726, 1.1584122472026, -0.8432060985154219, 0.8461762276541323, -0.7765665941797729, -1.4755443402888813, -0.6581350608284046, 1.4397509591492461, -0.48759661436336055, 0.7080059824203654, 0.0769423264381027, 1.3022666373262264, 0.9214006857319185, 1.4386498363555187, 0.74082534403533, 1.6831435771587084, 1.5873111113230811, 1.0987135600714906, -0.0390998688114928, -0.03549747183668576, 0.9549890217788316, 0.11592332512703113, 0.7753709596311742, 0.37776545878511825, 1.5224153905791062, 0.041619439345453216, 0.7410717839476362, 0.9448017737387753, 0.5494586361629479, -0.8758805743462093, -0.826586935558187, -1.1735637628753715, 0.4272939934884036, -0.17464030503997646, 1.5848794500768209, -0.8601290420548123, 0.41339301323548755, -1.7288495889358966, 1.5514593016962888, -1.000688920820512, 0.005396196213327736, 0.7462275176324773, -0.4449439098607455, 0.8594157702309424, 0.7811156772227015, -0.6650870796495234, 1.1040071582192663, -0.31094180751646283, 0.8670758173074833, 1.6677193287015406, 0.724903102031786, 1.15366524360935, 1.8698516817839603, -0.7619008248484719, -0.337078048736864, -1.5327961433743371, 0.7954401878463357, 0.015296975049363351, -1.090599668323453, -0.25375800000431603, -1.457402631730005, 0.9218655510700119, -0.9554835397704375, 1.5963611079093407, 0.7016423829410705, -0.1741183050187863, -0.6019135881555864, 0.8615613336275826, -1.3821573024029818, -0.3757748367100152, 1.0242237445972409, -0.8005503181432819, -0.7485556735188381, 0.5645047621310486, -0.48827271869981015, 0.6536762942667979, 1.028972264297383, -0.3593704189446308, -1.1235798008688647, 0.19142478982396083, 0.8578274137447327, 0.07751950875730226, -0.7399126007335295, -1.1154900769248146, -0.46997960529413674, -0.6215604565767237, 0.7788863370695025, -1.6338299825774785, -0.3314766119070054, -1.579200645782154, -0.6648238342038977, -0.6651846545405661, 1.3420071989154692, -0.9890537717355812, 1.6052351101588787, 0.46731939491077945, -1.429046185146219, 1.677845915290208, -1.2937526685114014, -0.023527144429582564, -0.12954721495882254, 0.6412894121236694, 1.4397707342947674, -0.5732694330058531, -0.3854459679415567, -1.513860182619855, -1.3732468833107443, -0.45812667638776083, -1.0651137485647086, 0.4415274650598252, 0.5749659168110266, 1.3085646677657865, -0.8736630784316948, -0.7264317451218804, 0.8761806006409784, 1.5402554665750907, -0.7645490512931632, 1.2081813089414841, 1.5876547645575319, 1.5297484072256653, 1.0150804529427013, -0.48236787653135427, -0.7444020921990505, -0.3102313891602572, 0.07754773358842391, -1.1670395577445696, -0.0054479024504588275, 1.1261081318955368, -0.7380814949855292, -1.0516122845880134, 0.3649932328025695, -1.081981879236255, 0.4053867091464663, 1.3915918753978909, -0.4544115297384155, 0.8880615083107908, -1.2061733658107119, -0.3942333815715375, -1.0055604377687946, -0.6958824501332304, -0.7968777499322459, -0.7372838130748238, -1.1172495464538206, 0.6069800807775744, 1.6854816409106965, 1.702055490032243, -0.9071300559097443, -0.563989316167827, -0.6719322267714395, -0.11985707335399196, 1.0283362705647665, 1.7355742873996978, 1.1973595378837552, 0.8824078732191978, 0.160426793584295, -1.0363680258252421, -0.08115948285296287, -0.13442139945185677, -1.2017305271252021, -1.4496033082978077, -0.693690501292704, 0.39252705102426144, -0.8183584132542967, -0.44092636729807194, 1.4206073388962186, -1.1083018080545604, 0.9224341890062465, 0.12571581895342024, -0.6839571199149577, -0.16856557602373587, 0.6077554765758236, -0.010906775859723689, 0.9796086291076509, 1.3369778547160442, 0.9138898437416537, -0.5089879345488395, -0.08448902220459292, -0.45236776277396407, -0.7131514843512053, -0.8256788116374546, 1.5648060651459417, 0.47930060680250275, 0.7928506496116003, -0.4854011002455409, -0.04247330953440464, -0.6915590634113284, -0.311593392147405, -0.22977843593158598, -0.7572252523235006, -0.3232951339720551, 0.04105448772631157, -0.582613777223542, 0.49527280002412927, 0.5659724077684836, -0.9027192785034747, 1.0541632879757847, 0.684053469124322, -1.4265453537651447, 0.497750440426805, -0.979154685195788, -1.3267847052451829, 1.1775823872520277, -0.5693152372058523, 1.4197265036678517, -0.9522064733155781, 0.4443699953959431, -0.04515924218183337, -1.2515663567256, 1.8589846428042367, -1.022454924423596, 0.9280145153781852, -0.7234157804176339, -0.31795409159291693, 1.210283224955136, 1.556678730188726, -1.0379814834450551, 1.5015563974713146, 1.0847714541197542, 1.1308910019274676, 0.04149212608016009, 1.551691742872901, -0.6129136667400339, -0.4740434546565275, 1.043899943257118, -0.8481942313943109, -0.12112093913624634, -1.2786042651125389, 0.8638403610382132, -0.9086509753373735, 1.8131423852521913, 1.5080461609583204, 1.8631467561469397, -0.0873193698063347, -0.14463443694643952, 0.9798876159411672, -0.897293945372445, -1.3509772209246833, -0.8178414123176087, 1.4279027142863323, 1.4010591849859462, -1.3918761014660084, -0.4498199713885981, -0.8984981998824488, 0.14470854695088015, 0.9774695031289528, 0.025149461275900648, 0.6934832273972599, -0.7562048798931664, -0.8427627890938539, -0.8938415980444104, 0.7804272782599135, 0.5781200649010666, -0.613020506810642, 1.1638881442868025, -0.3097522300166509, 0.4730870232512043, -1.4656980138752533, -0.2635944854229114, -0.8878216162189385, -0.20910024707261132, 1.279349184839943, 0.5021367111877693, -0.6440054660023978, 0.8238576507159888, 0.9164356634512755, 0.5278339957143231, -0.5425049825618927, -1.7002540022906458, 0.898193909341467, -1.2266199490512422, -0.8621489500457054, 1.576565909054792, 0.5462931071074688, 0.8288403867975244, 0.26673701718179416, 1.7722923128572914, 0.5036623942712263, -0.37528442512086707, -1.0141627387524617, 1.384683306238714, -1.0565889713442447, -1.3586740564805484, -0.43546885135790586, -0.44466522795748875, 1.1722899359869476, -0.4404997004074288, -0.5142923294060802, 0.8606793729650911, -0.572828753283543, -1.657133528345916, 0.5231523936998161, 1.0502744543997589, -1.293354291050178, -1.1438301958893025, 0.7230040226457899, 0.5963349111254999, 0.6894938110980666, -1.2473892714906596, -0.5884453129740604, 1.1055530940106675, 1.4325355088227234, -0.2688859218198562, 0.754728089378894, -0.9073297178592035, 0.04491959304116477, 0.042340677684415184, -0.5142603756312009, 0.040530138007712005, -0.628590012391721, -0.9514634024415137, -1.447003582934878, -0.5471203527328217, -1.1013910568398784, -0.10804109775399562, -1.0898291223693835, -1.0710854854146772, 1.0850746803736395, 1.3683299360894474, -0.11648982432436682, -0.705438123394926, 0.7731305649107052, 0.6202593793291291, -1.6843192587677436, -1.1952768770264879, -0.5112556575379344, 1.2026737484064953, -0.6092014611335026, -0.7116942393451611, 0.4902156072314949, -0.6517190252297568, -0.16400720453843987, -0.6720667797826266, -1.1785035747669697, 1.2675246044642143, 1.5974192797628828, -0.7605177639296381, -0.9211276816482422, 1.3609537189571865, 1.2773367393469504, 1.1270489147608906, 1.3792188617763497, -0.5255984012741832, 0.13279152945680278, -1.20698960608815, -0.4377731882705724, -1.2179702834333805, 1.6836237909838547, -0.12117494090831701, 1.0481800789712439, 0.4433229834848317, -0.9247281673944694, 0.6301918951053719, -0.6339374045781678, 1.1890535380836844, 1.2021672706612827, 0.8964691453074767, 1.5115044276094556, -0.43971884917214427, 0.6792744163319588, -0.5205034945183252, 0.08657734551491926, 0.8494044645953313, -0.6092562376068994, -1.32264003493782, 1.2000018800656291, -1.164416339388358, 0.10268009690870353, 1.2467706549523345, -0.7733055872353106, 1.7212765964333039, -1.083961020550537, -0.9363809588680824, 0.1461464527096743, -1.0170209865843478, 0.5027280787785925, 1.3671659933395002, 1.3857542953994528, 1.9224180143638883, -0.9583134918180256, -1.1699477427684892, 1.4920155043784629, -0.8541155571425582, 1.5768435160291128, -0.882433917738565, -0.4477272151316911, 1.187806503227982, -1.0807358014277475, 1.7684904349970112, -0.6024541861315996, -0.9359573666586516, -1.0243744312993703, 0.7154475892122656, 1.6800145515264067, -1.0766627671815923, 0.8483535375142719, -0.20932646388876452, -0.5001034544670002, 0.25149381904427814, -1.3672314703097457, 0.9750827247256443, 0.516125757230513, -0.007843714363677978, -0.17867832741563333, 1.7443597972664533, 0.8170765242875987, -0.7793813100487378, 1.3982126267882187, 1.8435628956419503, 0.5365534492477874, -0.20443532764432396, 1.6756554908901924, 0.6858061428144006, -1.070164102714826, -0.03228407027666555, -0.740373058066564, -0.5074727514933797, -0.6265286498763022, -0.7043465323034802, -0.9597923631956966, -0.9960639532187203, -0.6051005122557715, -1.4571904209305269, -0.31347234701164167, -0.3679218326184396, 0.42158726107322475, -1.018725259151014, -1.4574099797770688, 0.2592131327895402, -1.6926895354961857, -0.793318505072958, -1.2226421466237094, -1.204034404848021, -0.9986678867968108, -0.8692499190523367, 1.1063379799468631, -0.1812067676860561, 0.6356198065082366, -1.2020615790851485, -1.1630018417609405, 0.2820516045093794, 0.8613604554415403, -0.7874329908212697, -1.1502215318870692, 1.185601359984685, -0.8833879179578641, -0.6638560637811616, -0.36945226202445336, -0.34820830187666346, -1.3447478486914028, -1.2457428033653224, 0.8510033378610522, -0.633142760820452, -0.7957344254827173, 2.279133998021443, -1.51535502084333, 0.7234663887130885, -1.119236120982797, -1.0522044399877035, 1.5728471397385988, 0.5842174361835804, -1.3432677750640858, 0.2786822023142802, -0.6710948725001036, -0.19716865491191599, 1.9250744331276803, 0.07905134105656002, -0.634788157116397, 1.290441507311441, -1.5370665908488517, 0.8720119342529714, -0.7404489321726523, -1.1503903638978876, -0.6292707800872269, -0.5699882352917258, 1.455747120169152, 1.7804957380109812, 0.15495050121073684, 0.13129920261009737, -0.14386191609057697, -0.5859229259326004, 1.0929501969318387, 0.8551045139992304, 0.6744704839459175, -0.3983057047352536, -1.2785741899884877, 0.7383056553869203, -0.3872348845536897, -0.7261761711047301, -1.2598706077663784, -1.3139187048611074, -1.5894606101970807, 0.23471315371390555, -0.10496795075790222, -0.3831417938862125, -0.8992342771174158, -0.5428003918249263, -0.42725040458211916, 0.9205054323888281, -0.769271451610054, -0.7827075209501065, 0.7509970029311803, -0.6237536097391295, -0.1642497358707103, 1.3739293157288974, -0.8591222791506061, -0.8357721133953012, 1.1049396142905532, -0.8254364201956902, -1.0652696778291442, -0.6762028632462751, -0.5504874959428162, -0.46077889960429, 0.10854338485655296, 0.2280276515694152, 0.9199674435207916, -0.7801019507617524, -0.14584422595807148, 1.02327137306804, 0.8795614423636844, 0.1849304793664145, 0.06987630877612594, 0.45642029930224465, 1.164866017182058, -0.07584712902412587, -0.22102730476571336, -1.4227184678438571, -0.0778301660333989, 1.4240453698970037, -1.2555494057124672, -0.7326582804814087, -1.0778231393560695, -1.2866652113303352, 0.9287811680941238, -0.4091328804695585, -0.6287044206463084, -1.301356968070811, -1.4386490616508911, -0.5383181699762569, 0.003590074929816653, 1.0139312854414988, 1.6747659936702615, -1.1846126624580715, 1.8652783729205165, 1.6306466705849645, 1.0241555390797237, -0.1221023795395562, -1.2513349057189471, -1.0982914004207023, -0.35235082813904034, -0.4673496592200962, 1.1370995716404826, 1.4223691965449046, 1.3806738229860325, -0.0751644843527332, 0.6588262452748321, -0.4391497249209498, 1.0003435156119378, 0.08773690823033514, -1.1444352876224058, -0.11028966716127628, -1.4715407884702965, -0.081455816574434, 0.2511211511088878, -0.18757953010494138, -0.5455221222432827, 1.2156917759559671, 1.4455664139533946, 0.5254247376086612, -1.4480748964950731, -1.5404223693861112, -1.1728688606895683, -0.4121585629489662, 0.8064271271484502, -1.5201042710455386, 0.3848126059920637, 0.32686456876829645, 0.796530550472144, 1.2769037639241847, -1.270711172176136, 0.05883045496639715, -0.2637791049696273, -1.127491549214693, -0.5820623764288256, 0.9209357843026296, 1.5694052536425505, -0.9447170269919271, 0.4614351777574449, -0.4204695990638363, 1.106779763293276, 0.9428311667668487, 1.442396368231167, 1.4588872125713832, -0.13514039806885186, -1.1870243262195068, -0.995507350550155, 1.118508434809927, 0.30622665816531314, 1.4557621524612772, -0.11850031489104682, 0.8784534688223181, -0.4950044739672979, 0.45975165576078053, 1.0908975665050187, -1.1453869128713046, 0.9112419293079546, 0.6473810529631641, 1.1610195679327548, -1.3348413164537878, -1.45951186865428, -1.03753686411246, -0.4529731500473515, -1.0749543941668391, 1.8080820935152768, 1.0033782141285563, -1.081647094744481, -1.143291460750002, -0.55845904566056, 0.40491343172501565, 1.2846337930566294, -0.6023396934025779, 0.6807084695619243, 0.6567717866166961, 0.6122512595739793, -0.5371999809891799, 0.45995243914033934, -0.4488856072357292, 1.1518771264956051, 1.5407396749487874, 0.9283902929129962, -1.4725559474244452, 1.3149400507747577, -1.3194947581391956, 0.6821989646625144, -0.6977844387326194, -0.9753804540443975, -1.4296116319858174, -0.8249389097047746, 1.206062001135618, 1.3288840280853946, -0.006932632070789035, -0.377332571334682, -0.09398688153594871, -0.01243403891852854, 0.33242930960172423, -0.9803141279374353, -0.42693121784550375, 0.25072646371043883, 0.5983354147257168, -0.5031871813245483, -0.5139097243011865, -0.9293627512820976, -1.2976947821805687, 0.607326091648266, 0.8209441781993108, -1.0827348545970727, -0.7082744049793583, -1.3508670829330374, -0.6088682377755265, -1.2617571867498738, 0.5074499489895603, 0.9718210330713423, 0.6937920485149844, 0.5898639051385879, -0.6784227049984046, 0.8468912284020633, -0.9875200750362573, 1.7685897347760489, -0.9136772302603489, -0.4180558872214129, 0.3617639391385686, 1.378161128296414, -0.4928533480616346, -0.9878410175214407, 1.0839836773304052, -1.3061115461269421, -0.05814753608279288, 0.11086929169253638, 1.3127995691501746, 1.210286677131284, -0.8886977318897098, 0.8888622425187411, 0.8646798479621849, 0.2722904506226101, -1.1244535619356597, 1.2636440376195368, 1.4934269969444312, -1.0733547615535841, -1.251837922641063, 0.8731857304190002, -0.42224500184557945, 1.3696509701814688, -0.6873666535508407, -0.9326940110646764, 1.0406457400453253, -0.7437246306177976, 0.28613987565420773, 0.8719796960465352, -1.2194296543198593, 1.025996069215942, -0.824511160445617, -1.2856416948774885, -1.4750635654137763, -0.5374267461997264, 0.8845426959387377, -1.0967957129336643, 1.0252663650421214, 1.1700112161177088, 0.4520260843072755, -0.07049496248266733, 1.0665385055025376, 0.6945370937575296, 1.0115774386265834, 0.9654352631229057, 0.9579982821381672, -0.5672380207251836, -0.5168479575906997, 0.7466526135606611, 0.44745158447561906, -0.3349186634575646, 0.8445747130281053, -0.10337076696057312, 0.8415123588886075, 1.114433616663699, 1.048571826081253, 0.9232149834167486, -0.07862714966414584, 1.102743428268846, 1.8209251402756867, 0.6061703218359429, 0.21475002087160444, 1.0054755764193615, -0.8278770565772262, -0.8746395232173105, -0.7889049243304248, 1.683363349312702, 0.7740347807274959, -0.803032807031347, 1.4917599208468966, -0.7890119097609307, 1.162156394000834, -0.1777803630178897, -0.09988007404999127, -0.934633568258249, -0.6834171539232892, 0.7419888928989151, -0.5613734674295011, 0.4329813163105838, -1.0206164669287243, 0.6980137411768808, 1.694213624345728, 0.2642864099814274, 0.5712158142741078, -1.3833359685298388, 0.586150616867419, 0.8634943286482603, -0.28719638158089683, 0.6788083368582865, 1.136181773205975, -0.6216013365781826, 1.6291919856734718, 0.09343949939282514, 0.488035567807491, -0.1284031704734754, -0.27577386206649684, 0.6246076143365354, 0.6608790516483606, -0.5202485508467982, -0.6322775906132269, 0.2544080097024122, -1.1714192665002623, 0.5894524804208098, 1.6056762654721353, 0.4492132960997457, -0.06552090564889908, 0.18535113578747692, 0.6514818077396894, -0.3648694130652456, -0.4675821495499342, 0.701759602397246, 0.6246495970885587, 0.8867493866158289, -0.6721669185653748, 1.781390898277073, -0.2871982670551919, -1.2006833640107235, -0.13409366764253655, 0.8996095158603116, 1.1312313597827846, -0.20654856270151567, 1.7167291374985092, -0.43870647241730265, -0.9300841841871448, -1.2669449544806106, -1.0832245616580087, -0.001287490072419517, 0.8092768026707555, -0.9964061390422579, 0.5330296713769861, 1.1335467228963618, -0.33620032057586624, 1.0007185209593346, -0.554960942083373, 0.5171787723503266, -0.4456546501099801, 0.021584544667111516, -1.5466457360382118, -0.5344622835220041, 1.0872912460498345, -0.5120044064700153, 1.0922398775088167, -0.9576952818036605, 0.287379583534267, -1.4875232102669007, 1.032893983211132, 0.8689820961359895, 0.1008730905349064, -1.6922975077879323, 0.19913160034984792, -0.9211202599071053, -0.6726100822623033, 0.9147867048385654, -0.48978598167371856, -0.47076872595687036, 1.1773830915657348, 0.7485760764250583, 0.7217771922107521, 0.44602870433109765, -1.069604849797798, 0.6204097833069766, 0.0016933472517702136, -1.2295082025815702, -0.9504580500279495, -0.8790831352556412, 0.9565068602157158, 1.2430580391461339, 1.4643036167898325, 0.8531312641230112, -0.9150353986395645, 1.4979691254881398, 0.39145141657955973, 1.038726174091529, 1.341556821161295, 0.2363402377723811, -0.47462817975167093, -0.20001972740452076, 0.7914855296183279, 1.042219758598721, 1.6212044655458375, -0.03516217768347192, -0.9190661337840546, -0.08057697667745534, 0.7759962085290597, 1.2128498155786274, 1.3933127659871156, 1.3893950502167716, 0.38491886059399966, 0.5390843551654838, -0.8846508537977418, -0.8730291162056845, -0.7900291328266449, 0.29393678781745547, -0.4845111520914996, -0.6840151338581788, 1.2936643560077064, -0.503299793337228, -0.9288178303701075, -0.6459182820529397, -0.4842639146489107, -0.6715351974643254, -0.22786247243687083, 0.49323311308868556, -1.2716566954343798, 0.1018971938828335, -0.8154582520922886, -0.8050342381204053, -0.18312571983565906, 0.9048087400178098, -0.8980320783740476, -1.1604278436982935, 0.48563579572231785, 1.773560023024252, 0.9134717273767716, -0.9026264457716869, -0.08147237730028031, 0.6784619472225606, -0.7763966391985845, -0.7712975672776081, -0.849214497954499, 1.119032101817707, 0.8877494594802089, -0.22114813417645607, 0.32024731464142187, -0.37211256000505544, -0.7502161570246708, -1.055065095228258, 1.4094017035118687, -0.731733241452785, -0.4158162681685057, -1.2282387977154348, -0.7567407929547666, -1.4477663001512957, -0.3925857918595964, -0.010623041060941784, 1.6074678870281187, -1.3709962278781167, -1.3145994991866812, 1.4444303604446354, -0.3282228077789336, 1.81713630698348, -0.6157132302209587, 0.41586934830034816, 0.13794765381786694, 0.927196171097671, -0.2494172399596502, -0.07386149738426544, -0.8621892631299568, -1.025124637374609, -1.4186810142129649, 0.7103014093996268, -0.6727978522187421, -0.19411962085699874, -1.2014294025407581, 0.1173395876575479, -0.6506107805722278, -0.4982726683122939, 1.5967424324510022, -1.1413663689005065, -0.41063061811668744, 1.2871247542904314, -0.7395917682889396, -1.564617901632447, -0.6645198577925306, 0.3728326972635352, 0.05235236143745525, -0.708212962327241, -1.070892897142352, 0.5411370795929527, 0.7897667927998061, -0.818045571297396, 0.56754202875431, -1.5387044200962836, -1.48663154999866, 0.9162509286327386, -0.024808407724973724, 0.47804563567410985, -0.5542542706480029, -0.859155550491317, -1.127386908685461, 0.05253099724917172, -0.7605572290362274, -1.5536509077064087, -0.4086396022690738, 1.57622832325468, -0.4136911166300131, -0.07511966846879818, 1.155804586633352, -0.9527780236176677, -0.43608227853426906, 0.018402603541135154, 0.054454942208082294, -0.46123344220069873, -0.2295654183038947, -1.5282029644107649, -0.1151326306430833, 1.330691180819779, -1.5604122232231707, 0.21358929326062584, 0.008038926275079572, 0.003601059518298144, 0.8595837938915074, -0.4353411068188037, 0.4986879665310433, -1.856023146887393, -0.7327036048924074, -1.5673503621706588, 1.4010525658289301, 1.3324902506175984, 0.6348633655731636, 0.13951859085058735, 0.8725562577570944, 1.939376219332543, -1.551150056172677, 0.6185496525166518, 0.9621652800446778, 0.19149215246849138, 0.9118394268685577, -0.4196959870420335, -0.9702629856404228, 0.7360959933753055, 0.0185518277528839, -1.1483083430717458, -0.14940580326691152, -0.1262281987958765, 1.3583611522123307, 0.8149201997908349, -0.4232765552332844, 1.8103736396176056, -0.5242115280072255, 1.1971928802831264, -1.6988344773082196, 1.0472332655874994, 1.6454011397881974, 1.344606561229038, -1.2786996371622616, 1.5269490040122295, -0.5985090917929645, 0.26331479887127973, 0.694230910869271, 1.3934266597910445, -1.2803665871989904, 1.7448129865913007, -0.6968428479927952, 1.0893364716141862, -1.4405439017323822, 0.5336186463699353, -0.4756657090274541, 0.010574562864028955, -0.1742288160906677, -1.1613149548348438, -1.1449446003612183, -0.4955057407930734, 1.4251685188113776, -0.43522170226850937, 0.2094182666482587, 0.6340663244139055, -0.5973873603280085, -1.4334287202335099, 1.1719247431082622, 0.9533506464013075, 0.9972991054745768, 1.2019161443597117, 0.08403893093152917, -0.7840757172121193, 0.2730792597090163, 0.7897767340351022, -0.034120232708073836, -0.8025025358732943, 0.9911083541532281, 0.15497493141932783, 1.4805883731007068, 0.5204810663153298, -0.3751623094004023, -1.1436450498221682, -0.382512439560308, -1.177322130755131, 0.91000128937113, 1.3872378136450287, -0.6632231399317178, -0.24862857367237523, 0.6889125994828335, 0.898625474705875, 0.16737747263610356, -0.7564651822576705, 1.647917459500023, 0.20212937093630745, -0.8281226823123063, -1.2092549359151124, 0.21678878509827015, -0.28509287491882673, 0.02556971399542715, 1.4740739972894903, -1.1030499131774927, 0.05351723362317232, -0.7278400635152246, 0.46879130314652817, 0.1272627420985539, -0.45072587642551076, -0.6402726083139294, -1.858507766728563, 1.8436091099772223, -1.1774213953988717, -1.1125429541786502, -0.23730275895017605, -0.9347045667174163, -1.2057751839087505, -1.3461863678078378, -0.33743947838222094, -0.47404139433001874, -1.0905292961471043, 0.6752778926619817, 0.12709893705820646, 1.3480485386880046, -0.5652141161984785, 1.5027864127505857, -0.7026301998007286, 1.4599750415298018, -1.0283504019524, 0.5452682708357549, -0.8339644349480572, 0.9488106317661666, 0.8154430781793528, -1.7127274549466756, -1.1485665615042424, -0.06759040708682296, -0.8524358432837019, -1.2917803507999874, 0.6698276729807439, 1.4608511359715128, -0.06447810055789933, -1.2975765480928128, 0.04183064329987683, -0.45130522059135325, 0.9737201485138528, 1.5102926039870226, 0.3415157928424355, 0.7596150361992817, 1.3231401281111401, -0.1879312359325826, -0.8712338163845649, -1.1146476382811776, 1.5684915663099543, 1.611319973068375, -0.8308083718829415, 0.6254440087566063, -0.285097835363409, -0.8437469404957071, 0.9304741033190879, 1.1053657360997096, 0.7345701447224421, -0.3490187766603279, -0.8798566234560664, -0.5816203486671863, 1.069315353501116, 0.45314993881693005, 0.12244073490813001, -1.0936895287988315, -0.13518237872232297, -1.3658013155341178, 0.7458320743121862, -1.4478535367114274, -0.5779776216430241, 1.6279565596731067, -1.3241586964279601, 0.7478934150708582, -0.6945477675653347, -1.3622427349606574, -0.6259101887522719, -0.3026572456051022, 1.1600674195155025, 1.1560550819399258, 1.8392903142895634, 0.9725485142412305, -0.8143553755857003, -0.6740636941752471, -1.0946742151084574, -0.718029392205525, -0.24643163625664757, 0.47329792009984645, -0.46170401425815466, 1.361626050502027, 0.5474006248159538, -0.8194673850599523, -0.48381027275864297, -1.4170080141899348, 0.05074097644637543, -0.8568965038790283, -0.3640761588320165, -1.194799149298459, -1.5435311280149264, 0.8434647755034349, 0.5534508773228926, -1.310998725487259, -0.24393183593684753, 1.4345699645876286, 0.5361768691372149, 1.4042900786833827, 1.345042520995054, 1.1376761923313903, -0.07829205851268378, -0.5956608202015788, 0.09936496579355399, 1.5328072295064026, -1.6199809079277896, 0.9766548516724801, -1.1766001488662654, 1.5975188002190313, -0.9299818636406018, -0.6862566846122864, -0.4505170203751314, 0.6354202576958136, 0.7209313498599298, 1.9392175587139389, -0.4090072750586113, -0.35416719430898885, -0.5955408985540326, -1.191407062539765, -0.5728701436556176, -1.5294668196536163, -1.6173750065257273, 0.8535485207294874, 0.48349033302205074, 0.8432157907663013, 1.332212983402642, -0.1948012994376626, -0.5195679385787362, 0.36198279199269606, 0.6270562627850598, 0.7194028018810006, -1.0263804838992847, -0.30404784837992277, -0.35889384223019355, -0.914710210120109, 0.0866516094652148, -0.12427845516746663, -0.6074242615833765, -1.2019502409081326, 0.3900487752469657, 1.2383313755911576, 0.9118500853561757, -0.37831527618251104, 0.3942802642554653, -1.3878402310055813, 1.6418738818279988, -0.3759493961774497, 1.0181170765034802, -0.5128384564379935, -0.179279642710166, 0.6448287224864059, 0.33852391355673583, -1.1802457396318493, 1.2402362848105455, -1.0382420637734104, -0.62585169886977, -0.06525926082719541, -0.3054212470528347, -0.9569513029337456, -0.9759675823527683, 0.006849237561203807, -1.4184153310399776, 0.4549834444762226, -0.9941284787765476, 0.6030415951548012, 1.1650862664257025, -0.17247326222963652, -0.7903072085128662, 0.3540204842512957, -1.2165807046553203, -1.5738239813558867, 0.7488622591940258, 0.34874960468124167, -0.0037348551088610127, 1.2823997224211596, -0.5999177022501805, 0.5008926959843101, -0.7837551734251903, 1.0853401333344381, -0.43398298935935653, -0.8380439049089754, -1.0336292686782087, 1.0988316797221458, 0.8295479777920445, 0.0006119522870208435, 0.2171690529199801, 0.03730606900493591, -1.3813514040481312, 0.5767655166956847, 1.107271397558872, 1.480727945043511, 0.019371315141654848, 0.4079356872889945, -0.21955391757740564, 0.11783164636574464, -0.9821489925750191, -0.10113487192501626, 0.8636983602202829, -1.6610404036135902, 1.2394593720965141, 1.107881041873833, -1.3116611618819023, -1.2705710132870143, 0.9301830927266705, 0.805440940035835, -0.540627534632219, -0.292011512436417, -0.36078782480205973, 1.7151373452403669, 0.9135218469691286, -0.36225944863865617, 0.2676997250064789, -1.2207870823897924, 1.2933451857109612, 0.8785377315518841, 1.1901017901743114, 1.3238226128973345, 1.2781602950458888, -0.16374719662083106, -0.6922828304045324, 1.3918340239807503, -0.7959035055222557, 0.8045590557963074, -1.0322079135057387, -1.3159806391078412, -0.9805011653649891, -0.5440644022908224, -0.10679710822279104, -1.1072000537431126, -0.03904793254445833, -0.7370429740668843, 1.329241899960685, 1.5180942284288315, 0.924489482200322, -1.4889900219492533, 0.21948524148685156, -0.8354004798986671, -0.62880164925909, 1.0475443588574052, 0.1766275015763686, -1.023071205648724, 1.0907833374578657, -0.6289663384407105, 0.6162211336469169, -1.227295676073361, -0.6791323437043255, -0.43540197645893447, -1.491685480574333, 1.2625084094727022, -0.6507722672327357, -1.457747109483801, -1.311033747971898, 0.48740356649354183, 0.5943471393228669, 0.4866218966507338, -1.1590744171701146, 1.740534043854424, 0.15383790621502302, -0.4451911425184101, -1.3443817308950552, -1.4960526515546255, -0.3605598602983175, -0.08763562999380181, 1.091505672650929, 0.624463585155849, -0.7473996113504043, -0.48891276573540643, -0.07253536380545297, -0.36998640670965877, -0.36585244363729025, 1.603370881256375, -0.5452402760680232, -0.22354296734983603, -0.3462953861122735, -1.0303333776464196, -0.250950712097374, -0.4135885741995814, -0.42894283668155686, 1.6841445020840002, -0.3037836031318387, -1.5133074417369592, -1.1695253211133165, 1.4493140409544734, -1.1915861893364539, 0.7912777834634498, 0.8701527565850596, -0.8087535807399648, -1.3462847373798368, 0.24338096394563047, -1.1080590731639774, 1.4794585910066185, -0.12955142797107688, 0.6728556402649444, -0.5144194779540004, 1.1753243808536227, 0.3105844107902678, 1.558214673935351, -0.35454429939334836, 1.2702277394265382, 0.5607935614515774, 0.8965910530610728, -0.617242543852215, -1.6698171860795135, -0.2175196094965032, 0.7132038960519376, 0.4488022828448934, 0.628916099412175, 1.049064642373987, 1.2787527629786595, -0.6941536449532076, -0.6059666240173112, 0.8897729020110158, 1.3136901610829657, -0.40196420331453653, 1.3317400304400817, 1.657278653320199, 1.3833037991676154, 1.2866501384888542, 1.555557442514143, -0.583303180078284, 0.9093237516700344, 1.087101400619209, 0.1358442255639407, -1.2119043575976338, -0.5379870804748434, 1.106131010979534, 1.1797978097709134, 0.3617467469020027, -0.5580999876972147, -0.6682413940692817, -1.621465168007834, -0.8606029987961168, 1.1491267562989158, -1.1761359960784443, -0.1473559499130241, -1.219832831618452, 0.6534248778267182, -0.6365837351640091, -0.06064060961626305, 1.6773452000352032, -0.22538312212777598, 1.6232885404963324, -0.9082742972120263, 0.9994538297482306, 0.1989604845711437, -0.5023982464567817, 0.39511672779812784, 1.0029351450931874, 0.7420999591366415, 1.2958021081462923, -1.0617079026611749, 1.1995505463367773, 0.6479490937883469, -1.6373402366911274, 0.7518087550215448, -0.8825187356436913, 0.228693821059299, 1.3096196791123837, 1.5805058206563034, 0.9099408573756075, -0.1633474381577528, -0.31180442374393147, -1.3874961162040342, -0.5444546986250165, -0.6469484684405425, 1.220717714215956, 1.7484045048374601, 0.9061277402529152, 1.1936673213454516, 1.3615054975324763, -1.0727045697167605, 1.8278994069305692, -0.220495383424357, 1.3983424853786697, -1.838130134205182, -0.2031234751610611, 1.0606425637175514, 0.26545901114045056, 1.3552027477790396, -1.1419905985993777, 0.07392044277021229, 1.7456439496204514, -0.9675323110563347, 0.8077505690455481, 0.9229206592537188, 1.652591935471358, -1.318488665924066, -0.3404224579595111, 0.3182941105830622, 0.44058009265224424, -1.259813992672412, -1.2211462261368227, -0.1615209506763064, 0.011269356699683902, 0.22179810404644992, 1.706723199889224, -1.606709379939561, -0.8759845283267307, -1.050750732204902, 1.757726425386812, 1.502554188542771, -0.27666204899714575, -0.20504483765743758, -0.37430697789102857, 0.7129452852698004, 0.6616478238902396, -0.2945450510971887, -0.5756590656489433, -0.8135781319316922, -0.1257344680153044, -0.4310148744388724, -0.3330685066618567, -1.5981922530017365, -0.4095537391963703, -0.23753229804497816, -1.156074609982073, -0.31108643433680055, -0.7627056813893842, -1.2603732108101404, 1.0402353888323064, -1.0432501570540416, -1.4940378837465675, -0.22440699158346802, -0.6724549311836444, -0.41733328220749644, 1.9847622903744708, -0.3286139200312689, -0.21216357458173707, -0.7180966959405436, 0.4798876749079725, 0.5906117337899327, 1.4089663765800304, -0.8152693169919901, -0.1383953366283544, -0.6882071536655278, 1.409922166111618, 0.7151399746884624, -0.6062886952923301, 0.82836796601439, 1.2887171125671948, -1.1140926266783104, 1.126715004424754, -0.6137702873207519, 0.6282785445041381, 0.8787930409964358, 0.6353539965656654, 0.758454626047462, -0.16916394607833135, 0.1410488754795254, -0.7798402860536909, 0.9604981811612585, 1.6472446331224528, -0.7060822999058041, -0.7361548054322299, -1.4013900402107327, 1.2010364589663278, 1.6219521755413955, -0.4091692382101023, 1.6552383868003155, -0.8541306787014687, 0.32258054304226125, -0.7634226296243005, -1.8700086392751498, -1.2447498665525236, -0.5634375219639794, 0.07222824471049913, -0.8520344522192416, -0.4960546402528391, -0.7671313540616644, 1.2378414141442324, 1.537496291822209, -0.3903395317003114, 0.8095419929830479, -1.231350924989203, 0.480928232347242, -1.1518452980765737, 1.3987938457358173, 1.4210065166707324, -1.1684223381328058, -0.025373532379568325, 0.15221253434298648, -0.6399171093996951, 0.9365061692062053, -1.5713461337167898, 1.117153473767987, 0.5712153781459869, 0.7706283592185069, -0.6036579455104756, -0.19517678259092025, 0.4705021329882193, -0.96950045084307, -1.2516988617805784, -1.0023314763974285, 0.48619967284389615, -0.26205769064643225, 0.793093203505431, -1.1155089168203425, 0.742925026535023, -1.4438529946665037, 1.2858341087540406, -0.5986370844293024, 0.7578246583944468, -0.27620790322400934, 0.9723622298525629, 0.7738448941337295, -0.9441624983505695, -0.5581446266377501, -0.30781903518161635, 0.8320063374184515, 1.3730041075113495, 0.9801290649223522, -1.2331086068189427, 0.6163518984306688, -1.4055739842497585, 1.312293960321546, -0.4220238413189923, 0.8817037900847198, -1.6815111885321974, -0.9810795536014401, -1.31714331050647, 0.45144752418073464, 1.0452159465634183, 0.4838793745082764, 0.8771476756488118, 1.4658419680981871, -0.18208612842055008, -0.47337213883635876, -1.37574620984113, -0.514969708971944, 0.7694435851264575, -0.4824471872234964, -0.9071718084974203, 1.0974760878356253, -0.2684878570957003, 1.5139260283420668, 0.641483402023252, 0.5927854630905038, -0.5885193363413326, -1.6289537980362527, -1.232819908008848, 0.34665963227271707, -1.8103461260827696, 0.6117428913460367, -0.20590679194882477, -0.6108489507854612, 0.9983838314529949, -0.7978046390262242, -1.0978549636302137, -0.6920658212018012, -0.4860523958544648, 0.8157501551442132, -1.1584747918037588, -0.805089540744516, -1.0106795578228462, 0.9148253348821783, -0.9039131320915902, 0.8505284235266435, 0.3917395713913207, 0.4959074036829225, -0.22564112204849168, -0.8334438728982365, -0.5860295506666677, -0.4889576241740305, -0.5201762181391549, 0.9406701708443616, -0.8015166958500917, -0.5264140260105272, -0.5464541541134871, -0.5317815950691744, -0.5297720900933773, -0.9210173402927742, 0.787097615409219, -0.25636716538892335, 0.9451544880893481, -1.3446686970065964, 1.2254823716626888, -0.840977095253727, -0.4384471678599587, -0.2811999179751613, 1.5749402279304752, -0.46134691333384237, 1.359018034520501, 1.1881020535880478, -1.1253529975182677, 0.2676166913293012, -1.2413585393311712, -0.16077499443017745, 0.7397175361954113, -0.6485771882569384, 1.6178457915975748, 0.8134786156984335, -0.9848387574027945, 0.03655138820768403, 1.351560148048869, -0.23633869259604556, -0.14113145321508075, -0.9341321878656637, 1.0494095356216868, -1.229663902888417, -0.613979631161252, -0.7796442348004122, 0.5686282652637074, -0.4658919599709759, 0.22439989529412058, -0.9793174674869012, 0.6384036943129545, -0.7274683504970582, -0.6153748136039583, -0.21205521645066383, -0.5097992602437107, 0.6017869897257003, -1.0815792626508518, 0.067218254411521, -0.18046523096598727, -1.2756611135831128, -0.7815044375711289, 0.012764612946028639, -1.0104999903242657, 0.2852084654495202, -0.7492912099779295, -0.7683865404193111, 0.8703749153305479, 1.54338917103877, -0.9323820685342799, 1.4561247159642823, -0.6370523023507594, -0.7277804445466746, -1.453958992454512, 1.5499312584736047, 0.5409597704897277, -0.5081642857314743, -0.582699332885857, 1.1550130001178962, 0.7260138359612847, 0.42868630918139206, 1.3113662653720868, -0.1993462659006418, 0.02540274842773812, 0.8142917310975113, 1.0938759987734348, 1.419542912702333, 1.486953677390296, 1.1979520090097533, 0.8514812156503916, 1.0924000795871667, -1.0907464239694518, -0.7419817739189961, 0.5975519333020071, 0.5221503203316799, -1.4388254512832896, -1.3274824815884392, -1.0909698282501474, 0.14091291480722923, -0.663847408508614, 1.1097461982091987, -1.313741967711604, -0.3704912239038486, 1.102578294436061, -1.3434193999685449, -0.4292424550285036, 1.0159947486585474, 1.546199974204365, -1.4611058398159062, -0.148150343515431, 0.07546823229188696, -0.08934602614346503, 0.012434035295206397, 1.8967890316972567, 1.4551384319443537, -1.0215487595531625, 1.7649807998634701, 0.8823400621161261, 0.8968313905242066, -1.336213089928093, -0.9099989629081191, -0.8399128067359061, -0.7880941830765669, 1.706695075881436, -1.379831919877838, 0.2697615722421784, -0.7811866539984769, -0.9885167957225394, -0.5957227369008777, 0.7478647323712929, -0.9980785456151683, 0.48019678538329136, 0.9367120096156012, 0.12350467669398363, -0.013164010855000713, 0.5864836679679022, 0.6651716426094927, -0.6273122997536583, 1.0001093247240076, 2.009769532891331, -1.2739691604109409, -0.3990129385040012, 0.6654102990169766, -0.3103457345154298, 0.45037296626357437, -1.0002729018748928, -0.5857411863811066, -0.36865201443111606, -0.4224375952504376, -0.40313406228715526, 1.4233983294958799, 1.1678230520779365, -0.7395399689574211, -1.2292538321908275, -0.7053158088772931, -0.7766294324015864, -0.7741749538778429, 0.28674642942364204, -0.5904415614114669, 1.3226674288119364, 1.203385955049543, 0.48857529655068255, -0.5542708227396771, -1.1201650601412436, -0.7201081784168996, -1.4842761314644306, -1.2366750000080793, 0.8434744028156986, 0.6818912828096325, 1.2391173181977382, -0.15580718495465606, 1.2856171300991726, -0.8690185590514368, -1.5424770369992662, -0.6603311097330585, 1.3525576288829204, -0.04853781885163936, -0.9660364628709069, 0.6262156991459832, 0.3450274317071077, -0.17558348529198442, 0.5670846703358393, 1.2554753704418848, -1.234259850521885, 0.7792835759864478, -1.5430257078936302, -1.3420123474057457, 0.8468481744086969, -1.3946351352442277, 0.9815039013933972, -0.20289355309404272, 0.3158583581158558, -1.1819537668993034, -1.4341061362924727, -0.5257028134050306, -0.5844303035399119, 0.5291896544524541, 0.2588386078587632, 1.4237231977456533, -0.8527932953813379, -1.1841477126256634, 1.4621406453818013, 0.9662588068419747, -0.24670374939861678, 0.5832064003827586, 0.931957685708653, 0.5558874823451234, -0.7467056175208387, 0.21006502898005736, -0.4482423876071374, 0.3428087428612633, -1.5166560418366053, -1.1355423870556771, 0.20192047045011147, -0.4966024034964643, 0.8371919381670119, 0.7062066357263523, -0.05870201632085231, -0.19925497379697837, 1.3355101370754117, 1.340574186316682, -0.8296209925535353, 1.4702007087841467, 0.9054621523699895, 0.17459724085204575, 0.32370144608369367, -1.3144574304217722, 0.6790138554008391, 1.000989852350219, -1.2770435804065452, -0.5682621300681935, -0.4591967028142496, -0.608930032031203, -1.228902954574689, 1.1836385939095737, -0.6397301927763024, 0.3428601583301894, -1.0777789200041314, 0.9141559901686263, -0.18602911071463982, -0.16341171921901404, 0.9686350517509151, -0.023906952822303304, 0.9821988088513238, 0.18097252258220492, 1.3730240205351072, -0.8373091865858644, -0.31936222867171976, 0.6092910815897854, -1.4712624780475343, -0.7957005241077911, 0.8391871371879127, -0.03428417816770449, -0.6365121899083169, 1.479991487530907, -0.4196537326035221, 1.6286761655181086, 1.0513962718595202, 0.9233265267994237, 0.6082004941603555, 0.26727938053746036, 0.8884503365715225, -1.282456290324936, 1.7500780637173672, 0.7878948011707629, 0.28194947977739454, 0.5076914531879249, -0.9609718386435468, -0.9091137794903692, -0.7377151632886283, -1.5134587716034287, -0.6384126923597873, -0.16876072066579847, -1.4924179555837014, 0.022227985799354186, 0.8015770673955154, -0.497251930633977, -0.8939359873600042, -0.11829428689992011, 0.4509360226764441, 1.527157761395653, 1.0444318468222826, 0.8142234026653148, 1.1792458401914359, -0.32512454043635786, -1.0681686230078122, 1.0473861476579327, -0.29428100248474, -0.5526623400242763, -1.1438416373689007, -0.2952113051983955, 0.20770024595786096, -0.3188519081016809, -0.5507555452451042, 0.7797091073188777, -1.2863604005542992, -0.20151935101973048, 0.5375499498736784, -1.2915737739904372, 0.030582868236318124, -1.3275401214621185, -1.5186319926004268, -0.06862409048916789, -0.4843569808233804, 1.9808075367969216, 0.5187707097025515, -0.18300195680314724, -1.3034619967754646, -1.1606666754397854, -1.4076518599731531, 1.4494231894961056, 1.0575298947309768, 1.1664761034510098, -1.2473037036559802, 0.7362969811378416, -0.12226884747607217, 0.12183730745474358, 0.5341157191268276, 1.5225725188139219, 0.5506786332557866, -1.2509199411498564, 1.6314750314679263, -1.0202250090048743, 0.2941968340260309, -1.0047471139426165, 1.6737843782779696, -0.869518631960358, 0.49405815207570214, -0.27038898115091947, -1.1536668828168977, -1.218371459339276, 0.4135861655512653, -1.5998473336226304, 0.975308097009294, -1.6173905556481531, -1.5000876465975153, -1.3583466637046069, 0.7071109260229754, 1.0150277026785608, -0.362982704409182, -1.2971682599318546, 1.388902349761665, -0.40165816229673446, 1.1990971563817552, -0.45894979289978705, -1.2261514315595081, 1.6562376732867856, 0.9599824014377474, 1.2287516856410838, -0.6973257307234003, 1.0889382434395771, -1.2056811279176052, -0.7980064508283513, 0.11646351164586505, -0.37066036169730127, -0.8507887281489733, -0.8566662730300332, -0.09158088847783039, 0.7217942243292682, -0.2249239393273709, -0.5746920938530812, -0.017072148995409417, 0.8236472730017408, 0.6258573527742552, -0.5555843102032383, -0.21867865737898365, 1.4562114290340435, 0.42059966697738077, 0.6049518575652489, 1.2508014396642722, 1.104948696863549, -0.6663019933935874, 0.018601330998445704, -1.5729560549434, -0.7019828904622873, 0.22025840037512256, -1.102904010375213, 0.7948194453259545, -0.8836080111640789, -0.8127642211008139, -0.2744395343276904, -0.5262503488563992, -1.157345736393344, -0.9896509152103936, 1.444742428537811, -1.2107342356883761, -0.06186337130586448, -1.6971602321960482, 0.1285085811928176, -0.2898291979085514, -0.28684816912328126, 0.9215929120829923, -0.6115952561749514, 1.2813691293283338, 1.2289635927049802, 1.2148982724659436, 1.3687107970439596, 0.8613964953417422, -1.4397326043096703, -0.8183609847202393, -0.8985400811006004, -0.21630768939904219, 1.32294330620221, 0.41349408990778935, -0.41063333163589477, 1.1108106471401693, -1.1082949907134307, -0.4925591232730714, -0.7074968702243883, 0.7774148868307991, -1.5107269447554297, -1.5577463310068214, -0.7367189501718748, 1.0610059468240138, -0.4614791408081287, -1.0501832665907698, -0.028904846856370816, 1.7207489032735048, -0.8547850562982825, -0.6183403154286158, -1.044187992375526, -1.182826799937728, 1.4456666027038994, -0.9795801898515505, -1.216383234389228, 1.3802636971044375, 0.8487101522674249, 1.3062521799351912, -0.676323998226078, 1.6027521283635484, -0.5634734479161578, 1.372173739639869, -1.0955613239594946, -1.0101934124853664, -0.5320393385587838, 1.6896677778221694, 0.5592175085203752, -0.3967034805000008, -1.4691788869259719, -0.8200676074399217, -1.1653638141530422, 0.623554581329386, 0.9964809975082833, 0.22046890835970712, -0.910186949764113, 0.9355085863846384, 1.37139820187365, -0.3824006442281639, 0.4352431784655616, 0.2135098712229086, -1.5046790398272134, -0.7183517858955293, -1.5168688818821887, -0.7636940873807679, -0.37715555788475885, -1.589090492684777, 1.0875430854334411, -0.352770186026438, 1.2305869298059902, -1.3467992522529952, 0.9220236097999828, 0.786385559713958, -0.8465718938678743, 0.45594505086973813, 1.289664522078388, 1.4764369052865511, 1.0935778237574791, 0.6967088749139444, -0.8288046168002634, -0.41264084514721694, -0.5067737713614073, -0.6913444848376663, -1.4298700744549453, 1.3876199636510331, 0.5535914996531338, -0.37737985066137336, -0.2136804763235851, -0.8957268666856859, 1.2985364059430804, 1.390537657203741, -1.1804539417644737, 0.7509461677185038, 0.4359776875558917, 1.3644671911381776, -0.16733186204432673, -0.7168028744430529, 1.7759074300499442, 0.7147343051834548, -1.2965605164333145, -0.6634410537267779, -0.9623989366867604, -1.3393281818822966, 0.8504243353553601, -0.8468056498868477, -0.7963784956299603, -1.2926107629991388, 1.6642417846428599, -0.8704391894861415, 0.44556543280671956, 1.0186669612076256, 1.5158056028662563, 1.6637357656247838, -0.6717524255637274, -1.1659180951055075, 0.12442937233572078, 0.7888305029701376, 1.5474308786359752, -0.9218265180280075, -0.3849850198599565, -0.31664381643861467, -1.3545211867790388, -1.235996490144029, -1.1908499341635101, -0.6380645181110906, -0.7273175911831007, 0.4146101888446432, -0.7674439387434161, -1.1712503430668533, -1.4394348373995682, -1.9570224289498968, 0.4982545535567645, 1.1710367131118748, -0.738164868215264, -0.756780081710084, 0.4247530428970604, -1.3250571105119342, -1.4343463937450427, -0.6684291735401633, -0.030949710319308543, 1.3418398405346597, -0.6294699008941748, -1.2707928176265437, 1.568354875518679, 0.8778714740866952, 1.4331444218992617, -0.4808972656324349, 0.6794911399909273, -0.6167634844511716, -0.6445578527426672, 1.5464971862974153, 0.5839249868632189, 0.09076873533322244, 1.1496727646307043, -0.5712269158691627, -0.3223329364401812, 1.31975383179943, 1.447810045952963, -1.5919338643585637, -0.9924885970402808, 0.7007279955691533, -1.0057264779470094, 1.5831574036932459, 1.1777085728229855, -0.462693090416955, -0.6099857517199445, -0.2831087917183121, -0.4647929440620258, 0.2970854506265309, -0.9854785312962977, -0.2901177809088908, -1.2389819541292895, -0.516750197983396, -1.080158974823907, -0.7113506852532738, 1.2098657080463986, -1.1641220343994076, -1.1685945793156498, -0.47072172982395794, -0.3325512665707952, 0.6936645403088919, 1.4036056269116028, 0.523787861695558, 0.28277382238163346, 1.388351706121991, 1.6431657834693982, -0.07894630405467373, -0.26264826582420836, 0.42346276252060966, 0.6919099823564491, -1.2162378414639103, 1.5984495942582848, 0.8167117495306373, 0.0920702466868939, -0.8167368964054468, -0.8943932352228683, -1.287797318080226, -0.7549539444971421, -0.5440972163292219, 0.4566694150780621, -0.3066810119108935, 0.3965259729885343, 0.35785314487258246, -0.7871786328400696, 1.346158174068339, 1.0125247985819967, 1.3225462983436809, -0.8396780778911909, 1.1526750495774574, -1.4480674068219634, -1.0633637063641537, -0.45490051104801654, 1.0063595106849865, -0.9011843063530978, 1.2112340576543623, -0.1538399150893311, 0.11694911660387924, -0.6301177450980713, -1.2429861423638169, -0.25769203204463065, -0.5280048832698818, -1.033821097615171, -0.479629407690325, 0.3016659977363228, -0.2364809747590334, 1.5072720384547882, -0.29979053804220507, 0.018721053551786743, -0.5193907895714498, -1.2157027939587952, -0.7380723831687794, -0.20465338621282747, 0.39780059667195444, 1.7407484537589906, 1.5023479824399018, 1.2382052487756792, 0.8371267972223476, 1.6941186724512958, -0.21319359283868305, 1.255229035338266, -0.1773523954046047, 0.7612387879436245, -0.8692260568552274, -0.9074210303207099, -1.1783280696539848, 0.5730674112390087, -1.4451170578037773, 0.6056466927517422, -0.7738197191902803, 0.11150457022784266, -1.3098746261590706, 0.826911696430463, -1.261660316807706, -1.3086545944198018, 0.5957878939674355, 1.2881222113706807, 1.9863169967685232, -0.45546191920854207, 0.8779005629603424, 1.0670073768259325, -0.5792229537913433, -0.5778360821131283, 0.764920636512687, 1.9492041914457174, 0.9119186097375455, 0.7878478566978294, 0.9106569637032528, 0.8594406975672891, -1.3003523057598205, 0.7304022367563388, 0.9539813926399914, 0.8948132471514597, 0.3771738973053182, 1.124884048143397, 0.4026418878599696, -1.3369682501350582, 1.8464527570497822, 1.433683094627351, -1.2791110803342909, 1.1179902878267713, -0.854514817843572, -1.021756883482589, -0.5847896196569654, -0.021913128939774824, -0.42844123015111085, -1.0584265665924961, -0.5612828379150886, 1.6582824630531536, 1.0391647443204561, -1.068647752650638, 1.54128400306312, -0.5801399181091706, 0.8941786911983357, 1.4704483652204592, 0.5435054831262379, -1.0967478546265925, -0.9432982561276124, -1.422238173842266, -0.22789831602045432, -0.8714700316088935, -0.66030370049375, -0.5595177479198669, 0.028251937008809527, -1.1627939244367427, -1.3985033509196247, -0.6103444106633901, 0.3559180725066944, 1.541358603605886, 1.5359602979666696, -0.8527000650305911, 1.5249238885460847, -0.3720628070098269, 1.2845816551626135, -0.012907562674234638, 0.4425859920874208, -0.8150067674919517, -1.0088358895681866, 0.3439157847611642, 0.6446880958614404, -0.796433206880809, 1.0901836172790622, 1.617108694838445, 0.7580285762220361, 1.5412425910588081, 0.6467330300783654, 1.1931611845701025, -0.3191029524655694, -0.8774313306206594, -1.0476654437835737, -0.44439652400402896, 1.2651323629470848, -0.009682308740789625, 0.8226321959243066, -0.9995316769429219, -1.0066902192799427, 1.4381052190922778, 0.7093403855577409, 1.7437627299986107, 0.31825388876765925, -1.507677437661719, -0.5386857746012554, 1.5300774623678683, 1.0618496216668951, 1.1996341365138927, 0.894495471511629, 1.2223951648126643, -1.3953026839047797, -1.5013109234367943, -0.6709038786783156, 1.3592719943197742, -0.5763369700312965, 0.46473519361964477, -1.381590727053247, -1.2943779926378955, -0.8841444785236718, 0.7783397859077996, -0.6877267350642591, 0.7449016089377662, -1.5018164890241374, -0.05421344241180015, -0.03547409815611127, -0.9475450241422988, 0.6261524443568025, 1.8215623455880043, -0.8726477240452615, -0.6994697167461634, 1.440853726036361, -1.123298450251184, -0.48832765647617354, -0.5869998137811123, -1.0842638391011363, 1.7074194653755446, -0.6435619747606389, 1.2978939827356228, 1.028512985363847, 1.3887232095550965, 1.1050000814219807, 1.3332932128844721, -0.5203208708956699, 0.6506016018220024, -1.4838526115591621, 0.4879780292317927, -0.6755960423679367, -0.8168223585093366, 1.782945471925437, 0.9311434102285489, 1.0045527474961702, -0.607316820626983, -1.0029421504197766, 1.9392553023342372, 1.420572550405578, -0.9855546231531629, -1.075115249135653, 1.4034487978029717, -0.6327270818801178, 0.5739069956593019, -0.5312427540325373, 1.5203602995421792, 0.3563885130802124, -0.9844864741898822, 1.743999651028972, 1.117767448575761, -0.30623046407399446, -1.0782948143047146, 1.356050494522699, 1.2670123081094085, 0.6020250258930837, 0.6507178241334632, -1.1664499511150332, 1.5232849776900206, 1.0699410645232954, 0.45214056606189085, -0.2101641060919241, 0.6037795969995596, 1.2043807846622094, -0.20256115272705236, 0.8896563642687502, -0.4876864298128135, 0.5356200404202188, 0.5417503822137284, 1.3880567994442583, -1.1524865545114602, 0.543841241969442, 0.2048055919839513, 0.9303697943222412, 0.64099051313831, 0.7544560384804669, -0.6761940869868613, -0.9318230177128702, -0.10385502002536715, 0.018973661744127058, -0.8802094410114928, 1.677181832242684, -0.7771595386556027, 0.9840897090113128, 1.4543155279628524, 0.627007748371448, -1.1718084445713355, -1.405574792082165, -0.8322193363988428, -0.920271921036991, 0.746824358426399, -1.1604870135411465, 0.8766149714384189, 1.5319707237803675, -0.7888880653593764, -1.3407122470474762, 0.7862015469385327, 0.4036322464551098, 0.7880430008161362, -0.36136480722108644, -0.9582456341512794, 1.3512824477840062, -0.5976144983212104, 0.12139811299306574, -0.5025956610468953, 1.1365778557762316, -0.7736576824935393, 0.8316566338268258, -0.9633144153486833, -1.054882497272672, 0.8702931776003623, 0.774926122553417, 0.029299079120382626, -0.6326515294081709, 1.1924627785405213, 1.0143761882095381, 0.7522484533194337, 0.7839675767035064, 1.2291165971189706, -0.3776669376381063, 0.38974795612287616, 0.7360154901483332, -0.5312050245766406, -1.01061900410217, 1.6998104220071244, 1.0577187892693296, 0.711862629318849, 1.0797790002684493, -0.28095352802452717, -1.182488434642282, 0.9436103227391186, -1.507485418762884, -0.653872318286445, 0.6543398956048304, -1.1674663397512106, 1.5317391930277529, 0.9532476564716277, 0.9242232822536762, -0.545862887414117, 0.800073511542663, -1.085031462968409, 2.029028267074812, -1.4012498343382205, 1.6213993978585288, 0.19670783663289496, -0.993544200505947, 0.36877971514436053, 1.4956839853553678, 1.4415549096348608, -0.7681105870535154, -0.5168563039343116, 0.6497501495774686, -1.0529791660611014, 0.0020826896519008375, 0.7609610232160525, -0.07047672967447614, 0.7454220331026317, 0.06608732571066595, -0.9732542421719297, 0.8883166950064401, -0.6531313616981584, 0.729896938445404, -0.9399809111868983, 1.4393390746232178, -0.7852525765217153, -0.6887055804003805, -1.0519260730487472, 1.4557772164228786, -0.6563378406640367, -1.0760215159244042, -0.2879515674197041, 0.606518177940377, 0.048852322227582096, -0.43250096341789135, -0.6984552479398017, -0.7215709909002426, -0.07340212591974672, -1.1897720908446117, 0.050268061976420614, 1.3959096130908508, 1.1802671743160535, 1.1877373559374689, 0.06893916373481132, -0.3072661443413902, -0.5017262543282154, 0.8985969596373167, -0.3795566912981166, 1.0954266606158045, -0.798788769456499, -0.6729337335243111, 1.117171099332192, -0.8956535938407872, 1.2028388480410444, -1.0888703048088348, 1.5274156362128455, -0.4583768315050918, -0.3146111959980285, -1.1549506614968497, 1.295293325722412, 1.2160808544626347, -1.1417194779204551, -1.1426071733090208, -1.178110866475681, 1.1652220843558196, 0.9909708748724856, 0.4601145701075925, 1.6907137696961012, -0.26464016722678224, -1.05874134163448, -1.007261565610089, -0.49421507267329245, -0.7120444703312898, -0.7940446074653533, -0.47569962287141593, 0.7179874707384213, 0.3874652749143591, -0.1926525433892165, -0.829351334840828, -0.8776414521065772, -0.43339802805059036, -0.017128393176993224, 0.9476032693502178, -0.06495957023959348, 1.3965616001612848, 1.2905904373202626, 0.21355979640223688, -0.029186193774200703, -0.20462891448032572, 0.7532075948080278, -0.4379788047206409, 0.8407276444740516, -0.8726166685162089, 1.044435817148365, -1.3230455826122745, -0.25430001730984136, -0.15951060924657554, 1.1140200636949884, -0.04071558474523542, 0.49483494479635187, -0.628439822551054, 0.37219091755851197, -1.0219786965801345, -0.288607835991147, -0.5072109603714808, -0.42649093075034744, -0.6787681168152413, 0.6295394940074075, 1.1964679897772181, 0.8822761178962245, -0.7664807121662586, 0.8679399612474283, 0.6331666635966315, -0.7051634686045939, -1.0111060957188591, 1.0276447237740098, -0.39002171125658536, -0.21330884670740846, -0.3947843923145185, -0.8977247371880392, 1.6797348183938003, 0.3594058012940192, 1.5800701279089027, 0.35357545993684636, -0.03317429960394603, -0.6108336500797316, -0.9969226294926501, -0.6247259572298173, 0.5675825899362568, -0.8525621648390204, -0.8447893091133684, -0.6272645423227682, 0.6608738748262957, -0.29315361667455414, -0.26567996759079726, -0.941708763631541, -0.4121766286531443, -0.6526929322174994, 1.4964091119098608, -0.4277231915155006, -1.0470358969923104, 1.4626214118662757, 0.7967301640772664, -1.2590836726727783, -0.5852648853006421, -0.35466831478825145, 0.5576544490642287, -0.26080997184740606, -0.5443256384469798, -0.6464723323413597, -1.0262036950848406, 0.6044412519559003, -0.20656118413110056, 1.8768666002177685, 1.2056135152313374, 1.3446265814542409, -0.8510033676994813, 1.018585596321949, -0.7560604632602514, 0.7711049157713183, 1.4196554583406777, 1.060071254098609, -1.6294859340583832, 0.7669797876572744, -0.5036804147994456, 1.3705780466894215, -0.7249089184893214, 1.1209464291352131, -1.5087954861584272, -0.3353480833316752, -0.22498945016208655, -0.7537545229484388, -0.22636548622346525, -1.051777402621691, -0.841904087032803, 0.5320154746952773, -1.3629051919318127, -1.2567182624138513, -0.8130677930772149, 0.2851200949877866, -0.48038417628813906, -0.5722216568311401, -0.7432039388673282, 0.15361022290224544, 1.6447472106973646, 1.1409126845066886, 0.7232833493896635, -1.256916635317236, 0.3184403297453816, 0.11436989280599699, -1.2171360357633048, 0.4085987261785044, 0.6891313788941842, -1.1216104228692716, 0.6593407304821856, -0.6220279946731889, -0.038355353785761735, -1.098871187201128, -0.736861132134434, 0.9679797204927781, 0.7850491802669664, -0.8383201481814979, -1.386605605839073, -0.04855834871650949, -0.49910041193978594, -0.7226408425749977, 1.0326381840196204, -0.4894772104840632, 1.1609643700274144, 0.4414535945635028, -1.2622358125611115, -0.617851638463162, 1.126810137083564, -0.545241331930685, -0.850987092113957, 0.5282864022118594, 0.6541945799139205, -0.059181655726409606, 0.7697995973458697, -0.8850879283914231, -0.32579674667794173, 0.7693843798341065, -1.1134383796358593, 0.8254914320406375, -0.5555312349203974, -0.9711462571425964, -0.19053831977037847, -0.8968171987903358, 0.8246278478443108, 0.5802507778140897, 1.0406350096597294, 0.35069226996424796, 1.2139505378693924, 0.4504745273755018, 0.707469747418619, 1.3223715262651523, 0.8244621590816624, 2.0496456549017505, 0.5135704869715682, -1.287791525708042, -1.2658303340599246, -0.1321017149451716, 0.8336564922827386, -1.0168609554761592, 1.0427987244831416, -0.9306339513733932, -1.539094704848007, -0.5359589889967182, 0.9264684880028333, -0.8717268282591284, 1.0970990388687913, 1.965166546697798, -1.2980900719002308, -1.5502595655448372, 1.2961940183208007, 0.991780943334636, 0.6755484457650757, 0.5783766196393082, 1.9182975668180453, -0.666173588454801, -1.3556632849937338, -0.14380767765122562, 0.449068266951976, 1.3935132464083755, -0.5392642352915195, 0.9711607337931306, -0.08556882855945484, 0.7234343095838199, 0.6315041745542049, 1.7580177762434308, 0.14028116502465848, 0.2919497770752399, 0.4835133355350477, -1.144842665898086, 1.3700301234548116, 0.35694170709922296, 1.5598814858028005, -1.3943424277605594, -0.7829896521224484, -0.08443264112964671, -0.37759856727749525, 0.6385639044245465, 1.729795582511935, 0.6463131095225051, 0.38815456530570724, 1.1252759888081814, 1.1517757009477043, -1.0219210168066157, 0.7681715140478479, -0.8733890952075363, 0.7894061559894032, -1.2289811539310855, -1.664319178767693, -0.28972525581372854, 0.9263645605917066, 0.031063248351494002, 0.6719907791452406, 1.2042107556803239, 1.5292858620450753, 0.48304112270963995, -1.0470594419133479, 0.0260687495164095, -1.394974375547612, 0.6199297996660151, 1.2633641027071538, 1.8391916123207253, -0.5627949569314823, 0.5444830516622237, 0.9646484595047368, 0.5524830285929925, 0.4193241153156601, -1.452307044750155, -0.8402859469652731, 1.054033700004103, -0.6521630768862349, 1.4970277964136174, -0.288465186513906, -0.8204547504941393, -0.24971076463102443, -0.38222225821896133, -1.132699498592156, 1.4345323668047978, 1.0285136836978344, 0.5048304388155104, 0.703530679071896, -0.19507206216794182, -1.3367240284027815, -0.5764687316350458, 0.7353531708264072, 0.1011435558844816, 0.6332941702249874, 0.7711889331438372, -1.1703461022261359, -0.09205152771096398, 0.731735809666825, -1.26224510923268, -1.0561092476230172, -0.45018165266974075, -0.09243954487823901, -1.042720585689126, 0.7056967936864772, 0.8959973928779705, -0.29169190332524203, 0.7888121184342922, -0.9861418572485239, 1.2014136813115432, 0.6208483300984727, 0.896673797085762, -0.7731405781456177, -0.6039268064789993, 0.5518648568120226, -0.755458838740216, -0.9487422993755079, -0.4352284331463169, 0.13377116476856715, -0.49278093457375405, -1.1812724232193335, 1.4366924711303617, -0.7886699699036412, -0.8276761496989106, 0.7711145189663068, -0.569808784260219, 1.1582649555906555, -0.6996431240104803, -0.56817762137241, -1.4614386361273428, 0.03191799973918716, -0.7496503508796225, -0.6545989716909981, 1.3288404143502994, -0.7478855652455915, 0.6964830831343771, -1.4562859301916906, 0.7574631716431923, 0.9252176326462773, -0.5256856537452279, -0.5598706683071297, 1.5042442803392542, -1.3107196807437254, -0.484185846750163, 0.9395356719017048, 1.027714047444345, 1.675596281495968, 0.5917655464443409, -1.6521116834780807, -1.3999416322072136, -0.983062230209242, 0.08920503237105021, 0.7125247259296394, -1.6378921971280518, 2.26897789191697, 1.5654570052727983, -1.1460656029713385, -1.595947169998144, -1.1492854791335716, -0.21954955597660816, -1.4901075566477315, 0.3737447487758663, 0.7047435773996623, -0.23252212561494603, -0.7520815472164545, 1.629747982069468, -0.5797254919397412, -0.6574834329361503, -0.24935785509117542, -1.5625388215315208, -0.8970917293661603, -0.7853352676219152, -0.41126374723327863, 0.8145040551488146, -0.9029701867321096, -0.39110513116052414, -0.5186876333148838, 1.538596685222516, 0.9304859099764103, 2.1367844940144716, -1.3000762880271275, -0.2036690899776256, -0.5131821177121131, 1.2369590407720272, -0.2963003457744289, 1.0507504938643137, 0.5877642049092113, -1.3412313977628203, 0.3073892541915749, -0.5882507972871511, -0.6085982116618702, 1.4088645373579556, -1.2710019859207926, -0.532126834301156, -1.326455933042658, 1.2525369754084046, -1.0979461570163807, -0.7750177944924117, 1.4717393216064243, 1.3022393090370108, -0.969201652031198, 1.8537105801884255, 1.044565021420634, 0.2594362863403926, -1.3901537826477453, 1.1110701355711217, 1.4104138996765885, -1.0394983657587085, 0.8376033429119556, -0.14249796618625188, -0.21078339159826667, -0.5901526688237776, -1.1451405384637108, -1.592791604177098, -0.30522325327005095, 0.678342204624574, 1.9169789089135407, -0.14719624797406106, 0.8536160084927105, 0.9924336555180215, 1.0075456172353818, 1.0856035959119634, -1.5119976574994227, 0.7985433532274508, 0.987853246342975, 0.820970469781478, 1.309118436668502, 1.533979291524077, -0.8340433537999875, -0.08619769425469405, -1.7775850622984302, -0.5698039248543625, 0.41635235127797954, -0.981566321736743, 0.4015862061741359, -0.871254402880599, -0.8409280473681874, -0.5228622960407704, -1.4386938865244656, -1.4560027716715882, 1.4890665173437436, 1.7155806443074664, 0.9970028671722883, 0.8951634080449088, 0.08116892470210035, -1.1877309678330896, 0.5943326533218112, 0.8528537435782325, 0.406979636222509, -0.4300486811178772, 0.3235933653708866, 1.4313778780103543, -1.2832023240942705, -0.18653125625960498, 0.9862439684676575, 0.8182617288440795, -0.7268626744492983, -0.3460542044021382, -0.5013870404378855, 0.40040312776347564, 1.4037495918919962, -0.5508847028973521, 1.5647480272961387, 1.330673342351032, 1.5997981229612601, 1.7312121529304803, -0.5426984512271058, 1.3472704040731538, 0.8416310528053365, -0.3516090550516068, -0.43771770674365695, 1.4288010146677177, -1.2578804966764885, 0.8457200658462529, 1.091318460102275, 0.9111274968684437, -1.3220793138090985, 0.12107182825253068, -1.4599021053657215, 0.971798259698224, -0.7986900615363561, 0.9088430158107152, -0.006593961329254633, -0.63648985122167, 0.44660461919135236, -1.2523775005160622, -1.005873809380293, 1.1707335189038173, -1.459353328500469, -0.43920970116319996, -1.13318115385464, -1.1311999409270888, 0.5073858009082084, -0.935347359063372, -0.9300377391386434, 0.9601395043849915, 0.7888422226022166, -0.386352895507925, -0.8741693498858035, -0.7702850653326023, -0.6661984209193241, -1.5528366299214433, 1.418073781963044, -0.9920660953533644, -1.000241925445145, 1.392619381944709, 0.44048790428919066, -1.0015031135012986, -1.2703792287122115, 0.5331005733370519, 1.4822477710908366, -0.4308550908004637, -0.690208091268886, 0.04490212658600029, 0.6754102054445511, -0.45561781444930505, 0.8132811833638949, 0.49268782376837883, 0.07705574262463649, 1.1261428276359637, -0.24654647272982716, 1.142502139396985, -1.1703074239688989, 1.1716501766862613, -1.1723685975927909, -0.6981228850471344, -0.2934875442212693, 1.462000565509776, -1.2881027519609585, -0.3590969313276346, 0.8724535126280631, -1.698256488128166, 1.3252066908140376, 0.8914919221826987, -1.3903072458891017, -0.11707222129997011, -1.075481008958086, -0.8402953818329254, 0.8468374516258008, 0.7929380268288708, 0.9354017201171179, -0.12457542841439291, -0.20883199925714985, -0.7688193213291316, 0.21550163378175097, -1.0475438526933762, -0.21856422412728893, 1.7157471454871807, -1.370064514136518, 0.05620835860442354, -1.749378380252641, -0.44773637953500695, -0.24223116146187135, -0.5285606853210453, -0.4511657607159313, -0.49840471977754175, 1.069712924940415, -0.5344740052067467, -0.28216354682885414, -0.018350424574098995, -0.5284149164082209, 0.46087685671864487, -0.05432261171902822, 0.8280419050176456, -0.7631884178491442, 0.790361122259479, -0.26155288124485643, 0.8004242675516442, -0.07049942559135651, 1.0053811216167492, 0.7089611590851893, 1.569941171448264, -1.2940862719133963, 1.4687184216661024, -0.13082684506760422, -0.7808799110334798, -1.358933448243979, -0.6557237368858697, -1.4774895538551214, 0.6381469761989066, -0.5496536283177471, -0.30016743437053894, -0.18982092791132588, 1.125975146163293, -1.5025073395291442, -1.5713790371084682, 0.9324318061883048, -0.8305788675639685, -0.7053168442812334, -1.7057062701347252, -0.7471876422016099, 0.6227889119493758, -0.9784707596874583, 0.9113902280348881, 1.129102245615229, 1.9788057502143213, 0.9155149085431056, 0.5103383667766166, -0.5116985960372105, 1.7086922649273206, -0.17428038895398032, 1.070085956330498, -0.09226041635100068, -0.9473911353283107, -1.3709836373627935, 0.6040772943429554, -0.5134932605616959, -0.3768177221039501, -0.8466358972470488, -0.7479358787379841, -0.15704141039350564, 0.6336676994176785, -0.23099228591167043, 1.2710760505640677, -0.9780047344373934, -1.0902711974565884, 0.008802367753731005, -1.3605036912454131, 0.9983705753154017, -1.0529922791190083, -0.31646621415053955, -0.4837843259545568, 0.6268011273994429, -1.3433365209137922, -1.103834607539235, 0.45529200081674176, 0.6013311123350518, 0.768790460306426, -0.2849444540147046, -1.1524774266365547, -0.41325526813514685, -1.3119176635849548, -1.6653775842713447, 0.5670370653411619, -1.453841846407956, 1.01925760622448, -0.24965416973735108, 1.888538718451489, -0.8824396437706777, 0.8071908924518592, -1.3574764697823622, 0.6488247530269342, 0.7305145158874029, 0.7840416649140927, 1.2928308013063832, -0.33080850777397286, -0.2586659572710277, -1.1138290050449595, -0.1855149150453823, -0.6043714964352225, 0.11709796714267112, -0.9687113701731068, 0.7136178940449456, -1.5368021332328459, 0.6449573393344777, 1.1576651778424272, 0.564565566372205, -0.9171480389364854, -0.1143087340983045, -1.0999480765176082, -0.8133773159139995, -1.580056382225762, -0.4508374861024406, -1.1121156325446262, -1.60136759797924, -1.081533169639347, -0.7929311780016413, -0.6969874193824089, -1.4877329673915027, 1.3752524129794388, 1.3690397895216033, -1.1361165061460405, -0.3553539578727687, -0.018775630318182128, 0.7349469732829423, -1.6545134403613955, 0.5265832380869357, -0.8497851496810691, 1.058031275215446, 0.7995683536000122, -0.1504344805616531, 0.13762618339052562, -0.6938814246605409, 1.522685992246875, 1.3020802261008884, -0.6835262106821971, -0.2489998620472016, -0.35572297899069905, -0.8373324772045853, -0.7048711131283647, 0.40705736274550147, 1.3558654056335113, -0.5546773586691688, 1.2695027698231418, 1.0442349942106248, -0.8084938547815781, 1.2149672609308797, -1.5094926565185456, -0.8617958579228001, 1.2910217092023868, 1.2055128309017185, 0.22081385944514242, -1.3941709850365798, -0.3471934266200234, -0.45638489563554263, 0.8376654357498085, 1.056080035460173, -1.1974722918057639, -1.4681504568245767, -0.6197561708996839, 0.08276903012980658, 0.8171995927267403, 0.7643735750053131, -1.2812126832996742, 1.6170710320582493, -0.7175547894510474, -1.0023050109082356, -0.7786650717099395, -0.5490742654730193, 0.9727639944817283, 0.11292077618208071, -1.0797322296540444, 0.4930525281319889, 1.4288307967241636, -0.2365617425698885, -0.6833951533805918, -0.9782955960781653, -1.2148497344943587, -0.011436101259972312, -1.1883467842220483, -0.408767415677077, -0.5810721776484331, -0.3197205469813762, -0.41636910672818117, -1.2617023878614644, -0.7426157367388466, -1.2863386791831755, 0.730894032878787, 0.7579600619088661, 1.8009021325471308, 0.844468580986698, -1.076240932867847, 1.0385708608703066, 1.6424776887954877, -1.494681505181863, -0.6674541661193449, -0.7648039029239818, 1.5593650376886936, -0.2337942349446432, 0.5885694455262589, 0.8975794622838486, 0.37359179548216104, -1.1773257377371624, -0.29540021531265204, -0.09123571359317392, 0.42634915784807975, -0.7366599875295381, 0.5672385780040178, 0.40803584745538507, -1.1461861044174435, -1.3757314532070368, -1.0040864568171866, -0.48891046226967383, -0.7497001713440947, 1.4548070382801987, 1.5418042141976318, -1.2022183137828364, -0.5483417880206903, 1.5216648754457243, 1.5596546515385192, -1.158266916040013, 1.4485400171156368, -0.5991701126677051, -1.2444474805334937, -0.21993631242913603, 0.9387525201434616, -0.31094846339223137, 1.286596616189505, 0.13812638382925693, 0.7009075410036558, 0.7395607258232547, 0.6350360661097161, -0.29868484151208796, -0.40601755274248175, -0.14771210285649783, -0.9506911410771143, 1.2726416245804493, 0.9945444474267121, -0.42673064223086365, -1.183601267639132, 0.12049567223731689, 1.6899288955217713, -1.5457634291173388, -0.7325090275477447, 1.743166497550424, 0.58000498725098, -0.36134509809836246, -1.0929943263785853, 1.4230101801543062, -1.0203757380609306, 0.3205276045100762, -0.3116081059599174, -1.4539202642235065, -1.493407358025982, -0.40877333280829026, -0.5485002676634564, 0.8010013014286839, -0.17025184565433607, -0.8623932260730451, -0.7675404015904356, -0.38710054676763617, -0.8592669405144407, 0.6184708261840374, -0.08106933878997302, -1.2840969488021963, -0.25157642890017606, 0.672359183573125, -0.47496050804230644, -1.1845179431027557, 1.1954767803206012, -0.8139900063612673, 1.0361121649103764, 1.9299657574332543, -0.8454451546696331, -1.3681465367910581, -1.1411794728733136, -1.343894925585169, 1.5091648773872997, 0.9611871419516856, 1.0342506834791176, -0.7760833441223324, -0.2976470250951893, 0.7782029677292014, -1.333687322289817, -0.7130657085619602, -0.40519810289593033, 0.7879040644701202, -0.43278562100639123, -0.8502668555659304, -0.325065569685201, 0.8896847910694142, -1.2428910087866576, -0.16565144283442396, 1.6381502469092706, 0.7551910312178953, 1.1440549894357486, -0.33572510797398114, -0.7662979589521368, 1.559398664687854, 1.0247682258407604, -0.5192436760997824, -1.1754500271117618, 0.4744467462271994, -1.1280453547653098, -0.7809530820918519, 0.711129907373366, 1.2126779040162428, -0.6800307239112503, 1.5777684638085765, -0.6787461675450595, -0.8785119835455807, -0.15210112554050648, 0.9215713737228698, -0.6112255708600641, -0.7183434131082181, 0.8426938671216233, -0.9683560498602388, -1.835661092615989, 1.3880322818651911, -0.620079313119274, -1.3946392111705346, 1.0016752229229504, -1.5139637290132248, -0.4884222948862256, 0.9409660166526193, -0.91139554894158, -1.2993653588681384, 0.22463949947018477, -0.14017258934648108, 1.139564465940402, 0.8237995314185669, -0.8123667140085024, 0.6274465017839932, 1.4743485903892364, -1.5200085871934488, -1.0132291871966588, 1.56824658345836, -0.20858296401650758, 1.0447475832767101, -0.9558015796865218, 1.4694713723482538, 1.1535859560034545, -0.6446314496694706, 1.173019584462649, -0.5195906283513891, 0.8135826473854967, 1.0344307997333526, 0.982475157667293, 0.3434582807803168, -1.505402636392254, 0.7539218874034892, 1.8920806127545498, 1.785873283048717, 1.5846367728329966, 0.30003198807151293, 0.241921006165566, 0.07264650572099074, 0.6395247072684014, -0.8024318202533857, 0.28244550758859155, -0.36152605594246023, 0.5334336175025401, 1.2063960720889086, -1.0084222067539792, -1.5095990372296588, -0.5383978052296154, 0.4925264831006577, -0.5821161284763674, 1.333679142692424, 0.12134225305206499, 1.506943322703868, 1.3704283035088352, 0.7032765753153218, 0.6074347522972152, -0.18527052883577572, 1.2375059992277857, 0.8938653920813127, -1.4638100465971942, -0.7394656288281024, -0.5873992303311667, 1.5015082758921807, 1.1999295564441639, -1.4718660669376837, 1.494830151917405, -0.3901362331042584, 0.5166992914251427, -0.17054481719108627, 1.7782594336234168, 1.6141914603627738, -1.3070515463651469, -1.615022545173347, -0.5562637666780553, -1.363805694577175, 0.33651499970523896, 1.4676050866539214, 1.0321293638167286, -0.7113826081534743, -0.996663610222605, -0.5118442039323657, 1.047233255119907, 0.9141538989109305, 0.4660430868275631, -0.5946527923530229, -0.9387105620171179, -1.0480014963667534, -0.7962047385275056, 1.575475965798677, 0.9904427844848517, -0.0460468404832488, -1.0357583990906423, -1.0714240529935704, 0.6054245575158065, -0.17390431383697397, -0.3692592282052275, 0.6705783907433219, -1.2397281079163882, -1.1284106261069957, -1.2605121848854521, -0.9736256908100678, -0.7439013202861338, -1.3160772222959856, 0.5722926419565707, 0.553390401166777, 0.7649594099160973, -1.5262687495266742, 0.7909246596345123, -0.8556030995225399, -0.4407126662536903, -1.1910699836180378, 0.6217058737813063, -0.8804057519417459, -0.32376862225055425, 1.0479878511703538, 1.0654515312242863, -1.4904279845121513, -0.8350917507995566, -0.49374194706024244, -0.5075531641197377, -0.2549790945917698, -0.827409196525873, -0.24495769159038364, 1.2863186704779268, -0.6559873205168141, -1.0415071162669385, -1.415457628490448, -0.7769775340194687, 0.8456376425053065, 0.14573476448276146, 0.5284130371462057, -1.5190987406876477, -0.40914260614023484, -1.585725978637615, 0.8966048980522966, 0.9490695153995182, -0.42331655957908504, 1.015326972159437, -0.20162703607396273, -0.8475231634877752, 1.3920992463244566, -1.1860152823117558, -0.8904598982217089, 0.7048343533820709, 1.1832733362142043, -0.5812313988912103, -0.467272386237207, 1.2317406916544482, 0.9912384036225135, -0.8172560931879586, -0.931967075641351, 1.0953187423481365, -0.656379796398562, 0.12452416073290906, -1.2210940266596693, 1.6997915411684692, 0.2948699802211332, 0.7178027648249944, 1.0871311963292394, -0.9522249977233784, 0.2961034278923298, 1.3618685714496532, 0.460055655758976, -0.9916859191236564, 1.2338002679596756, -1.1230334729960216, 1.1382448804971785, -0.38109157402338756, 1.0635419075010848, -1.3213465298592277, 0.5363438588342179, -0.03858725705639653, -0.6277629521935902, 1.0257583958076761, 1.2837366721493273, -0.08157540381869248, 1.0804672165672842, 1.355278862519714, 0.37198535561219326, -0.859667476082371, 0.8509526421616421, 0.9452501159073341, 1.4398740497599027, 0.11282446890022277, 0.8694380450279106, 0.8832148336544647, -1.3565264715829488, -0.20463314989840606, -0.5323305712463864, 1.400853498329161, 0.6509394219281865, -0.5128490174899375, 0.7035674447140241, -0.7101279821941217, 0.10987837884885374, 0.848005693653705, 0.6644195209355055, -0.2763770192926332, -0.939613539508076, 1.1369409014215466, -0.7058040394330463, -1.0997575427309805, 1.647266505252647, 0.1772526625543668, -0.98957945784505, 1.3775964295869494, -0.4701717371836817, 0.8968782977020229, -0.2643677647389908, 0.6976568546012837, 1.284316764466055, -0.993118595502588, 0.6596575886909605, -0.12047456646166457, 0.5035515528397214, 0.8863262449686602, 1.2444285287796135, 1.494218413383159, 0.3872879158021383, 0.6713691948885812, -1.2514787477784133, -0.02974880723032687, -0.32675502027352177, -0.20455399504976432, -0.647103471162281, 1.2004022746347796, -1.3487824776934165, 1.2713114558574798, 0.3637541512661192, -1.1053683291538847, 0.001776136799372191, -0.08348121208886675, 1.7209670806751665, -1.4122008321502708, -0.38391839827074276, 1.487735671524194, -1.6252108340970732, -0.9797095454644265, -1.4500783800617236, 0.5458396209989177, 1.004668715987478, -1.4118034385929692, 0.8789008677833664, -0.993881917809671, -1.385059956237308, 1.663570520257279, 0.8639218688055255, -1.140454245288057, -1.5292982628707859, -0.7816790703485762, 1.2602765090201984, -0.288297872415528, 0.3823117490968047, -1.4119192647700276, 0.9454537123683364, -0.35975869453330284, 0.9752017195825697, -1.2071614598150302, -0.486693937611269, 1.2334669817873445, -0.6093274897540859, -1.300666411715884, 1.577683731876911, -0.3283373170896754, 0.8070043012983742, -0.3433758871662422, -0.25736696930919123, 0.20759800566679643, -0.47577791354594834, -1.483160347971055, 0.23242205077719663, -0.4487210826781355, 0.5049131072985261, -0.6398887447704233, 1.5528631743649663, -0.9659699683437174, -1.3207001796700497, 1.6741234672130667, 1.534229329254106, 1.7926982711523152, -1.1167649947583136, 0.2535905981802048, 0.7579949787942406, -0.19303455302303843, 1.6927671563872342, 1.3677873920137738, 1.285847378204592, -0.02629542252827858, -0.04281238732596446, 0.5172613825641802, -0.5760203326013519, 1.576919386782489, -0.229705709745128, -0.22011177233705986, -0.4726215794633642, 1.0782306134988486, 1.1138181446666024, -0.7184321037395411, -0.5681250593396989, 0.6255119354779703, 1.4614130774070089, -0.7775609612314137, -0.722494660770216, -1.4733504634208479, 1.5471489172528488, 1.5240752232828854, 0.653647211871327, 1.3439962184170158, 0.5127413568362, -0.5302912352318787, -0.9766466555537817, 1.4068960637471044, 0.8821756698677843, -0.5917000133769276, -0.7933185288341311, -0.6412382874597096, -1.269391806847304, 0.34891577143031305, -0.9080852935436012, -0.872036194491262, -0.13079871069252727, -0.31448624045299023, -1.6485534203103716, 1.471366393790546, 1.0710392775187858, -0.4435634574072055, -0.7785671189543131, 0.0701080098319497, -0.6792810985377389, -1.5023007650158429, -1.4802435352142318, -1.1666685559224246, -0.35280529833756935, 0.8535045628235622, 0.6280040966104142, -1.3311942605068843, -1.0979290784080813, 0.9412202954422335, 0.17405677685753224, 0.7269672309196081, -1.0451908605489386, 0.9763798610827029, -0.40809556837287975, 1.0122198153636235, 0.29332293252968705, 0.37054389941075166, -1.2109705325586406, -0.7931831385499585, 1.651265158137176, 0.7007123616463364, -0.7590501972842923, 1.134922716887593, -0.14037617808711175, 1.6740995585512266, 1.4387980819332078, -0.2302460558994637, -1.2626587027061913, -0.2527251695486223, -0.6149823943832384, -0.5334140323133929, -1.3863017210965385, -0.3952670785900516, 1.3359475083088643, 0.3142061289354461, 0.40983630920735636, -0.22842414015409937, 1.8169340258757916, -0.727949877072186, 0.9332119271300892, 1.4888364036083495, -0.31354905111864045, -1.185865528945387, -1.3585503326645454, -0.7644095478111687, 0.8945179705121437, 0.5094901850857364, -0.9898686474672518, 0.7898845712958273, 0.1367733408161624, 1.1537018222149356, -0.07788661153785298, 0.5369197581912523, -0.6575364014677332, 0.8101326355861269, 0.8464612022971242, 1.0678163301757102, -1.1883257424385125, 1.387383221567033, -0.43758833323440277, 0.39754477394935683, 0.09098623967738938, 0.782024651730927, -1.5416365864051487, 0.7288512944769069, 0.594150228922732, -1.804234138200069, 0.5282367461789755, -0.023027735658862264, -0.4102277294467019]\n",
            "Y 0       1.534360\n",
            "1      -0.503895\n",
            "2      -0.914129\n",
            "3      -0.073121\n",
            "4       0.592408\n",
            "          ...   \n",
            "9563    0.484421\n",
            "9564   -1.258044\n",
            "9565    0.682202\n",
            "9566   -0.199888\n",
            "9567   -0.156459\n",
            "Name: EnergyOutput, Length: 9527, dtype: float64\n"
          ]
        }
      ]
    },
    {
      "cell_type": "markdown",
      "metadata": {
        "id": "rolled-consultancy"
      },
      "source": [
        "#### Exercise 10: Root mean squared error (1 point)\n",
        "\n",
        "Write a function to calculate the RMSE error. \n",
        "\n",
        "**Hint:**\n",
        "\n",
        "- [How to calculate the RSME error](https://towardsdatascience.com/what-does-rmse-really-mean-806b65f2e48e)"
      ],
      "id": "rolled-consultancy"
    },
    {
      "cell_type": "code",
      "metadata": {
        "id": "phantom-alabama",
        "scrolled": true,
        "colab": {
          "base_uri": "https://localhost:8080/"
        },
        "outputId": "acd85bda-9b58-4244-e074-047573924270"
      },
      "source": [
        "# Define a function to calculate the error\n",
        "\n",
        "# YOUR CODE HERE\n",
        "def CalcRMSE(y_pred, y):\n",
        "    # getting length of list\n",
        "    LENGTH = len(y_pred)\n",
        "    if LENGTH != len(y):\n",
        "        return -1\n",
        "    return np.sqrt(((y_pred - y) ** 2).mean())\n",
        "\n",
        "RSME = CalcRMSE(y_pred, y)\n",
        "print (\"RSME\", RSME)"
      ],
      "id": "phantom-alabama",
      "execution_count": null,
      "outputs": [
        {
          "output_type": "stream",
          "name": "stdout",
          "text": [
            "RSME 0.26752544372182074\n"
          ]
        }
      ]
    },
    {
      "cell_type": "markdown",
      "metadata": {
        "id": "experimental-discrimination"
      },
      "source": [
        "#### Exercise 11: Split the data into train and test (1 point)\n",
        "\n",
        "Write a function named train_test_split which takes features and targets as input and returns the train and test sets respectively.\n",
        "\n",
        "**Hint:**\n",
        "\n",
        "- Shuffle the data\n",
        "- Consider 70 % of data as a train set and the rest of the data as a test set"
      ],
      "id": "experimental-discrimination"
    },
    {
      "cell_type": "code",
      "metadata": {
        "id": "dangerous-salmon",
        "scrolled": true,
        "colab": {
          "base_uri": "https://localhost:8080/"
        },
        "outputId": "9abfb2d3-ed0e-49b8-8a0f-18d291d77844"
      },
      "source": [
        "# YOUR CODE HERE\n",
        "import math\n",
        "def my_train_test_split(X, y, size):\n",
        "    n_train = math.floor(size * X.shape[0])\n",
        "    X_train = X[:n_train]\n",
        "    y_train = y[:n_train]\n",
        "    X_test = X[n_train:]\n",
        "    y_test = y[n_train:]\n",
        "    return X_train, y_train, X_test, y_test \n",
        "\n",
        "print (len(X), len(y))\n",
        "X_train, y_train, X_test, y_test = my_train_test_split(X, y, .7)\n",
        "print (len(X_train), len(y_train), len(X_test), len(y_test))\n"
      ],
      "id": "dangerous-salmon",
      "execution_count": null,
      "outputs": [
        {
          "output_type": "stream",
          "name": "stdout",
          "text": [
            "9527 9527\n",
            "6668 6668 2859 2859\n"
          ]
        }
      ]
    },
    {
      "cell_type": "code",
      "source": [
        "X_test , y_test"
      ],
      "metadata": {
        "colab": {
          "base_uri": "https://localhost:8080/"
        },
        "id": "k7J1uiY2FEZO",
        "outputId": "028c3635-2c3e-4275-96b1-107e24078ccc"
      },
      "id": "k7J1uiY2FEZO",
      "execution_count": null,
      "outputs": [
        {
          "output_type": "execute_result",
          "data": {
            "text/plain": [
              "(      AmbientTemperature  ExhaustVaccum  AbmientPressure  RelativeHumidity\n",
              " 6684           -0.046777      -0.846063         0.069508         -2.176616\n",
              " 6685            0.233971       1.626681         0.226060          0.514465\n",
              " 6686            1.299202      -0.114566        -1.211523         -1.987672\n",
              " 6687            1.313978       0.884148         0.266461         -1.153170\n",
              " 6688            0.010985      -0.702602         0.315278          0.502142\n",
              " ...                  ...            ...              ...               ...\n",
              " 9563           -0.609616      -0.423561        -0.241912         -0.027722\n",
              " 9564            1.847265       1.864733        -0.494415         -0.932051\n",
              " 9565           -0.492750      -0.863405         0.162093          0.364542\n",
              " 9566           -0.269763       0.439575         0.899401          1.459184\n",
              " 9567            0.540242      -0.235957        -0.231812         -0.143416\n",
              " \n",
              " [2859 rows x 4 columns], 6684    0.529024\n",
              " 6685   -1.188204\n",
              " 6686   -0.944060\n",
              " 6687   -0.508590\n",
              " 6688    0.296618\n",
              "           ...   \n",
              " 9563    0.484421\n",
              " 9564   -1.258044\n",
              " 9565    0.682202\n",
              " 9566   -0.199888\n",
              " 9567   -0.156459\n",
              " Name: EnergyOutput, Length: 2859, dtype: float64)"
            ]
          },
          "metadata": {},
          "execution_count": 81
        }
      ]
    },
    {
      "cell_type": "markdown",
      "metadata": {
        "id": "covered-canon"
      },
      "source": [
        "#### Exercise 12: Create a communicator (1 point)\n",
        "\n",
        "Create a comunicator and define the rank and size"
      ],
      "id": "covered-canon"
    },
    {
      "cell_type": "code",
      "metadata": {
        "id": "radio-origin",
        "scrolled": true,
        "colab": {
          "base_uri": "https://localhost:8080/"
        },
        "outputId": "e95dee78-7a12-4961-839c-940d8cbe01bb"
      },
      "source": [
        "#@title Default title text\n",
        "# YOUR CODE HERE\n",
        "from mpi4py import MPI # Importing mpi4py package from MPI module\n",
        "\n",
        "# creating the communicator\n",
        "comm = MPI.COMM_WORLD\n",
        "# number of the processes running through the code i.e. rank\n",
        "rank = comm.Get_rank()\n",
        "# total number of processes running i.e. size\n",
        "size = comm.Get_size()\n",
        "root = 0\n",
        "# Displaying the rank and the size of the communicator\n",
        "print(\"rank is {} and size is {}\".format(rank,size))\n",
        "\n",
        "\n"
      ],
      "id": "radio-origin",
      "execution_count": null,
      "outputs": [
        {
          "output_type": "stream",
          "name": "stdout",
          "text": [
            "rank is 0 and size is 1\n"
          ]
        }
      ]
    },
    {
      "cell_type": "code",
      "source": [
        "!mpirun --allow-run-as-root -np 4 python rank.py"
      ],
      "metadata": {
        "colab": {
          "base_uri": "https://localhost:8080/"
        },
        "id": "ikY-5PhNM7Zu",
        "outputId": "6ac3a630-43d2-4f8d-fd01-f72e3337516b"
      },
      "id": "ikY-5PhNM7Zu",
      "execution_count": null,
      "outputs": [
        {
          "output_type": "stream",
          "name": "stdout",
          "text": [
            "rank is 1 and size is 4\n",
            "rank is 3 and size is 4\n",
            "rank is 0 and size is 4\n",
            "rank is 2 and size is 4\n"
          ]
        }
      ]
    },
    {
      "cell_type": "markdown",
      "metadata": {
        "id": "miniature-plaza"
      },
      "source": [
        "#### Exercise 13: Divide the data into slices (1 point)\n",
        "\n",
        "Write a function named dividing_data which takes train features set, train target set, and size of workers as inputs and returns the sliced data for each worker.\n",
        "\n",
        "![img](https://cdn.iisc.talentsprint.com/CDS/Images/MiniProject_MPI_DataSlice.JPG)\n",
        "\n",
        "For Example, if there are 4 processes, slice the data into 4 equal parts with 25% ratio\n",
        "\n",
        "**Hint:**\n",
        "\n",
        "- Divide the Data equally among the workers\n",
        "  - Create an empty list\n",
        "  - Iterate over the size of workers\n",
        "  - Append each slice of data to the list"
      ],
      "id": "miniature-plaza"
    },
    {
      "cell_type": "code",
      "source": [],
      "metadata": {
        "id": "ys_sxFfZO0OH"
      },
      "id": "ys_sxFfZO0OH",
      "execution_count": null,
      "outputs": []
    },
    {
      "cell_type": "code",
      "metadata": {
        "id": "signal-medicaid",
        "scrolled": true
      },
      "source": [
        "\n",
        "def dividing_data(X, y, size_of_workers):\n",
        "    #Divide the data among the workers\n",
        "    slice_for_each_worker = int(Decimal(X.shape[0]/size_of_workers).quantize(Decimal('1.'), rounding = ROUND_HALF_UP))      \n",
        "    print('Slice of data for each worker: {}'.format(slice_for_each_worker))\n",
        "    X_data_for_worker = []\n",
        "    y_data_for_worker = []\n",
        "    for i in range(0, size_of_workers):\n",
        "        if i < size_of_workers - 1:\n",
        "            X_data_for_worker.append(X[slice_for_each_worker*i:slice_for_each_worker*(i+1)])\n",
        "            y_data_for_worker.append(y[slice_for_each_worker*i:slice_for_each_worker*(i+1)])\n",
        "        else:\n",
        "            X_data_for_worker.append(X[slice_for_each_worker*i:])\n",
        "            y_data_for_worker.append(y[slice_for_each_worker*i:])\n",
        "    return X_data_for_worker, y_data_for_worker\n"
      ],
      "id": "signal-medicaid",
      "execution_count": null,
      "outputs": []
    },
    {
      "cell_type": "code",
      "source": [],
      "metadata": {
        "id": "K7QbV-TeO-3O"
      },
      "id": "K7QbV-TeO-3O",
      "execution_count": null,
      "outputs": []
    },
    {
      "cell_type": "markdown",
      "metadata": {
        "id": "changing-conditioning"
      },
      "source": [
        "#### Exercise 14: Prepare the data in root worker to assign data for all the workers (1 point)\n",
        "\n",
        "- When it is the root worker, perform the below operation:\n",
        "    - Store the features and target values in separate variables\n",
        "    - Split the data into train and test sets using the train_test_split function defined above\n",
        "    - Divide the data among the workers using the dividing_data function above"
      ],
      "id": "changing-conditioning"
    },
    {
      "cell_type": "code",
      "source": [
        "if rank == 0:\n",
        "\n",
        "  X_train, y_train, X_test, y_test = my_train_test_split(X, y , .7)\n",
        "  X_data_worker, y_data_worker = dividing_data(X_train, y_train, size)"
      ],
      "metadata": {
        "colab": {
          "base_uri": "https://localhost:8080/"
        },
        "id": "jqHK3wz3UEHF",
        "outputId": "7753697f-534e-4db4-c961-b4ceadd30aa2"
      },
      "id": "jqHK3wz3UEHF",
      "execution_count": null,
      "outputs": [
        {
          "output_type": "stream",
          "name": "stdout",
          "text": [
            "Slice of data for each worker: 6668\n"
          ]
        }
      ]
    },
    {
      "cell_type": "markdown",
      "metadata": {
        "id": "breathing-baking"
      },
      "source": [
        "#### Exercise 15: Scatter and gather the data (1 point)\n",
        "\n",
        "Perform the below operations:\n",
        "\n",
        "- Send slices of the training set(the features data X and the expected target data Y) to every worker including the root worker\n",
        "    - **Hint:** scatter()\n",
        "    - use `barrier()` to block workers until all workers in the group reach a Barrier, to scatter from root worker.\n",
        "- Every worker should get the predicted target Y(yhat) for each slice\n",
        "- Get the new coefficient of each instance in a slice\n",
        "    - **Hint:** fit function defined above\n",
        "- Gather the new coefficient from each worker\n",
        "    - **Hint:** gather()\n",
        "- Calculate the root mean square error for the test set\n",
        "\n",
        "To know more about `scatter`, `gather` and `barrier` click [here](https://nyu-cds.github.io/python-mpi/05-collectives/)"
      ],
      "id": "breathing-baking"
    },
    {
      "cell_type": "code",
      "metadata": {
        "id": "consistent-union",
        "scrolled": true
      },
      "source": [
        "# YOUR CODE HERE\n",
        "slice_X = comm.scatter(X_data_worker, root=root)\n",
        "slice_y = comm.scatter(y_data_worker, root=root)\n",
        "\n",
        "slice_X_values = slice_X.values\n",
        "slice_y_values = slice_y.values\n",
        "\n",
        "\n"
      ],
      "id": "consistent-union",
      "execution_count": null,
      "outputs": []
    },
    {
      "cell_type": "code",
      "source": [
        "intercept, coefficient_arr = fit(slice_X_values, slice_y_values)\n"
      ],
      "metadata": {
        "id": "BEt41LOrYu9r"
      },
      "id": "BEt41LOrYu9r",
      "execution_count": null,
      "outputs": []
    },
    {
      "cell_type": "code",
      "source": [
        "y_pred = predict(slice_X_values, intercept, coefficient_arr)\n",
        "y_pred"
      ],
      "metadata": {
        "id": "QbiHVWIlYwV8"
      },
      "id": "QbiHVWIlYwV8",
      "execution_count": null,
      "outputs": []
    },
    {
      "cell_type": "code",
      "source": [
        "x_slice_gatherred = comm.gather(coefficient_arr, root=root)"
      ],
      "metadata": {
        "id": "hREZHwKpaK2b"
      },
      "id": "hREZHwKpaK2b",
      "execution_count": null,
      "outputs": []
    },
    {
      "cell_type": "code",
      "source": [
        "print(x_slice_gatherred[0])"
      ],
      "metadata": {
        "colab": {
          "base_uri": "https://localhost:8080/"
        },
        "id": "oF5U74KFcTsj",
        "outputId": "7a939147-6bab-42bd-e8c7-fc127c76d289"
      },
      "id": "oF5U74KFcTsj",
      "execution_count": null,
      "outputs": [
        {
          "output_type": "stream",
          "name": "stdout",
          "text": [
            "[-0.85818832 -0.17681743  0.02158776 -0.13285387]\n"
          ]
        }
      ]
    },
    {
      "cell_type": "code",
      "source": [
        "y_pred = predict(np.array(X_test), intercept, x_slice_gatherred[0])\n",
        "y_pred"
      ],
      "metadata": {
        "id": "eL2xGcGdcfmB"
      },
      "id": "eL2xGcGdcfmB",
      "execution_count": null,
      "outputs": []
    },
    {
      "cell_type": "code",
      "source": [
        "RSME = CalcRMSE(y_pred, y_test)\n",
        "RSME"
      ],
      "metadata": {
        "colab": {
          "base_uri": "https://localhost:8080/"
        },
        "id": "VOz0gxwwakCL",
        "outputId": "ebea399d-9c2c-44a1-b3c8-b0e88764f863"
      },
      "id": "VOz0gxwwakCL",
      "execution_count": null,
      "outputs": [
        {
          "output_type": "execute_result",
          "data": {
            "text/plain": [
              "0.2649995162730849"
            ]
          },
          "metadata": {},
          "execution_count": 114
        }
      ]
    },
    {
      "cell_type": "markdown",
      "metadata": {
        "id": "hired-uniform"
      },
      "source": [
        "#### Exercise 16: Make a script and execute everything in one place (1 point)\n",
        "\n",
        "Write a script(.py) file which contains the code of all the above exercises in it so that you can run the code on multiple processes using MPI.\n",
        "\n",
        "**Hint:**\n",
        "\n",
        "- magic commands\n",
        "- put MPI related code under main function\n",
        "- !mpirun --allow-run-as-root -np 4 python filename.py"
      ],
      "id": "hired-uniform"
    },
    {
      "cell_type": "code",
      "metadata": {
        "id": "motivated-national",
        "colab": {
          "base_uri": "https://localhost:8080/"
        },
        "outputId": "648ba12e-319f-4da0-82d1-599ec95edb91"
      },
      "source": [
        "# YOUR CODE HERE for scipt(.py) \n",
        "%%writefile linear_regf_MPI.py\n",
        "\n",
        "# Importing pandas\n",
        "import pandas as pd \n",
        "# Importing Numpy\n",
        "import numpy as np \n",
        "# Importing MPI from mpi4py package\n",
        "from mpi4py import MPI \n",
        "# Importing sqrt function from the Math\n",
        "from math import sqrt \n",
        "# Importing Decimal, ROUND_HALF_UP functions from the decimal package\n",
        "from decimal import Decimal, ROUND_HALF_UP \n",
        "import time\n",
        "import math\n",
        "\n",
        "\n",
        "\n",
        "def dividing_data(X, y, size_of_workers):\n",
        "    #Divide the data among the workers\n",
        "    slice_for_each_worker = int(Decimal(X.shape[0]/size_of_workers).quantize(Decimal('1.'), rounding = ROUND_HALF_UP))      \n",
        "    print('Slice of data for each worker: {}'.format(slice_for_each_worker))\n",
        "    X_data_for_worker = []\n",
        "    y_data_for_worker = []\n",
        "    for i in range(0, size_of_workers):\n",
        "        if i < size_of_workers - 1:\n",
        "            X_data_for_worker.append(X[slice_for_each_worker*i:slice_for_each_worker*(i+1)])\n",
        "            y_data_for_worker.append(y[slice_for_each_worker*i:slice_for_each_worker*(i+1)])\n",
        "        else:\n",
        "            X_data_for_worker.append(X[slice_for_each_worker*i:])\n",
        "            y_data_for_worker.append(y[slice_for_each_worker*i:])\n",
        "    return X_data_for_worker, y_data_for_worker\n",
        "\n",
        "\n",
        "def fit(X, y):\n",
        "    # YOUR CODE HERE\n",
        "    n = len(X)\n",
        "    # X.loc[:,'dummy'] = np.ones(n)\n",
        "    m = np.ones((n,1))\n",
        "    # print(np.array(X))\n",
        "    X_arr = np.concatenate((m, np.array(X)), axis=1)\n",
        "    \n",
        "    # print(X_arr)\n",
        "    coefficient_arr = EstimatedCoefficent (X_arr,y)\n",
        "    #convert df to array for calculation of mean and std deviation\n",
        "    # print(coefficient_arr)\n",
        "    return coefficient_arr[0], coefficient_arr[1:]\n",
        "\n",
        "\n",
        "def my_train_test_split(X, y, size):\n",
        "    n_train = math.floor(size * X.shape[0])\n",
        "    X_train = X[:n_train]\n",
        "    y_train = y[:n_train]\n",
        "    X_test = X[n_train:]\n",
        "    y_test = y[n_train:]\n",
        "    return X_train, y_train, X_test, y_test \n",
        "\n",
        "\n",
        "def predict(X, intercept, coefficients):\n",
        "    # getting length of list\n",
        "    X_len = len(X)\n",
        "    predictions = [0] * X_len\n",
        "    # X_arr = X.to_numpy()\n",
        "    for i in range(X_len):\n",
        "        predictions[i] = intercept + X[i][0]*coefficients[0] + X[i][1]*coefficients[1] + X[i][2]*coefficients[2] + X[i][3]*coefficients[3]\n",
        "    return predictions\n",
        "\n",
        "def CalcRMSE(y_pred, y):\n",
        "    # getting length of list\n",
        "    LENGTH = len(y_pred)\n",
        "    if LENGTH != len(y):\n",
        "        return -1\n",
        "    return np.sqrt(((y_pred - y) ** 2).mean())\n",
        "\n",
        "def EstimatedCoefficent (X, y):\n",
        "    X_transposed = X.transpose() # or X.transpose()\n",
        "#    print (\"X_transposed\\n\", X_transposed)\n",
        "    var = (np.linalg.inv((X_transposed).dot(X)))\n",
        "#    print (\"\\nInverse of X transpose x X\\n\", var)\n",
        "    var2 = var.dot(X_transposed)\n",
        "#    print (\"\\nX transpose x Inverse of X transpose x X\\n\", var2)\n",
        "    final = var2.dot(y)\n",
        "#    print (\"\\ny x X transpose x Inverse of X transpose x X\\n\\n\", final)\n",
        "    return final\n",
        "\n",
        "def loadData(filename):\n",
        "  data = pd.read_csv(filename)\n",
        "  rows, cols = data.shape\n",
        "  # print(f\"dimension: rows:{rows} and cols:{cols}\")\n",
        "  # print(data.isnull().sum())\n",
        "  # print(data.describe())\n",
        "  if data.duplicated().sum() >0:\n",
        "    data = data.drop_duplicates()\n",
        "  data.rename(columns = {'AT':'AmbientTemperature', 'V':'ExhaustVaccum', 'AP':'AbmientPressure', 'RH':'RelativeHumidity', 'PE':'EnergyOutput'}, inplace = True)\n",
        "  return data\n",
        "\n",
        "\n",
        "\n",
        "def removena(data):\n",
        "  for col in data:\n",
        "    if data[col].isna().sum()>0:\n",
        "      data[col] = data[col].filna(data[col].mean())\n",
        "      \n",
        "  return data\n",
        "\n",
        "def scaleData(data):\n",
        "  for col in data:\n",
        "    data[col] = (data[col] - data[col].mean()) / data[col].std()\n",
        "  return data\n",
        "\n",
        "def selectFeature(data):\n",
        "  X, y = data.iloc[:,:-1], data.iloc[:, -1]\n",
        "  return X, y\n",
        "\n",
        "\n",
        "\n",
        "def main():\n",
        "  FILENAME = \"https://cdn.iisc.talentsprint.com/CDS/Datasets/PowerPlantData.csv\"\n",
        "  df = loadData(FILENAME)\n",
        "  df = removena(df)\n",
        "  df = scaleData(df)\n",
        "  X, y = selectFeature(df)\n",
        "  # creating the communicator\n",
        "  comm = MPI.COMM_WORLD\n",
        "  # number of the processes running through the code i.e. rank\n",
        "  rank = comm.Get_rank()\n",
        "  # total number of processes running i.e. size\n",
        "  size = comm.Get_size()\n",
        "  root = 0\n",
        "  X_data_worker = None\n",
        "  y_data_worker = None\n",
        "  X_test = None\n",
        "  y_test = None\n",
        "  if rank == root:\n",
        "    X_train, y_train, X_test, y_test = my_train_test_split(X, y , .7)\n",
        "    X_data_worker, y_data_worker = dividing_data(X_train, y_train, size)\n",
        "\n",
        "  slice_X = comm.scatter(X_data_worker, root=0)\n",
        "  slice_y = comm.scatter(y_data_worker, root=0)\n",
        "\n",
        "  slice_X_values = slice_X.values\n",
        "  slice_y_values = slice_y.values\n",
        "\n",
        "  intercept, coefficient_arr = fit(slice_X_values, slice_y_values)\n",
        "  y_pred = predict(slice_X_values, intercept, coefficient_arr)\n",
        "  \n",
        "  x_slice_gatherred = comm.gather(coefficient_arr, root=root)\n",
        "  if rank == root:\n",
        "    y_pred = predict(np.array(X_test), intercept, x_slice_gatherred[0])\n",
        "    RSME = CalcRMSE(y_pred, y_test)\n",
        "    print(f\"RMSE of linear_reg using MPI:{RSME}\")\n",
        "\n",
        "main()\n"
      ],
      "id": "motivated-national",
      "execution_count": null,
      "outputs": [
        {
          "output_type": "stream",
          "name": "stdout",
          "text": [
            "Overwriting linear_regf_MPI.py\n"
          ]
        }
      ]
    },
    {
      "cell_type": "code",
      "metadata": {
        "id": "experimental-waterproof",
        "scrolled": true,
        "colab": {
          "base_uri": "https://localhost:8080/"
        },
        "outputId": "a418f40a-3d7e-4267-da75-8f1372bbc4f2"
      },
      "source": [
        "# YOUR CODE HERE for MPI command\n",
        "!mpirun --allow-run-as-root -np 4 python linear_regf_MPI.py"
      ],
      "id": "experimental-waterproof",
      "execution_count": null,
      "outputs": [
        {
          "output_type": "stream",
          "name": "stdout",
          "text": [
            "Slice of data for each worker: 1667\n",
            "RMSE of linear_reg using MPI:0.2658882266462222\n"
          ]
        }
      ]
    },
    {
      "cell_type": "markdown",
      "metadata": {
        "id": "living-operation"
      },
      "source": [
        "#### Exercise 17: Implement predict using OpenMP (1 point)\n",
        "\n",
        "Get the predictions for test data and calculate the test error(RMSE) by implementing the OpenMP (pymp)\n",
        "\n",
        "**Hints:**\n",
        "\n",
        "* Using the pymp.Parallel implement the predict function (use from above)\n",
        "\n",
        "* Call the predict function by passing test data as an argument\n",
        "\n",
        "* calculate the error (RMSE) by comparing the Actual test data and predicted test data"
      ],
      "id": "living-operation"
    },
    {
      "cell_type": "code",
      "metadata": {
        "id": "S65Oxt1swWdh",
        "colab": {
          "base_uri": "https://localhost:8080/"
        },
        "outputId": "50aa7135-4939-4d2d-cd23-c0152d7f583a"
      },
      "source": [
        "!pip install pymp-pypi"
      ],
      "id": "S65Oxt1swWdh",
      "execution_count": null,
      "outputs": [
        {
          "output_type": "stream",
          "name": "stdout",
          "text": [
            "Looking in indexes: https://pypi.org/simple, https://us-python.pkg.dev/colab-wheels/public/simple/\n",
            "Collecting pymp-pypi\n",
            "  Downloading pymp-pypi-0.5.0.tar.gz (12 kB)\n",
            "Building wheels for collected packages: pymp-pypi\n",
            "  Building wheel for pymp-pypi (setup.py) ... \u001b[?25l\u001b[?25hdone\n",
            "  Created wheel for pymp-pypi: filename=pymp_pypi-0.5.0-py3-none-any.whl size=10339 sha256=6e4d9c879e26d66967ccd5b4e172e972cd93402d5ac10643666ef5838e95acec\n",
            "  Stored in directory: /root/.cache/pip/wheels/22/2a/4e/d49c406bb5eb2c04b424940de41d40b3b1481c31b9f93a13c1\n",
            "Successfully built pymp-pypi\n",
            "Installing collected packages: pymp-pypi\n",
            "Successfully installed pymp-pypi-0.5.0\n"
          ]
        }
      ]
    },
    {
      "cell_type": "code",
      "metadata": {
        "id": "behavioral-tablet",
        "scrolled": true
      },
      "source": [
        "import pymp\n",
        "# YOUR CODE HERE\n",
        "\n",
        "\n",
        "def predict(X, intercept, coefficients):\n",
        "    # getting length of list\n",
        "    pred_arr = pymp.shared.array(y_test.shape[0])\n",
        "\n",
        "    with pymp.Parallel(4) as p:\n",
        "      for i in p.range(len(X)):\n",
        "        pred_arr[i]  = intercept + X[i][0]*coefficients[0] + X[i][1]*coefficients[1] + X[i][2]*coefficients[2] + X[i][3]*coefficients[3]\n",
        "    return pred_arr\n",
        "\n"
      ],
      "id": "behavioral-tablet",
      "execution_count": null,
      "outputs": []
    },
    {
      "cell_type": "code",
      "source": [
        "y_pred_pymp = predict(np.array(X_test),intercept,coefficient_arr )"
      ],
      "metadata": {
        "id": "gBa3c4_pgv-X"
      },
      "id": "gBa3c4_pgv-X",
      "execution_count": null,
      "outputs": []
    },
    {
      "cell_type": "code",
      "source": [
        "rmse = CalcRMSE(y_pred_pymp, y_test)\n",
        "rmse"
      ],
      "metadata": {
        "colab": {
          "base_uri": "https://localhost:8080/"
        },
        "id": "UmsZmPVhgv8k",
        "outputId": "b663e3e4-8863-417f-b2ac-4d7e36c083b2"
      },
      "id": "UmsZmPVhgv8k",
      "execution_count": null,
      "outputs": [
        {
          "output_type": "execute_result",
          "data": {
            "text/plain": [
              "0.2649995162730849"
            ]
          },
          "metadata": {},
          "execution_count": 123
        }
      ]
    },
    {
      "cell_type": "markdown",
      "metadata": {
        "id": "protecting-assets"
      },
      "source": [
        "#### Exercise 18: Use Sklearn to compare (1 point)\n",
        "\n",
        "Apply the Linear regression on the given data using sklearn package and compare with the above results\n",
        "\n",
        "**Hint:**\n",
        "* Split the data into train and test\n",
        "* Fit the train data and predict the test data using `sklearn Linear Regression`\n",
        "* Compare the coefficients and intercept with above estimated coefficients\n",
        "* calculate loss (RMSE) on test data and predictions and compare"
      ],
      "id": "protecting-assets"
    },
    {
      "cell_type": "code",
      "metadata": {
        "id": "applicable-tyler",
        "colab": {
          "base_uri": "https://localhost:8080/"
        },
        "outputId": "86cb78f2-c9e2-4a25-b161-f9aa932f5a36"
      },
      "source": [
        "# YOUR CODE HERE\n",
        "#x_train.shape, y_train.shape\n",
        "from sklearn import linear_model\n",
        "from sklearn.metrics import mean_squared_error\n",
        "regr_linear = linear_model.LinearRegression()\n",
        "\n",
        "regr_linear.fit(X_train, y_train)\n",
        "predicted = regr_linear.predict(X_test)\n",
        "mse_linear = mean_squared_error(y_test, predicted, multioutput = 'uniform_average')\n",
        "print (\"mse_linear rsme\", np.sqrt(mse_linear))"
      ],
      "id": "applicable-tyler",
      "execution_count": null,
      "outputs": [
        {
          "output_type": "stream",
          "name": "stdout",
          "text": [
            "mse_linear rsme 0.26499951627308493\n"
          ]
        }
      ]
    }
  ]
}