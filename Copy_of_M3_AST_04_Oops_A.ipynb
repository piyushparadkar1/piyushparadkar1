{
  "nbformat": 4,
  "nbformat_minor": 5,
  "metadata": {
    "kernelspec": {
      "display_name": "Python 3",
      "language": "python",
      "name": "python3"
    },
    "language_info": {
      "codemirror_mode": {
        "name": "ipython",
        "version": 3
      },
      "file_extension": ".py",
      "mimetype": "text/x-python",
      "name": "python",
      "nbconvert_exporter": "python",
      "pygments_lexer": "ipython3",
      "version": "3.5.2"
    },
    "colab": {
      "provenance": [],
      "collapsed_sections": [
        "geographic-mixer",
        "essential-funeral"
      ],
      "include_colab_link": true
    }
  },
  "cells": [
    {
      "cell_type": "markdown",
      "metadata": {
        "id": "view-in-github",
        "colab_type": "text"
      },
      "source": [
        "<a href=\"https://colab.research.google.com/github/piyushparadkar1/piyushparadkar1/blob/main/Copy_of_M3_AST_04_Oops_A.ipynb\" target=\"_parent\"><img src=\"https://colab.research.google.com/assets/colab-badge.svg\" alt=\"Open In Colab\"/></a>"
      ]
    },
    {
      "cell_type": "markdown",
      "metadata": {
        "id": "viral-vatican"
      },
      "source": [
        "+10# Advanced Certification Program in Computational Data Science\n",
        "## A program by IISc and TalentSprint\n",
        "### Assignment 4: Oops with Python"
      ],
      "id": "viral-vatican"
    },
    {
      "cell_type": "markdown",
      "metadata": {
        "id": "under-mozambique"
      },
      "source": [
        "## Learning Objectives"
      ],
      "id": "under-mozambique"
    },
    {
      "cell_type": "markdown",
      "metadata": {
        "id": "silver-cause"
      },
      "source": [
        "At the end of the experiment, you will be able to\n",
        "\n",
        "* create custom classes and objects of those classes\n",
        "* apply the concepts of class, method, constructor, instance, abstraction, inheritance, encapsulation, and polymorphism"
      ],
      "id": "silver-cause"
    },
    {
      "cell_type": "markdown",
      "metadata": {
        "id": "conventional-emergency"
      },
      "source": [
        "## Information"
      ],
      "id": "conventional-emergency"
    },
    {
      "cell_type": "markdown",
      "metadata": {
        "id": "relevant-highlight"
      },
      "source": [
        "**Object oriented programming in a nutshell**\n",
        "\n",
        "Object oriented programming is based around the concept of \"objects\". Objects have two kinds of attributes (accessed via . syntax): data attributes (or instance variables) and function attributes (or methods). Object data is typically modified by object methods.\n",
        "\n",
        "**Why object oriented programming?**\n",
        "\n",
        "- Concept of object oriented programming has been around since 1960s\n",
        "\n",
        "- Gained popularity in the 1980s and 1990s with the development and standardization of C++, and faster computers that mitigated the overhead of the abstractions\n",
        "\n",
        "- Abstraction, modularity, and reusability are some of the most commonly cited reasons for using object oriented programming\n",
        "\n",
        "- Almost all new software development uses some degree of object oriented programming (for better or worse)\n",
        "\n",
        "- In Python, everything is an object. Proper use of object oriented programming features allows programmers to write code that integrates nicely into the Python language and set of libraries.\n",
        "\n",
        "**Terminology**\n",
        "\n",
        "The basic concepts related to OOP are as follows:\n",
        "\n",
        "- **Object:** clearly defines an entity in terms of its properties and behaviour.\n",
        "- **Class:** a blueprint of an object.\n",
        "- **Encapsulation:** combining of data and the functions associated with that data in a single unit\n",
        "- **Data Hiding:** the mechanism of hiding the data of a class from the outside world\n",
        "- **Abstraction:** providing only essential information to the outside world and hiding their background details\n",
        "- **Inheritance:** forming a new class (derived class) from an existing class (called the base class).\n",
        "- **Polymorphism:** ability to use an operator or function in various forms.\n",
        "- **Static Binding:** the linking of function call to the function definition is done during compilation of the program.\n",
        "- **Dynamic Binding:** the linking of function call to the function definition is done during the execution of the program.\n",
        "\n",
        "To know more about OOP click [here](https://docs.python.org/3/tutorial/classes.html)\n",
        "\n",
        "To know more about Access Modifiers in Python click [here](https://medium.com/@YSR/access-modifiers-in-python-public-private-protected-fe5f923bd914)\n",
        "\n",
        "**Object oriented programming in Python**\n",
        "\n",
        "- In Python, everything is an object. Proper use of object oriented programming features allows programmers to write code that integrates nicely into the Python language and set of libraries.\n",
        "- New kinds of objects can be created in Python by defining your own classes"
      ],
      "id": "relevant-highlight"
    },
    {
      "cell_type": "markdown",
      "metadata": {
        "id": "BNLA8HiKxQhc"
      },
      "source": [
        "### Setup Steps:"
      ],
      "id": "BNLA8HiKxQhc"
    },
    {
      "cell_type": "code",
      "metadata": {
        "id": "2YzfoPvJDiTX"
      },
      "source": [
        "#@title Please enter your registration id to start: { run: \"auto\", display-mode: \"form\" }\n",
        "Id = \"\" #@param {type:\"string\"}"
      ],
      "id": "2YzfoPvJDiTX",
      "execution_count": null,
      "outputs": []
    },
    {
      "cell_type": "code",
      "metadata": {
        "id": "AjoZJWGErxGf"
      },
      "source": [
        "#@title Please enter your password (your registered phone number) to continue: { run: \"auto\", display-mode: \"form\" }\n",
        "password = \"\" #@param {type:\"string\"}"
      ],
      "id": "AjoZJWGErxGf",
      "execution_count": null,
      "outputs": []
    },
    {
      "cell_type": "code",
      "metadata": {
        "id": "WBPPuGmBlDIN",
        "cellView": "form"
      },
      "source": [
        "#@title Run this cell to complete the setup for this Notebook\n",
        "from IPython import get_ipython\n",
        "\n",
        "ipython = get_ipython()\n",
        "  \n",
        "notebook= \"M3_AST_04_Oops_A\" #name of the notebook\n",
        "\n",
        "def setup():\n",
        "#  ipython.magic(\"sx pip3 install torch\")  \n",
        "    from IPython.display import HTML, display\n",
        "    display(HTML('<script src=\"https://dashboard.talentsprint.com/aiml/record_ip.html?traineeId={0}&recordId={1}\"></script>'.format(getId(),submission_id)))\n",
        "    print(\"Setup completed successfully\")\n",
        "    return\n",
        "\n",
        "def submit_notebook():\n",
        "    ipython.magic(\"notebook -e \"+ notebook + \".ipynb\")\n",
        "    \n",
        "    import requests, json, base64, datetime\n",
        "\n",
        "    url = \"https://dashboard.talentsprint.com/xp/app/save_notebook_attempts\"\n",
        "    if not submission_id:\n",
        "      data = {\"id\" : getId(), \"notebook\" : notebook, \"mobile\" : getPassword()}\n",
        "      r = requests.post(url, data = data)\n",
        "      r = json.loads(r.text)\n",
        "\n",
        "      if r[\"status\"] == \"Success\":\n",
        "          return r[\"record_id\"]\n",
        "      elif \"err\" in r:        \n",
        "        print(r[\"err\"])\n",
        "        return None        \n",
        "      else:\n",
        "        print (\"Something is wrong, the notebook will not be submitted for grading\")\n",
        "        return None\n",
        "    \n",
        "    elif getAnswer() and getComplexity() and getAdditional() and getConcepts() and getComments() and getMentorSupport():\n",
        "      f = open(notebook + \".ipynb\", \"rb\")\n",
        "      file_hash = base64.b64encode(f.read())\n",
        "\n",
        "      data = {\"complexity\" : Complexity, \"additional\" :Additional, \n",
        "              \"concepts\" : Concepts, \"record_id\" : submission_id, \n",
        "              \"answer\" : Answer, \"id\" : Id, \"file_hash\" : file_hash,\n",
        "              \"notebook\" : notebook,\n",
        "              \"feedback_experiments_input\" : Comments,\n",
        "              \"feedback_mentor_support\": Mentor_support}\n",
        "      r = requests.post(url, data = data)\n",
        "      r = json.loads(r.text)\n",
        "      if \"err\" in r:        \n",
        "        print(r[\"err\"])\n",
        "        return None   \n",
        "      else:\n",
        "        print(\"Your submission is successful.\")\n",
        "        print(\"Ref Id:\", submission_id)\n",
        "        print(\"Date of submission: \", r[\"date\"])\n",
        "        print(\"Time of submission: \", r[\"time\"])\n",
        "        print(\"View your submissions: https://cds.iisc.talentsprint.com/notebook_submissions\")\n",
        "        #print(\"For any queries/discrepancies, please connect with mentors through the chat icon in LMS dashboard.\")\n",
        "        return submission_id\n",
        "    else: submission_id\n",
        "    \n",
        "\n",
        "def getAdditional():\n",
        "  try:\n",
        "    if not Additional: \n",
        "      raise NameError\n",
        "    else:\n",
        "      return Additional  \n",
        "  except NameError:\n",
        "    print (\"Please answer Additional Question\")\n",
        "    return None\n",
        "\n",
        "def getComplexity():\n",
        "  try:\n",
        "    if not Complexity:\n",
        "      raise NameError\n",
        "    else:\n",
        "      return Complexity\n",
        "  except NameError:\n",
        "    print (\"Please answer Complexity Question\")\n",
        "    return None\n",
        "  \n",
        "def getConcepts():\n",
        "  try:\n",
        "    if not Concepts:\n",
        "      raise NameError\n",
        "    else:\n",
        "      return Concepts\n",
        "  except NameError:\n",
        "    print (\"Please answer Concepts Question\")\n",
        "    return None\n",
        "  \n",
        "  \n",
        "# def getWalkthrough():\n",
        "#   try:\n",
        "#     if not Walkthrough:\n",
        "#       raise NameError\n",
        "#     else:\n",
        "#       return Walkthrough\n",
        "#   except NameError:\n",
        "#     print (\"Please answer Walkthrough Question\")\n",
        "#     return None\n",
        "  \n",
        "def getComments():\n",
        "  try:\n",
        "    if not Comments:\n",
        "      raise NameError\n",
        "    else:\n",
        "      return Comments\n",
        "  except NameError:\n",
        "    print (\"Please answer Comments Question\")\n",
        "    return None\n",
        "  \n",
        "\n",
        "def getMentorSupport():\n",
        "  try:\n",
        "    if not Mentor_support:\n",
        "      raise NameError\n",
        "    else:\n",
        "      return Mentor_support\n",
        "  except NameError:\n",
        "    print (\"Please answer Mentor support Question\")\n",
        "    return None\n",
        "\n",
        "def getAnswer():\n",
        "  try:\n",
        "    if not Answer:\n",
        "      raise NameError \n",
        "    else: \n",
        "      return Answer\n",
        "  except NameError:\n",
        "    print (\"Please answer Question\")\n",
        "    return None\n",
        "  \n",
        "\n",
        "def getId():\n",
        "  try: \n",
        "    return Id if Id else None\n",
        "  except NameError:\n",
        "    return None\n",
        "\n",
        "def getPassword():\n",
        "  try:\n",
        "    return password if password else None\n",
        "  except NameError:\n",
        "    return None\n",
        "\n",
        "submission_id = None\n",
        "### Setup \n",
        "if getPassword() and getId():\n",
        "  submission_id = submit_notebook()\n",
        "  if submission_id:\n",
        "    setup() \n",
        "else:\n",
        "  print (\"Please complete Id and Password cells before running setup\")\n",
        "\n"
      ],
      "id": "WBPPuGmBlDIN",
      "execution_count": null,
      "outputs": []
    },
    {
      "cell_type": "markdown",
      "metadata": {
        "id": "impressive-pathology"
      },
      "source": [
        "### Class definition in action"
      ],
      "id": "impressive-pathology"
    },
    {
      "cell_type": "markdown",
      "metadata": {
        "id": "reported-nevada"
      },
      "source": [
        "Let's work with a class called Employee to create objects that represent and maintain information about Employee."
      ],
      "id": "reported-nevada"
    },
    {
      "cell_type": "markdown",
      "metadata": {
        "id": "instructional-feedback"
      },
      "source": [
        "**Defining a class**\n",
        "\n",
        "- Classes are defined with the class keyword\n",
        "- Followed by the class name and a colon (:)\n",
        "- Followed by the indented class body, containing class attributes\n",
        "\n",
        "**Object initialization**\n",
        "\n",
        "- \\_\\_init\\_\\_ is the special name for the initialization method\n",
        "- self is a reference to the specific instance (object) that is calling this method. In the case of the \\_\\_init\\_\\_ method, self refers to the object being created. self is simply a Python variable and can be renamed\n",
        "- id is the input argument from the call to create a new instance\n",
        "- self.id = id stores the input id in the object\n",
        "\n",
        "Now let us define a Employee class and initialize the object for the class"
      ],
      "id": "instructional-feedback"
    },
    {
      "cell_type": "code",
      "metadata": {
        "id": "grand-sugar"
      },
      "source": [
        "class Employee: # Class named Employee\n",
        "    def __init__(self, id): # Initializing a object\n",
        "        self.id = id"
      ],
      "id": "grand-sugar",
      "execution_count": null,
      "outputs": []
    },
    {
      "cell_type": "markdown",
      "metadata": {
        "id": "linear-presence"
      },
      "source": [
        "\n",
        "As we know that everything in Python is an object. This includes classes:"
      ],
      "id": "linear-presence"
    },
    {
      "cell_type": "code",
      "metadata": {
        "id": "dependent-taste"
      },
      "source": [
        "Employee"
      ],
      "id": "dependent-taste",
      "execution_count": null,
      "outputs": []
    },
    {
      "cell_type": "markdown",
      "metadata": {
        "id": "subtle-while"
      },
      "source": [
        "We can think of a Python class as object that can produce objects of the class type. Let's create a employee object:"
      ],
      "id": "subtle-while"
    },
    {
      "cell_type": "code",
      "metadata": {
        "id": "academic-portuguese"
      },
      "source": [
        "# YOUR CODE HERE for creating a Employee instance whose id is 1022"
      ],
      "id": "academic-portuguese",
      "execution_count": null,
      "outputs": []
    },
    {
      "cell_type": "markdown",
      "metadata": {
        "id": "political-flooring"
      },
      "source": [
        "Now let us see how to access the id attribute form the Employee class"
      ],
      "id": "political-flooring"
    },
    {
      "cell_type": "code",
      "metadata": {
        "id": "unauthorized-grenada"
      },
      "source": [
        "# YOUR CODE HERE for accessing the id attribute from the Employee class"
      ],
      "id": "unauthorized-grenada",
      "execution_count": null,
      "outputs": []
    },
    {
      "cell_type": "markdown",
      "metadata": {
        "id": "geographic-mixer"
      },
      "source": [
        "#### Abstraction\n",
        "\n",
        "- Represent data and computations in a familiar form. For example, Car object, with an engine object, and tire objects\n",
        "- Make programmers more productive i.e Salaries are expensive compared to computers\n",
        "- Too much abstraction can be a bad thing if it has a significant impact on performance i.e Desktop computers really are cheap; Supercomputers are not cheap"
      ],
      "id": "geographic-mixer"
    },
    {
      "cell_type": "markdown",
      "metadata": {
        "id": "regulation-apache"
      },
      "source": [
        "#### Exploring more about self"
      ],
      "id": "regulation-apache"
    },
    {
      "cell_type": "code",
      "metadata": {
        "id": "cleared-ghost"
      },
      "source": [
        "class Employee: # Class named Employee\n",
        "    def __init__(self, id): # Initializing a object\n",
        "        print(\"inside __init__()\")\n",
        "        print(\"self = {}\".format(self))\n",
        "        self.id = id\n",
        "Employee_1 = Employee(1023) # Creating an instance of employee class with id 1023\n",
        "print(\"Employee_1    = {}\".format(Employee_1))"
      ],
      "id": "cleared-ghost",
      "execution_count": null,
      "outputs": []
    },
    {
      "cell_type": "markdown",
      "metadata": {
        "id": "cultural-oxford"
      },
      "source": [
        "From the above code output, we see that **self** inside of **\\_\\_init\\_\\_** is the same object that is returned by the call Employee(1023)."
      ],
      "id": "cultural-oxford"
    },
    {
      "cell_type": "markdown",
      "metadata": {
        "id": "genuine-anderson"
      },
      "source": [
        "#### Defining a method inside a class"
      ],
      "id": "genuine-anderson"
    },
    {
      "cell_type": "markdown",
      "metadata": {
        "id": "agricultural-employment"
      },
      "source": [
        "Let us define a get_id() function / Method for interacting with a object"
      ],
      "id": "agricultural-employment"
    },
    {
      "cell_type": "code",
      "metadata": {
        "id": "executed-shoulder"
      },
      "source": [
        "class Employee: # Class named Employee\n",
        "    def __init__(self, id): # Initializing a object\n",
        "        self.id = id\n",
        "    def get_id(self):\n",
        "        return self.id"
      ],
      "id": "executed-shoulder",
      "execution_count": null,
      "outputs": []
    },
    {
      "cell_type": "code",
      "metadata": {
        "id": "disabled-expression"
      },
      "source": [
        "# YOUR CODE HERE\n",
        "# Create a instance of employee class with id 1023\n",
        "# Access the get_id function defined in the employee class"
      ],
      "id": "disabled-expression",
      "execution_count": null,
      "outputs": []
    },
    {
      "cell_type": "markdown",
      "metadata": {
        "id": "mineral-terrorist"
      },
      "source": [
        "#### Encapsulation\n",
        "\n",
        "- The interface of an object encapsulates the internal data and code\n",
        "- encapsulation means hiding the details of data structures and algorithms (internal code)\n",
        "\n",
        "#### Interface\n",
        "- Interfaces protect the user of the class from internal implementation details."
      ],
      "id": "mineral-terrorist"
    },
    {
      "cell_type": "markdown",
      "metadata": {
        "id": "vertical-clinic"
      },
      "source": [
        "Now let us add additional attributes like firstname, lastname, email for interacting or interfacing with the object"
      ],
      "id": "vertical-clinic"
    },
    {
      "cell_type": "code",
      "metadata": {
        "id": "concrete-armor"
      },
      "source": [
        "class Employee: # Class named Employee\n",
        "    def __init__(self, id, firstname, lastname): # Initializing a object\n",
        "        self.id = id # Identity of an object\n",
        "        self.firstname = firstname # Firstname of the employee\n",
        "        self.lastname = lastname # Lastname of the employee\n",
        "        self.email = firstname + '.' + lastname + '@company.com' # email Id of an Employee\n",
        "    # self is a reference to the specific instance that is calling this method\n",
        "    def get_id(self):\n",
        "        return self.id"
      ],
      "id": "concrete-armor",
      "execution_count": null,
      "outputs": []
    },
    {
      "cell_type": "code",
      "metadata": {
        "id": "fossil-nurse"
      },
      "source": [
        "# YOUR CODE HERE\n",
        "# Create a new instance of Employee class"
      ],
      "id": "fossil-nurse",
      "execution_count": null,
      "outputs": []
    },
    {
      "cell_type": "code",
      "metadata": {
        "id": "short-spring"
      },
      "source": [
        "# YOUR CODE HERE\n",
        "# Access Id attributes from the Employee Class"
      ],
      "id": "short-spring",
      "execution_count": null,
      "outputs": []
    },
    {
      "cell_type": "code",
      "metadata": {
        "id": "smart-result"
      },
      "source": [
        "# YOUR CODE HERE\n",
        "# Access firstname attributes from the Employee Class"
      ],
      "id": "smart-result",
      "execution_count": null,
      "outputs": []
    },
    {
      "cell_type": "code",
      "metadata": {
        "id": "professional-procurement"
      },
      "source": [
        "# YOUR CODE HERE\n",
        "# Access lastname attributes from the Employee Class"
      ],
      "id": "professional-procurement",
      "execution_count": null,
      "outputs": []
    },
    {
      "cell_type": "code",
      "metadata": {
        "id": "timely-zoning"
      },
      "source": [
        "# YOUR CODE HERE\n",
        "# Access email attributes from the Employee Class"
      ],
      "id": "timely-zoning",
      "execution_count": null,
      "outputs": []
    },
    {
      "cell_type": "markdown",
      "metadata": {
        "id": "spare-chassis"
      },
      "source": [
        "Now let us add additional methods to access firstname, lastname and email id of a Employee for interacting or interfacing with the object"
      ],
      "id": "spare-chassis"
    },
    {
      "cell_type": "code",
      "metadata": {
        "id": "nonprofit-blank"
      },
      "source": [
        "class Employee: # Class named Employee\n",
        "    def __init__(self, id, firstname, lastname): # Initializing a object\n",
        "        self.id = id # Identity of an object\n",
        "        self.firstname = firstname # Firstname of the employee\n",
        "        self.lastname = lastname # Lastname of the employee\n",
        "        self.email = firstname + '.' + lastname + '@company.com' # email Id of an Employee\n",
        "    # self is a reference to the specific instance that is calling this method  \n",
        "    # method to access id of an Employee    \n",
        "    # YOUR CODE HERE\n",
        "\n",
        "    # method to access firstname of an Employee\n",
        "    # YOUR CODE HERE\n",
        "\n",
        "    # method to access lastname of an Employee\n",
        "    # YOUR CODE HERE\n",
        "\n",
        "    # method to access email id of an Employee\n",
        "    # YOUR CODE HERE"
      ],
      "id": "nonprofit-blank",
      "execution_count": null,
      "outputs": []
    },
    {
      "cell_type": "code",
      "metadata": {
        "id": "concerned-interpretation"
      },
      "source": [
        "new_Employee = Employee(10992, \"Ravi\", \"Kumar\") # Creating a new instance of Employee class\n",
        "new_Employee"
      ],
      "id": "concerned-interpretation",
      "execution_count": null,
      "outputs": []
    },
    {
      "cell_type": "code",
      "metadata": {
        "id": "detected-steam"
      },
      "source": [
        "# YOUR CODE HERE\n",
        "# Access get_id method from  the Employee class"
      ],
      "id": "detected-steam",
      "execution_count": null,
      "outputs": []
    },
    {
      "cell_type": "code",
      "metadata": {
        "id": "searching-surrey"
      },
      "source": [
        "# YOUR CODE HERE\n",
        "# Access get_firstname method from  the Employee class"
      ],
      "id": "searching-surrey",
      "execution_count": null,
      "outputs": []
    },
    {
      "cell_type": "code",
      "metadata": {
        "id": "annual-principle"
      },
      "source": [
        "# YOUR CODE HERE\n",
        "# Access get_lastname method from  the Employee class"
      ],
      "id": "annual-principle",
      "execution_count": null,
      "outputs": []
    },
    {
      "cell_type": "code",
      "metadata": {
        "id": "distinguished-carrier"
      },
      "source": [
        "# YOUR CODE HERE\n",
        "# Access get_email method from  the Employee class"
      ],
      "id": "distinguished-carrier",
      "execution_count": null,
      "outputs": []
    },
    {
      "cell_type": "markdown",
      "metadata": {
        "id": "public-router"
      },
      "source": [
        "#### Inheritance\n",
        "\n",
        "- Inheritance is a way for a class to inherit attributes from another class\n",
        "- This is a form of code reuse\n",
        "- The original class is called a base class, or a superclass, or a parent class\n",
        "- The new class is called a derived class, or a subclass, or a child class\n",
        "- The new class will typically redefine or add new attributes\n",
        "\n"
      ],
      "id": "public-router"
    },
    {
      "cell_type": "markdown",
      "metadata": {
        "id": "roman-distributor"
      },
      "source": [
        "Let us define  another class named \"Developer\" which inherits its properties from the parent class named Employee "
      ],
      "id": "roman-distributor"
    },
    {
      "cell_type": "code",
      "metadata": {
        "id": "determined-procedure"
      },
      "source": [
        "class Developer(Employee): # Child Class for Employee class defined above\n",
        "    def __init__(self,id, firstname, lastname, lang ):\n",
        "        # Call the parent class initialization\n",
        "        super().__init__(id, firstname, lastname)\n",
        "        # Developer class specific initialization \n",
        "        self.lang=lang # storing the language"
      ],
      "id": "determined-procedure",
      "execution_count": null,
      "outputs": []
    },
    {
      "cell_type": "code",
      "metadata": {
        "id": "maritime-wrist"
      },
      "source": [
        "help(Developer) # returns the description of the  Developer class"
      ],
      "id": "maritime-wrist",
      "execution_count": null,
      "outputs": []
    },
    {
      "cell_type": "code",
      "metadata": {
        "id": "electric-rating"
      },
      "source": [
        "newDeveloper = Developer(10927, \"Laxmi\", \"Kumari\", \"Python\") # Creating  a instance of a Developer class which is a child class \n",
        "newDeveloper"
      ],
      "id": "electric-rating",
      "execution_count": null,
      "outputs": []
    },
    {
      "cell_type": "markdown",
      "metadata": {
        "id": "medieval-filename"
      },
      "source": [
        "Accessing attributes and methods from Employee class"
      ],
      "id": "medieval-filename"
    },
    {
      "cell_type": "code",
      "metadata": {
        "id": "oA710X4lkST-"
      },
      "source": [
        "# YOUR CODE HERE for accessing the attributes and methods of Employee class"
      ],
      "id": "oA710X4lkST-",
      "execution_count": null,
      "outputs": []
    },
    {
      "cell_type": "markdown",
      "metadata": {
        "id": "diagnostic-repeat"
      },
      "source": [
        "Multiple classes can inherit from a base(parent) class. Let us create another child class for Employee class named as analyst "
      ],
      "id": "diagnostic-repeat"
    },
    {
      "cell_type": "code",
      "metadata": {
        "id": "pursuant-legislation"
      },
      "source": [
        "class Analyst(Employee): # Child class of Employee class defined above\n",
        "    def __init__(self,id, firstname, lastname, salary):\n",
        "        # Call the parent class initialization\n",
        "        # YOUR CODE HERE"
      ],
      "id": "pursuant-legislation",
      "execution_count": null,
      "outputs": []
    },
    {
      "cell_type": "code",
      "metadata": {
        "id": "fluid-wilson"
      },
      "source": [
        "# Description of Analyst class using help function\n",
        "help(Analyst)"
      ],
      "id": "fluid-wilson",
      "execution_count": null,
      "outputs": []
    },
    {
      "cell_type": "code",
      "metadata": {
        "id": "floating-budapest"
      },
      "source": [
        "newAnalyst = Analyst(10927, \"Laxmi\", \"Kumari\", 2000000) # Creating an instance of a Analyst class which is a child class \n",
        "newAnalyst"
      ],
      "id": "floating-budapest",
      "execution_count": null,
      "outputs": []
    },
    {
      "cell_type": "code",
      "metadata": {
        "id": "vanilla-database"
      },
      "source": [
        "newAnalyst.id, newAnalyst.get_id()"
      ],
      "id": "vanilla-database",
      "execution_count": null,
      "outputs": []
    },
    {
      "cell_type": "code",
      "metadata": {
        "id": "connected-transcript"
      },
      "source": [
        "newAnalyst.firstname, newAnalyst.get_firstname()"
      ],
      "id": "connected-transcript",
      "execution_count": null,
      "outputs": []
    },
    {
      "cell_type": "code",
      "metadata": {
        "id": "received-archive"
      },
      "source": [
        "newAnalyst.lastname, newAnalyst.get_lastname()"
      ],
      "id": "received-archive",
      "execution_count": null,
      "outputs": []
    },
    {
      "cell_type": "code",
      "metadata": {
        "id": "greater-workplace"
      },
      "source": [
        "newAnalyst.salary"
      ],
      "id": "greater-workplace",
      "execution_count": null,
      "outputs": []
    },
    {
      "cell_type": "markdown",
      "metadata": {
        "id": "upset-drill"
      },
      "source": [
        "#### Polymorphism\n",
        "\n",
        "- Different types of objects have methods with the same name that take the same arguments\n",
        "- Programmer does not need to know the exact type of an object for common operations\n",
        "- Typically the objects inherit from the same parent class\n",
        "\n"
      ],
      "id": "upset-drill"
    },
    {
      "cell_type": "markdown",
      "metadata": {
        "id": "lesbian-station"
      },
      "source": [
        "In order to understand the Polymorphism concept let us add one more attribute(salary) and method(get_bonus) to the employee class"
      ],
      "id": "lesbian-station"
    },
    {
      "cell_type": "code",
      "metadata": {
        "id": "innocent-geography"
      },
      "source": [
        "class Employee: # Class named Employee\n",
        "    def __init__(self, id, firstname, lastname, salary): # Initializing a object\n",
        "        self.id = id # Identity of an object\n",
        "        self.firstname = firstname # Firstname of the employee\n",
        "        self.lastname = lastname # Lastname of the employee\n",
        "        self.salary = salary # salary of the employee\n",
        "        self.email = firstname + '.' + lastname + '@company.com' # email Id of an Employee\n",
        "\n",
        "    # method to access id of an Employee    \n",
        "    # YOUR CODE HERE\n",
        "\n",
        "    # method to access firstname of an Employee\n",
        "    # YOUR CODE HERE\n",
        "\n",
        "    # method to access lastname of an Employee\n",
        "    # YOUR CODE HERE\n",
        "\n",
        "    # method to access email id of an Employee\n",
        "    # YOUR CODE HERE\n",
        "\n",
        "    # method to calculate the bonus. The function takes \"amount\" to be given to a employee as a argument     \n",
        "    # YOUR CODE HERE"
      ],
      "id": "innocent-geography",
      "execution_count": null,
      "outputs": []
    },
    {
      "cell_type": "code",
      "metadata": {
        "id": "adverse-techno"
      },
      "source": [
        "Employee_2 = Employee(10927, \"Laxmi\", \"Kumari\", 2000000) # Instance of an Employee class\n",
        "Employee_2"
      ],
      "id": "adverse-techno",
      "execution_count": null,
      "outputs": []
    },
    {
      "cell_type": "code",
      "metadata": {
        "id": "concerned-twist"
      },
      "source": [
        "Employee_2.salary # Accessing salary attribute of a Employee class"
      ],
      "id": "concerned-twist",
      "execution_count": null,
      "outputs": []
    },
    {
      "cell_type": "code",
      "metadata": {
        "id": "terminal-viewer"
      },
      "source": [
        "Employee_2.get_bonus(1000) # Accessing get_bonus method of a Employee class"
      ],
      "id": "terminal-viewer",
      "execution_count": null,
      "outputs": []
    },
    {
      "cell_type": "markdown",
      "metadata": {
        "id": "organic-swift"
      },
      "source": [
        "Now let us create another class named as Manager which inherits all the properties of an Employee class"
      ],
      "id": "organic-swift"
    },
    {
      "cell_type": "code",
      "metadata": {
        "id": "incorporated-colombia"
      },
      "source": [
        "class Manager(Employee):\n",
        "    def __init__(self,id, firstname, lastname, salary):\n",
        "        # Call the parent class initialization\n",
        "        super().__init__(id, firstname, lastname, salary)\n",
        "    # Modifying the get_bonus function inherited from the Employee class\n",
        "    # Polymorphism\n",
        "    def get_bonus(self, amount):\n",
        "        amount = amount * 1.5\n",
        "        return Employee.get_bonus(self, amount)"
      ],
      "id": "incorporated-colombia",
      "execution_count": null,
      "outputs": []
    },
    {
      "cell_type": "code",
      "metadata": {
        "id": "involved-windows"
      },
      "source": [
        "help(Manager) # Description of Manager function"
      ],
      "id": "involved-windows",
      "execution_count": null,
      "outputs": []
    },
    {
      "cell_type": "code",
      "metadata": {
        "id": "marked-macintosh"
      },
      "source": [
        "# YOUR CODE HERE \n",
        "# Create an instance of a Manager class"
      ],
      "id": "marked-macintosh",
      "execution_count": null,
      "outputs": []
    },
    {
      "cell_type": "code",
      "metadata": {
        "id": "linear-moldova"
      },
      "source": [
        "# YOUR CODE HERE \n",
        "# Accessing Salary attribute from Employee class"
      ],
      "id": "linear-moldova",
      "execution_count": null,
      "outputs": []
    },
    {
      "cell_type": "code",
      "metadata": {
        "id": "peripheral-attribute"
      },
      "source": [
        "# YOUR CODE HERE \n",
        "# Accessing get_bonus method from Employee class"
      ],
      "id": "peripheral-attribute",
      "execution_count": null,
      "outputs": []
    },
    {
      "cell_type": "markdown",
      "metadata": {
        "id": "essential-funeral"
      },
      "source": [
        "#### Research Questions\n",
        "\n",
        "1. Create a class that takes the following four arguments for a particular cricket player:\n",
        "\n",
        "- Name\n",
        "- Age \n",
        "- Height (in cms)\n",
        "- Country\n",
        "\n",
        "Also, create four functions for the class that returns the following strings\n",
        "\n",
        "- getName() returns \"Name of the cricketer is: Name\"\n",
        "- getAge() returns \"Age of the cricketer is: Age\"\n",
        "- getHeight() returns \"Height of the cricketer is: Height\"\n",
        "- getCountry() returns \"Cricketer plays for: Country\"\n",
        "\n",
        "**Example**\n",
        "\n",
        "cricketer_1 = Player(\"Sachin Tendulkar\", 47, 165, \"India\")\n",
        "\n",
        "cricketer_1.getName() -> Name of the cricketer is: Sachin Tendulkar\n",
        "\n",
        "cricketer_1.getAge()  -> Age of the cricketer is 47\n",
        "\n",
        "cricketer_1.getHeight() -> Height of the cricketer is 165\n",
        "\n",
        "cricketer_1.getCountry() -> Cricketer plays for: India\n"
      ],
      "id": "essential-funeral"
    },
    {
      "cell_type": "markdown",
      "metadata": {
        "id": "VHfHdGCP_n6Y"
      },
      "source": [
        "### Please answer the questions below to complete the experiment:\n",
        "\n",
        "\n"
      ],
      "id": "VHfHdGCP_n6Y"
    },
    {
      "cell_type": "code",
      "metadata": {
        "id": "ExAnJd09VKSb"
      },
      "source": [
        "# @title Which statement best describes the method of inheritance in OOP { run: \"auto\", form-width: \"500px\", display-mode: \"form\" }\n",
        "Answer = \"\" #@param [\"\",\"Inheritance describes the capability of creating new classes based on an existing class\",\"Inheritance refers to a group of properties, methods and other related members being treated as a single unit or object\",\"Inheritance allows only single-level inheritance, not multiple-level inheritance\"]"
      ],
      "id": "ExAnJd09VKSb",
      "execution_count": null,
      "outputs": []
    },
    {
      "cell_type": "code",
      "metadata": {
        "id": "NMzKSbLIgFzQ"
      },
      "source": [
        "#@title How was the experiment? { run: \"auto\", form-width: \"500px\", display-mode: \"form\" }\n",
        "Complexity = \"\" #@param [\"\",\"Too Simple, I am wasting time\", \"Good, But Not Challenging for me\", \"Good and Challenging for me\", \"Was Tough, but I did it\", \"Too Difficult for me\"]\n"
      ],
      "id": "NMzKSbLIgFzQ",
      "execution_count": null,
      "outputs": []
    },
    {
      "cell_type": "code",
      "metadata": {
        "id": "DjcH1VWSFI2l"
      },
      "source": [
        "#@title If it was too easy, what more would you have liked to be added? If it was very difficult, what would you have liked to have been removed? { run: \"auto\", display-mode: \"form\" }\n",
        "Additional = \"\" #@param {type:\"string\"}\n"
      ],
      "id": "DjcH1VWSFI2l",
      "execution_count": null,
      "outputs": []
    },
    {
      "cell_type": "code",
      "metadata": {
        "id": "4VBk_4VTAxCM"
      },
      "source": [
        "#@title Can you identify the concepts from the lecture which this experiment covered? { run: \"auto\", vertical-output: true, display-mode: \"form\" }\n",
        "Concepts = \"\" #@param [\"\",\"Yes\", \"No\"]\n"
      ],
      "id": "4VBk_4VTAxCM",
      "execution_count": null,
      "outputs": []
    },
    {
      "cell_type": "code",
      "metadata": {
        "id": "XH91cL1JWH7m"
      },
      "source": [
        "#@title  Text and image description/explanation and code comments within the experiment: { run: \"auto\", vertical-output: true, display-mode: \"form\" }\n",
        "Comments = \"\" #@param [\"\",\"Very Useful\", \"Somewhat Useful\", \"Not Useful\", \"Didn't use\"]\n"
      ],
      "id": "XH91cL1JWH7m",
      "execution_count": null,
      "outputs": []
    },
    {
      "cell_type": "code",
      "metadata": {
        "id": "z8xLqj7VWIKW"
      },
      "source": [
        "#@title Mentor Support: { run: \"auto\", vertical-output: true, display-mode: \"form\" }\n",
        "Mentor_support = \"\" #@param [\"\",\"Very Useful\", \"Somewhat Useful\", \"Not Useful\", \"Didn't use\"]\n"
      ],
      "id": "z8xLqj7VWIKW",
      "execution_count": null,
      "outputs": []
    },
    {
      "cell_type": "code",
      "metadata": {
        "id": "FzAZHt1zw-Y-",
        "cellView": "form"
      },
      "source": [
        "#@title Run this cell to submit your notebook for grading { vertical-output: true }\n",
        "try:\n",
        "  if submission_id:\n",
        "      return_id = submit_notebook()\n",
        "      if return_id : submission_id = return_id\n",
        "  else:\n",
        "      print(\"Please complete the setup first.\")\n",
        "except NameError:\n",
        "  print (\"Please complete the setup first.\")"
      ],
      "id": "FzAZHt1zw-Y-",
      "execution_count": null,
      "outputs": []
    }
  ]
}